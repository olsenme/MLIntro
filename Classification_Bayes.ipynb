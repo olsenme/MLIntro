{
  "nbformat": 4,
  "nbformat_minor": 0,
  "metadata": {
    "kernelspec": {
      "display_name": "Python 2",
      "language": "python",
      "name": "python2"
    },
    "language_info": {
      "codemirror_mode": {
        "name": "ipython",
        "version": 2
      },
      "file_extension": ".py",
      "mimetype": "text/x-python",
      "name": "python",
      "nbconvert_exporter": "python",
      "pygments_lexer": "ipython2",
      "version": "2.7.16"
    },
    "colab": {
      "name": "Classification_Bayes.ipynb",
      "provenance": [],
      "include_colab_link": true
    }
  },
  "cells": [
    {
      "cell_type": "markdown",
      "metadata": {
        "id": "view-in-github",
        "colab_type": "text"
      },
      "source": [
        "<a href=\"https://colab.research.google.com/github/olsenme/MLIntro/blob/master/Classification_Bayes.ipynb\" target=\"_parent\"><img src=\"https://colab.research.google.com/assets/colab-badge.svg\" alt=\"Open In Colab\"/></a>"
      ]
    },
    {
      "cell_type": "markdown",
      "metadata": {
        "id": "ATz1NTTscdg1",
        "colab_type": "text"
      },
      "source": [
        "In this notebook we will build a classification model using Naive Bayes classifier from python's scikit learn library"
      ]
    },
    {
      "cell_type": "markdown",
      "metadata": {
        "id": "gj-NWprVcdg6",
        "colab_type": "text"
      },
      "source": [
        "## Table of contents\n",
        "1. Data Loading\n",
        "2. Data Exploration\n",
        "3. Visualization\n",
        "4. Preprocessing\n",
        "5. Bernoulli Naive Bayes model and its variants\n",
        "6. Gaussian Naive Bayes\n",
        "7. Ensemble of Bernoulli and Gaussian model\n",
        "8. Model comparision using ROC curve"
      ]
    },
    {
      "cell_type": "markdown",
      "metadata": {
        "id": "JwWsCWu3cdg9",
        "colab_type": "text"
      },
      "source": [
        "## Loading Data"
      ]
    },
    {
      "cell_type": "markdown",
      "metadata": {
        "id": "HNoOQz1Hcdg_",
        "colab_type": "text"
      },
      "source": [
        "In this section we will import all the necessary packages and load the datasets we plan to work on. We will use the \n",
        "<a href='https://www.kaggle.com/jessemostipak/hotel-booking-demand'> Hotel booking data </a> and build a model to determine which customers will cancel their hotel booking"
      ]
    },
    {
      "cell_type": "code",
      "metadata": {
        "id": "vs98PhRhcdhC",
        "colab_type": "code",
        "colab": {}
      },
      "source": [
        "import numpy as np\n",
        "import pandas as pd\n",
        "import seaborn as sns\n",
        "import matplotlib.pyplot as plt\n",
        "from pylab import *\n",
        "from sklearn.naive_bayes import GaussianNB\n",
        "from sklearn.naive_bayes import BernoulliNB \n",
        "from sklearn.model_selection import train_test_split\n",
        "from sklearn import metrics\n",
        "from sklearn.preprocessing import LabelEncoder\n",
        "from sklearn.metrics import recall_score, precision_score, accuracy_score, f1_score\n",
        "from sklearn.metrics import confusion_matrix,auc,roc_auc_score,roc_curve\n",
        "import warnings\n",
        "warnings.filterwarnings('ignore')"
      ],
      "execution_count": 0,
      "outputs": []
    },
    {
      "cell_type": "code",
      "metadata": {
        "id": "0hBvL-NpcdhQ",
        "colab_type": "code",
        "colab": {}
      },
      "source": [
        "# Load the data\n",
        "# file_path = 'C:\\Users\\Tejal\\Documents\\Tejal\\WWC-siliconvalley\\hotel_bookings.csv'\n",
        "file_path = 'https://raw.githubusercontent.com/rfordatascience/tidytuesday/master/data/2020/2020-02-11/hotels.csv'\n",
        "df = pd.read_csv(file_path)"
      ],
      "execution_count": 0,
      "outputs": []
    },
    {
      "cell_type": "markdown",
      "metadata": {
        "id": "H4b6PZx7cdhY",
        "colab_type": "text"
      },
      "source": [
        "## Explore the dataset"
      ]
    },
    {
      "cell_type": "markdown",
      "metadata": {
        "id": "lP8ywTQFcdhb",
        "colab_type": "text"
      },
      "source": [
        "Understanding the data, its features and distribution is a major part of builiding ML models. "
      ]
    },
    {
      "cell_type": "code",
      "metadata": {
        "id": "cpQKb-ztcdhc",
        "colab_type": "code",
        "outputId": "30c3a6d0-332c-4e11-e683-4aac769b5d8d",
        "colab": {
          "base_uri": "https://localhost:8080/",
          "height": 313
        }
      },
      "source": [
        "df.head()"
      ],
      "execution_count": 3,
      "outputs": [
        {
          "output_type": "execute_result",
          "data": {
            "text/plain": [
              "          hotel  is_canceled  ...  reservation_status  reservation_status_date\n",
              "0  Resort Hotel            0  ...           Check-Out               2015-07-01\n",
              "1  Resort Hotel            0  ...           Check-Out               2015-07-01\n",
              "2  Resort Hotel            0  ...           Check-Out               2015-07-02\n",
              "3  Resort Hotel            0  ...           Check-Out               2015-07-02\n",
              "4  Resort Hotel            0  ...           Check-Out               2015-07-03\n",
              "\n",
              "[5 rows x 32 columns]"
            ],
            "text/html": [
              "<div>\n",
              "<style scoped>\n",
              "    .dataframe tbody tr th:only-of-type {\n",
              "        vertical-align: middle;\n",
              "    }\n",
              "\n",
              "    .dataframe tbody tr th {\n",
              "        vertical-align: top;\n",
              "    }\n",
              "\n",
              "    .dataframe thead th {\n",
              "        text-align: right;\n",
              "    }\n",
              "</style>\n",
              "<table border=\"1\" class=\"dataframe\">\n",
              "  <thead>\n",
              "    <tr style=\"text-align: right;\">\n",
              "      <th></th>\n",
              "      <th>hotel</th>\n",
              "      <th>is_canceled</th>\n",
              "      <th>lead_time</th>\n",
              "      <th>arrival_date_year</th>\n",
              "      <th>arrival_date_month</th>\n",
              "      <th>arrival_date_week_number</th>\n",
              "      <th>arrival_date_day_of_month</th>\n",
              "      <th>stays_in_weekend_nights</th>\n",
              "      <th>stays_in_week_nights</th>\n",
              "      <th>adults</th>\n",
              "      <th>children</th>\n",
              "      <th>babies</th>\n",
              "      <th>meal</th>\n",
              "      <th>country</th>\n",
              "      <th>market_segment</th>\n",
              "      <th>distribution_channel</th>\n",
              "      <th>is_repeated_guest</th>\n",
              "      <th>previous_cancellations</th>\n",
              "      <th>previous_bookings_not_canceled</th>\n",
              "      <th>reserved_room_type</th>\n",
              "      <th>assigned_room_type</th>\n",
              "      <th>booking_changes</th>\n",
              "      <th>deposit_type</th>\n",
              "      <th>agent</th>\n",
              "      <th>company</th>\n",
              "      <th>days_in_waiting_list</th>\n",
              "      <th>customer_type</th>\n",
              "      <th>adr</th>\n",
              "      <th>required_car_parking_spaces</th>\n",
              "      <th>total_of_special_requests</th>\n",
              "      <th>reservation_status</th>\n",
              "      <th>reservation_status_date</th>\n",
              "    </tr>\n",
              "  </thead>\n",
              "  <tbody>\n",
              "    <tr>\n",
              "      <th>0</th>\n",
              "      <td>Resort Hotel</td>\n",
              "      <td>0</td>\n",
              "      <td>342</td>\n",
              "      <td>2015</td>\n",
              "      <td>July</td>\n",
              "      <td>27</td>\n",
              "      <td>1</td>\n",
              "      <td>0</td>\n",
              "      <td>0</td>\n",
              "      <td>2</td>\n",
              "      <td>0.0</td>\n",
              "      <td>0</td>\n",
              "      <td>BB</td>\n",
              "      <td>PRT</td>\n",
              "      <td>Direct</td>\n",
              "      <td>Direct</td>\n",
              "      <td>0</td>\n",
              "      <td>0</td>\n",
              "      <td>0</td>\n",
              "      <td>C</td>\n",
              "      <td>C</td>\n",
              "      <td>3</td>\n",
              "      <td>No Deposit</td>\n",
              "      <td>NaN</td>\n",
              "      <td>NaN</td>\n",
              "      <td>0</td>\n",
              "      <td>Transient</td>\n",
              "      <td>0.0</td>\n",
              "      <td>0</td>\n",
              "      <td>0</td>\n",
              "      <td>Check-Out</td>\n",
              "      <td>2015-07-01</td>\n",
              "    </tr>\n",
              "    <tr>\n",
              "      <th>1</th>\n",
              "      <td>Resort Hotel</td>\n",
              "      <td>0</td>\n",
              "      <td>737</td>\n",
              "      <td>2015</td>\n",
              "      <td>July</td>\n",
              "      <td>27</td>\n",
              "      <td>1</td>\n",
              "      <td>0</td>\n",
              "      <td>0</td>\n",
              "      <td>2</td>\n",
              "      <td>0.0</td>\n",
              "      <td>0</td>\n",
              "      <td>BB</td>\n",
              "      <td>PRT</td>\n",
              "      <td>Direct</td>\n",
              "      <td>Direct</td>\n",
              "      <td>0</td>\n",
              "      <td>0</td>\n",
              "      <td>0</td>\n",
              "      <td>C</td>\n",
              "      <td>C</td>\n",
              "      <td>4</td>\n",
              "      <td>No Deposit</td>\n",
              "      <td>NaN</td>\n",
              "      <td>NaN</td>\n",
              "      <td>0</td>\n",
              "      <td>Transient</td>\n",
              "      <td>0.0</td>\n",
              "      <td>0</td>\n",
              "      <td>0</td>\n",
              "      <td>Check-Out</td>\n",
              "      <td>2015-07-01</td>\n",
              "    </tr>\n",
              "    <tr>\n",
              "      <th>2</th>\n",
              "      <td>Resort Hotel</td>\n",
              "      <td>0</td>\n",
              "      <td>7</td>\n",
              "      <td>2015</td>\n",
              "      <td>July</td>\n",
              "      <td>27</td>\n",
              "      <td>1</td>\n",
              "      <td>0</td>\n",
              "      <td>1</td>\n",
              "      <td>1</td>\n",
              "      <td>0.0</td>\n",
              "      <td>0</td>\n",
              "      <td>BB</td>\n",
              "      <td>GBR</td>\n",
              "      <td>Direct</td>\n",
              "      <td>Direct</td>\n",
              "      <td>0</td>\n",
              "      <td>0</td>\n",
              "      <td>0</td>\n",
              "      <td>A</td>\n",
              "      <td>C</td>\n",
              "      <td>0</td>\n",
              "      <td>No Deposit</td>\n",
              "      <td>NaN</td>\n",
              "      <td>NaN</td>\n",
              "      <td>0</td>\n",
              "      <td>Transient</td>\n",
              "      <td>75.0</td>\n",
              "      <td>0</td>\n",
              "      <td>0</td>\n",
              "      <td>Check-Out</td>\n",
              "      <td>2015-07-02</td>\n",
              "    </tr>\n",
              "    <tr>\n",
              "      <th>3</th>\n",
              "      <td>Resort Hotel</td>\n",
              "      <td>0</td>\n",
              "      <td>13</td>\n",
              "      <td>2015</td>\n",
              "      <td>July</td>\n",
              "      <td>27</td>\n",
              "      <td>1</td>\n",
              "      <td>0</td>\n",
              "      <td>1</td>\n",
              "      <td>1</td>\n",
              "      <td>0.0</td>\n",
              "      <td>0</td>\n",
              "      <td>BB</td>\n",
              "      <td>GBR</td>\n",
              "      <td>Corporate</td>\n",
              "      <td>Corporate</td>\n",
              "      <td>0</td>\n",
              "      <td>0</td>\n",
              "      <td>0</td>\n",
              "      <td>A</td>\n",
              "      <td>A</td>\n",
              "      <td>0</td>\n",
              "      <td>No Deposit</td>\n",
              "      <td>304.0</td>\n",
              "      <td>NaN</td>\n",
              "      <td>0</td>\n",
              "      <td>Transient</td>\n",
              "      <td>75.0</td>\n",
              "      <td>0</td>\n",
              "      <td>0</td>\n",
              "      <td>Check-Out</td>\n",
              "      <td>2015-07-02</td>\n",
              "    </tr>\n",
              "    <tr>\n",
              "      <th>4</th>\n",
              "      <td>Resort Hotel</td>\n",
              "      <td>0</td>\n",
              "      <td>14</td>\n",
              "      <td>2015</td>\n",
              "      <td>July</td>\n",
              "      <td>27</td>\n",
              "      <td>1</td>\n",
              "      <td>0</td>\n",
              "      <td>2</td>\n",
              "      <td>2</td>\n",
              "      <td>0.0</td>\n",
              "      <td>0</td>\n",
              "      <td>BB</td>\n",
              "      <td>GBR</td>\n",
              "      <td>Online TA</td>\n",
              "      <td>TA/TO</td>\n",
              "      <td>0</td>\n",
              "      <td>0</td>\n",
              "      <td>0</td>\n",
              "      <td>A</td>\n",
              "      <td>A</td>\n",
              "      <td>0</td>\n",
              "      <td>No Deposit</td>\n",
              "      <td>240.0</td>\n",
              "      <td>NaN</td>\n",
              "      <td>0</td>\n",
              "      <td>Transient</td>\n",
              "      <td>98.0</td>\n",
              "      <td>0</td>\n",
              "      <td>1</td>\n",
              "      <td>Check-Out</td>\n",
              "      <td>2015-07-03</td>\n",
              "    </tr>\n",
              "  </tbody>\n",
              "</table>\n",
              "</div>"
            ]
          },
          "metadata": {
            "tags": []
          },
          "execution_count": 3
        }
      ]
    },
    {
      "cell_type": "code",
      "metadata": {
        "id": "Qi7DLaJkcdhl",
        "colab_type": "code",
        "outputId": "e4803475-ace6-4e37-bfa9-26c1d30ebca1",
        "colab": {
          "base_uri": "https://localhost:8080/",
          "height": 34
        }
      },
      "source": [
        "# Data has 119390 rows (data points) and 32 columns (features)\n",
        "df.shape   "
      ],
      "execution_count": 4,
      "outputs": [
        {
          "output_type": "execute_result",
          "data": {
            "text/plain": [
              "(119390, 32)"
            ]
          },
          "metadata": {
            "tags": []
          },
          "execution_count": 4
        }
      ]
    },
    {
      "cell_type": "code",
      "metadata": {
        "id": "nJ0h48d1cdhs",
        "colab_type": "code",
        "outputId": "461ff6a8-8f1e-419f-8463-fbdc486c5404",
        "colab": {
          "base_uri": "https://localhost:8080/",
          "height": 590
        }
      },
      "source": [
        "# Check the datatype of features\n",
        "df.dtypes"
      ],
      "execution_count": 5,
      "outputs": [
        {
          "output_type": "execute_result",
          "data": {
            "text/plain": [
              "hotel                              object\n",
              "is_canceled                         int64\n",
              "lead_time                           int64\n",
              "arrival_date_year                   int64\n",
              "arrival_date_month                 object\n",
              "arrival_date_week_number            int64\n",
              "arrival_date_day_of_month           int64\n",
              "stays_in_weekend_nights             int64\n",
              "stays_in_week_nights                int64\n",
              "adults                              int64\n",
              "children                          float64\n",
              "babies                              int64\n",
              "meal                               object\n",
              "country                            object\n",
              "market_segment                     object\n",
              "distribution_channel               object\n",
              "is_repeated_guest                   int64\n",
              "previous_cancellations              int64\n",
              "previous_bookings_not_canceled      int64\n",
              "reserved_room_type                 object\n",
              "assigned_room_type                 object\n",
              "booking_changes                     int64\n",
              "deposit_type                       object\n",
              "agent                             float64\n",
              "company                           float64\n",
              "days_in_waiting_list                int64\n",
              "customer_type                      object\n",
              "adr                               float64\n",
              "required_car_parking_spaces         int64\n",
              "total_of_special_requests           int64\n",
              "reservation_status                 object\n",
              "reservation_status_date            object\n",
              "dtype: object"
            ]
          },
          "metadata": {
            "tags": []
          },
          "execution_count": 5
        }
      ]
    },
    {
      "cell_type": "code",
      "metadata": {
        "id": "3_U0d1M-cdh3",
        "colab_type": "code",
        "outputId": "e068602b-7b92-45e0-f0a1-2e5cc9380c07",
        "colab": {
          "base_uri": "https://localhost:8080/",
          "height": 225
        }
      },
      "source": [
        "# Feature list \n",
        "df.columns"
      ],
      "execution_count": 6,
      "outputs": [
        {
          "output_type": "execute_result",
          "data": {
            "text/plain": [
              "Index([u'hotel', u'is_canceled', u'lead_time', u'arrival_date_year',\n",
              "       u'arrival_date_month', u'arrival_date_week_number',\n",
              "       u'arrival_date_day_of_month', u'stays_in_weekend_nights',\n",
              "       u'stays_in_week_nights', u'adults', u'children', u'babies', u'meal',\n",
              "       u'country', u'market_segment', u'distribution_channel',\n",
              "       u'is_repeated_guest', u'previous_cancellations',\n",
              "       u'previous_bookings_not_canceled', u'reserved_room_type',\n",
              "       u'assigned_room_type', u'booking_changes', u'deposit_type', u'agent',\n",
              "       u'company', u'days_in_waiting_list', u'customer_type', u'adr',\n",
              "       u'required_car_parking_spaces', u'total_of_special_requests',\n",
              "       u'reservation_status', u'reservation_status_date'],\n",
              "      dtype='object')"
            ]
          },
          "metadata": {
            "tags": []
          },
          "execution_count": 6
        }
      ]
    },
    {
      "cell_type": "code",
      "metadata": {
        "id": "TJAvL9xjcdiG",
        "colab_type": "code",
        "outputId": "68c5aad3-3ada-4a5b-d05e-2078f8f6cb14",
        "colab": {
          "base_uri": "https://localhost:8080/",
          "height": 1000
        }
      },
      "source": [
        "# Check for null values\n",
        "percent_missing = df.isnull().sum() * 100 / len(df)\n",
        "missing_value_df = pd.DataFrame({'column_name': df.columns,\n",
        "                                 'percent_missing': percent_missing})\n",
        "missing_value_df.sort_values('percent_missing', ascending=False,inplace=True)\n",
        "missing_value_df"
      ],
      "execution_count": 7,
      "outputs": [
        {
          "output_type": "execute_result",
          "data": {
            "text/plain": [
              "                                                   column_name  percent_missing\n",
              "company                                                company        94.306893\n",
              "agent                                                    agent        13.686238\n",
              "country                                                country         0.408744\n",
              "children                                              children         0.003350\n",
              "reserved_room_type                          reserved_room_type         0.000000\n",
              "assigned_room_type                          assigned_room_type         0.000000\n",
              "booking_changes                                booking_changes         0.000000\n",
              "deposit_type                                      deposit_type         0.000000\n",
              "hotel                                                    hotel         0.000000\n",
              "previous_cancellations                  previous_cancellations         0.000000\n",
              "days_in_waiting_list                      days_in_waiting_list         0.000000\n",
              "customer_type                                    customer_type         0.000000\n",
              "adr                                                        adr         0.000000\n",
              "required_car_parking_spaces        required_car_parking_spaces         0.000000\n",
              "total_of_special_requests            total_of_special_requests         0.000000\n",
              "reservation_status                          reservation_status         0.000000\n",
              "previous_bookings_not_canceled  previous_bookings_not_canceled         0.000000\n",
              "is_repeated_guest                            is_repeated_guest         0.000000\n",
              "is_canceled                                        is_canceled         0.000000\n",
              "distribution_channel                      distribution_channel         0.000000\n",
              "market_segment                                  market_segment         0.000000\n",
              "meal                                                      meal         0.000000\n",
              "babies                                                  babies         0.000000\n",
              "adults                                                  adults         0.000000\n",
              "stays_in_week_nights                      stays_in_week_nights         0.000000\n",
              "stays_in_weekend_nights                stays_in_weekend_nights         0.000000\n",
              "arrival_date_day_of_month            arrival_date_day_of_month         0.000000\n",
              "arrival_date_week_number              arrival_date_week_number         0.000000\n",
              "arrival_date_month                          arrival_date_month         0.000000\n",
              "arrival_date_year                            arrival_date_year         0.000000\n",
              "lead_time                                            lead_time         0.000000\n",
              "reservation_status_date                reservation_status_date         0.000000"
            ],
            "text/html": [
              "<div>\n",
              "<style scoped>\n",
              "    .dataframe tbody tr th:only-of-type {\n",
              "        vertical-align: middle;\n",
              "    }\n",
              "\n",
              "    .dataframe tbody tr th {\n",
              "        vertical-align: top;\n",
              "    }\n",
              "\n",
              "    .dataframe thead th {\n",
              "        text-align: right;\n",
              "    }\n",
              "</style>\n",
              "<table border=\"1\" class=\"dataframe\">\n",
              "  <thead>\n",
              "    <tr style=\"text-align: right;\">\n",
              "      <th></th>\n",
              "      <th>column_name</th>\n",
              "      <th>percent_missing</th>\n",
              "    </tr>\n",
              "  </thead>\n",
              "  <tbody>\n",
              "    <tr>\n",
              "      <th>company</th>\n",
              "      <td>company</td>\n",
              "      <td>94.306893</td>\n",
              "    </tr>\n",
              "    <tr>\n",
              "      <th>agent</th>\n",
              "      <td>agent</td>\n",
              "      <td>13.686238</td>\n",
              "    </tr>\n",
              "    <tr>\n",
              "      <th>country</th>\n",
              "      <td>country</td>\n",
              "      <td>0.408744</td>\n",
              "    </tr>\n",
              "    <tr>\n",
              "      <th>children</th>\n",
              "      <td>children</td>\n",
              "      <td>0.003350</td>\n",
              "    </tr>\n",
              "    <tr>\n",
              "      <th>reserved_room_type</th>\n",
              "      <td>reserved_room_type</td>\n",
              "      <td>0.000000</td>\n",
              "    </tr>\n",
              "    <tr>\n",
              "      <th>assigned_room_type</th>\n",
              "      <td>assigned_room_type</td>\n",
              "      <td>0.000000</td>\n",
              "    </tr>\n",
              "    <tr>\n",
              "      <th>booking_changes</th>\n",
              "      <td>booking_changes</td>\n",
              "      <td>0.000000</td>\n",
              "    </tr>\n",
              "    <tr>\n",
              "      <th>deposit_type</th>\n",
              "      <td>deposit_type</td>\n",
              "      <td>0.000000</td>\n",
              "    </tr>\n",
              "    <tr>\n",
              "      <th>hotel</th>\n",
              "      <td>hotel</td>\n",
              "      <td>0.000000</td>\n",
              "    </tr>\n",
              "    <tr>\n",
              "      <th>previous_cancellations</th>\n",
              "      <td>previous_cancellations</td>\n",
              "      <td>0.000000</td>\n",
              "    </tr>\n",
              "    <tr>\n",
              "      <th>days_in_waiting_list</th>\n",
              "      <td>days_in_waiting_list</td>\n",
              "      <td>0.000000</td>\n",
              "    </tr>\n",
              "    <tr>\n",
              "      <th>customer_type</th>\n",
              "      <td>customer_type</td>\n",
              "      <td>0.000000</td>\n",
              "    </tr>\n",
              "    <tr>\n",
              "      <th>adr</th>\n",
              "      <td>adr</td>\n",
              "      <td>0.000000</td>\n",
              "    </tr>\n",
              "    <tr>\n",
              "      <th>required_car_parking_spaces</th>\n",
              "      <td>required_car_parking_spaces</td>\n",
              "      <td>0.000000</td>\n",
              "    </tr>\n",
              "    <tr>\n",
              "      <th>total_of_special_requests</th>\n",
              "      <td>total_of_special_requests</td>\n",
              "      <td>0.000000</td>\n",
              "    </tr>\n",
              "    <tr>\n",
              "      <th>reservation_status</th>\n",
              "      <td>reservation_status</td>\n",
              "      <td>0.000000</td>\n",
              "    </tr>\n",
              "    <tr>\n",
              "      <th>previous_bookings_not_canceled</th>\n",
              "      <td>previous_bookings_not_canceled</td>\n",
              "      <td>0.000000</td>\n",
              "    </tr>\n",
              "    <tr>\n",
              "      <th>is_repeated_guest</th>\n",
              "      <td>is_repeated_guest</td>\n",
              "      <td>0.000000</td>\n",
              "    </tr>\n",
              "    <tr>\n",
              "      <th>is_canceled</th>\n",
              "      <td>is_canceled</td>\n",
              "      <td>0.000000</td>\n",
              "    </tr>\n",
              "    <tr>\n",
              "      <th>distribution_channel</th>\n",
              "      <td>distribution_channel</td>\n",
              "      <td>0.000000</td>\n",
              "    </tr>\n",
              "    <tr>\n",
              "      <th>market_segment</th>\n",
              "      <td>market_segment</td>\n",
              "      <td>0.000000</td>\n",
              "    </tr>\n",
              "    <tr>\n",
              "      <th>meal</th>\n",
              "      <td>meal</td>\n",
              "      <td>0.000000</td>\n",
              "    </tr>\n",
              "    <tr>\n",
              "      <th>babies</th>\n",
              "      <td>babies</td>\n",
              "      <td>0.000000</td>\n",
              "    </tr>\n",
              "    <tr>\n",
              "      <th>adults</th>\n",
              "      <td>adults</td>\n",
              "      <td>0.000000</td>\n",
              "    </tr>\n",
              "    <tr>\n",
              "      <th>stays_in_week_nights</th>\n",
              "      <td>stays_in_week_nights</td>\n",
              "      <td>0.000000</td>\n",
              "    </tr>\n",
              "    <tr>\n",
              "      <th>stays_in_weekend_nights</th>\n",
              "      <td>stays_in_weekend_nights</td>\n",
              "      <td>0.000000</td>\n",
              "    </tr>\n",
              "    <tr>\n",
              "      <th>arrival_date_day_of_month</th>\n",
              "      <td>arrival_date_day_of_month</td>\n",
              "      <td>0.000000</td>\n",
              "    </tr>\n",
              "    <tr>\n",
              "      <th>arrival_date_week_number</th>\n",
              "      <td>arrival_date_week_number</td>\n",
              "      <td>0.000000</td>\n",
              "    </tr>\n",
              "    <tr>\n",
              "      <th>arrival_date_month</th>\n",
              "      <td>arrival_date_month</td>\n",
              "      <td>0.000000</td>\n",
              "    </tr>\n",
              "    <tr>\n",
              "      <th>arrival_date_year</th>\n",
              "      <td>arrival_date_year</td>\n",
              "      <td>0.000000</td>\n",
              "    </tr>\n",
              "    <tr>\n",
              "      <th>lead_time</th>\n",
              "      <td>lead_time</td>\n",
              "      <td>0.000000</td>\n",
              "    </tr>\n",
              "    <tr>\n",
              "      <th>reservation_status_date</th>\n",
              "      <td>reservation_status_date</td>\n",
              "      <td>0.000000</td>\n",
              "    </tr>\n",
              "  </tbody>\n",
              "</table>\n",
              "</div>"
            ]
          },
          "metadata": {
            "tags": []
          },
          "execution_count": 7
        }
      ]
    },
    {
      "cell_type": "markdown",
      "metadata": {
        "id": "W8bOq4HRcdiN",
        "colab_type": "text"
      },
      "source": [
        "Company, agent, country and children have null values. There are multiple techniques for imputing null value but for simplicity we impute them with 0. As company has a very high null value percentage we will drop the column"
      ]
    },
    {
      "cell_type": "code",
      "metadata": {
        "id": "9LNNH7a7cdiO",
        "colab_type": "code",
        "colab": {}
      },
      "source": [
        "# Let us create a copy of dataframe for backup and impute null with 0\n",
        "backup_df=df.copy\n",
        "df = df.drop('company',axis=1)\n",
        "df=df.fillna(0)"
      ],
      "execution_count": 0,
      "outputs": []
    },
    {
      "cell_type": "code",
      "metadata": {
        "id": "ZZx5Gbd6cdiV",
        "colab_type": "code",
        "outputId": "03ea48e7-c373-403e-8b8f-ff7307b50733",
        "colab": {
          "base_uri": "https://localhost:8080/",
          "height": 34
        }
      },
      "source": [
        "# The df has no Null values\n",
        "(df['agent'].isnull().sum()/len(df)) * 100"
      ],
      "execution_count": 0,
      "outputs": [
        {
          "output_type": "execute_result",
          "data": {
            "text/plain": [
              "0"
            ]
          },
          "metadata": {
            "tags": []
          },
          "execution_count": 10
        }
      ]
    },
    {
      "cell_type": "markdown",
      "metadata": {
        "id": "4zX_z3D3cdie",
        "colab_type": "text"
      },
      "source": [
        "## Data Visualization"
      ]
    },
    {
      "cell_type": "markdown",
      "metadata": {
        "id": "TKx9Wnqlcdig",
        "colab_type": "text"
      },
      "source": [
        "In this task, our target variable is is_cancelled which indicates if the booking was cancelled. 1 --> canceled, 0 --> Not canceled "
      ]
    },
    {
      "cell_type": "code",
      "metadata": {
        "id": "GLofpNIjcdig",
        "colab_type": "code",
        "outputId": "c7bc25e2-7889-40c4-873a-6b79f6bd5bb4",
        "colab": {
          "base_uri": "https://localhost:8080/",
          "height": 272
        }
      },
      "source": [
        "df['is_canceled'].value_counts().plot(kind='pie',autopct='%1.1f%%')"
      ],
      "execution_count": 9,
      "outputs": [
        {
          "output_type": "execute_result",
          "data": {
            "text/plain": [
              "<matplotlib.axes._subplots.AxesSubplot at 0x7fd0d785b1d0>"
            ]
          },
          "metadata": {
            "tags": []
          },
          "execution_count": 9
        },
        {
          "output_type": "display_data",
          "data": {
            "image/png": "[encoded data removed]",
            "text/plain": [
              "<Figure size 432x288 with 1 Axes>"
            ]
          },
          "metadata": {
            "tags": []
          }
        }
      ]
    },
    {
      "cell_type": "markdown",
      "metadata": {
        "id": "w1qaylqtcdio",
        "colab_type": "text"
      },
      "source": [
        "37% customers have cancelled their bookings. we see that our data in imbalanced"
      ]
    },
    {
      "cell_type": "code",
      "metadata": {
        "id": "QbdXLMHncdip",
        "colab_type": "code",
        "outputId": "5513322d-5953-44d9-81d8-b15eb87a29ee",
        "colab": {
          "base_uri": "https://localhost:8080/",
          "height": 225
        }
      },
      "source": [
        "df.columns"
      ],
      "execution_count": 10,
      "outputs": [
        {
          "output_type": "execute_result",
          "data": {
            "text/plain": [
              "Index([u'hotel', u'is_canceled', u'lead_time', u'arrival_date_year',\n",
              "       u'arrival_date_month', u'arrival_date_week_number',\n",
              "       u'arrival_date_day_of_month', u'stays_in_weekend_nights',\n",
              "       u'stays_in_week_nights', u'adults', u'children', u'babies', u'meal',\n",
              "       u'country', u'market_segment', u'distribution_channel',\n",
              "       u'is_repeated_guest', u'previous_cancellations',\n",
              "       u'previous_bookings_not_canceled', u'reserved_room_type',\n",
              "       u'assigned_room_type', u'booking_changes', u'deposit_type', u'agent',\n",
              "       u'days_in_waiting_list', u'customer_type', u'adr',\n",
              "       u'required_car_parking_spaces', u'total_of_special_requests',\n",
              "       u'reservation_status', u'reservation_status_date'],\n",
              "      dtype='object')"
            ]
          },
          "metadata": {
            "tags": []
          },
          "execution_count": 10
        }
      ]
    },
    {
      "cell_type": "code",
      "metadata": {
        "id": "Bzfhw1TLcdix",
        "colab_type": "code",
        "outputId": "7c50b684-08fc-4855-84b3-22a4dbf04bec",
        "colab": {
          "base_uri": "https://localhost:8080/",
          "height": 272
        }
      },
      "source": [
        "# Hotel feature count and distribution across 0 and 1 class \n",
        "df['hotel'].value_counts().plot(kind='pie',autopct='%1.1f%%')"
      ],
      "execution_count": 11,
      "outputs": [
        {
          "output_type": "execute_result",
          "data": {
            "text/plain": [
              "<matplotlib.axes._subplots.AxesSubplot at 0x7fd0d99c6410>"
            ]
          },
          "metadata": {
            "tags": []
          },
          "execution_count": 11
        },
        {
          "output_type": "display_data",
          "data": {
            "image/png": "[encoded data removed]",
            "text/plain": [
              "<Figure size 432x288 with 1 Axes>"
            ]
          },
          "metadata": {
            "tags": []
          }
        }
      ]
    },
    {
      "cell_type": "code",
      "metadata": {
        "id": "_TBp9g42cdi4",
        "colab_type": "code",
        "outputId": "f1e43fa5-57ca-4f02-f8e7-8bc4f07d7f65",
        "colab": {
          "base_uri": "https://localhost:8080/",
          "height": 301
        }
      },
      "source": [
        "sns.countplot(x='is_canceled',hue='hotel',data=df)"
      ],
      "execution_count": 12,
      "outputs": [
        {
          "output_type": "execute_result",
          "data": {
            "text/plain": [
              "<matplotlib.axes._subplots.AxesSubplot at 0x7fd0d656ad10>"
            ]
          },
          "metadata": {
            "tags": []
          },
          "execution_count": 12
        },
        {
          "output_type": "display_data",
          "data": {
            "image/png": "[encoded data removed]",
            "text/plain": [
              "<Figure size 432x288 with 1 Axes>"
            ]
          },
          "metadata": {
            "tags": [],
            "needs_background": "light"
          }
        }
      ]
    },
    {
      "cell_type": "markdown",
      "metadata": {
        "id": "kv7ZnRYtcdi-",
        "colab_type": "text"
      },
      "source": [
        "As data has higher city hotel reservation data points compared to resort, above observation is on par with  same trend"
      ]
    },
    {
      "cell_type": "code",
      "metadata": {
        "scrolled": true,
        "id": "Rvaj0-s_cdi_",
        "colab_type": "code",
        "outputId": "f3d5cb5b-f466-4268-f77b-9ff88e7da955",
        "colab": {
          "base_uri": "https://localhost:8080/",
          "height": 371
        }
      },
      "source": [
        "#market segments\n",
        "df.groupby(['market_segment'])['is_canceled'].count().plot(kind='bar')"
      ],
      "execution_count": 13,
      "outputs": [
        {
          "output_type": "execute_result",
          "data": {
            "text/plain": [
              "<matplotlib.axes._subplots.AxesSubplot at 0x7fd0d3cd5490>"
            ]
          },
          "metadata": {
            "tags": []
          },
          "execution_count": 13
        },
        {
          "output_type": "display_data",
          "data": {
            "image/png": "[encoded data removed]",
            "text/plain": [
              "<Figure size 432x288 with 1 Axes>"
            ]
          },
          "metadata": {
            "tags": [],
            "needs_background": "light"
          }
        }
      ]
    },
    {
      "cell_type": "markdown",
      "metadata": {
        "id": "CnLyvxETcdjG",
        "colab_type": "text"
      },
      "source": [
        "## Feature Engineering"
      ]
    },
    {
      "cell_type": "markdown",
      "metadata": {
        "id": "K_hnHPArcdjH",
        "colab_type": "text"
      },
      "source": [
        "1. Derive new features using existing features\n",
        "2. Remove irrelevant features\n",
        "3. Transform existing features\n",
        "4. Encoding categorical variables"
      ]
    },
    {
      "cell_type": "code",
      "metadata": {
        "id": "IdNA-q9ncdjH",
        "colab_type": "code",
        "colab": {}
      },
      "source": [
        "# Split data into train test set in train:test=70:30 size\n",
        "train, test = train_test_split(df, test_size=0.3, random_state = 42)"
      ],
      "execution_count": 0,
      "outputs": []
    },
    {
      "cell_type": "code",
      "metadata": {
        "id": "c7Sbu2oOcdjN",
        "colab_type": "code",
        "outputId": "823b3bdf-b748-43e4-91f2-6cfe3836f221",
        "colab": {
          "base_uri": "https://localhost:8080/",
          "height": 34
        }
      },
      "source": [
        "train.shape"
      ],
      "execution_count": 15,
      "outputs": [
        {
          "output_type": "execute_result",
          "data": {
            "text/plain": [
              "(83573, 31)"
            ]
          },
          "metadata": {
            "tags": []
          },
          "execution_count": 15
        }
      ]
    },
    {
      "cell_type": "code",
      "metadata": {
        "id": "E410WJdhcdjS",
        "colab_type": "code",
        "outputId": "30078e21-3e5e-4bc2-9074-8b6c12634db7",
        "colab": {
          "base_uri": "https://localhost:8080/",
          "height": 34
        }
      },
      "source": [
        "test.shape"
      ],
      "execution_count": 16,
      "outputs": [
        {
          "output_type": "execute_result",
          "data": {
            "text/plain": [
              "(35817, 31)"
            ]
          },
          "metadata": {
            "tags": []
          },
          "execution_count": 16
        }
      ]
    },
    {
      "cell_type": "code",
      "metadata": {
        "id": "E6OMxvH_cdjX",
        "colab_type": "code",
        "colab": {}
      },
      "source": [
        "#Let us add weekend stay and weekday stay days to get total days of stay\n",
        "train['total_days'] = train['stays_in_week_nights'] + train['stays_in_weekend_nights']\n",
        "test['total_days'] = test['stays_in_week_nights'] + test['stays_in_weekend_nights']\n",
        "\n",
        "# drop the weekend stay and weekday stay days features\n",
        "train = train.drop('stays_in_week_nights',axis=1).drop('stays_in_weekend_nights',axis=1)\n",
        "test = test.drop('stays_in_week_nights',axis=1).drop('stays_in_weekend_nights',axis=1)"
      ],
      "execution_count": 0,
      "outputs": []
    },
    {
      "cell_type": "code",
      "metadata": {
        "id": "K1lqpxhgcdjc",
        "colab_type": "code",
        "outputId": "d73573c3-5c13-474c-eac5-865158569243",
        "colab": {}
      },
      "source": [
        "train_0=train[(train['is_canceled']==0)]\n",
        "train_1=train[train['is_canceled']==1]\n",
        "sns.set(rc={\"figure.figsize\": (20, 20)})\n",
        "subplot(2,2,1)\n",
        "ax = sns.distplot(train_0['total_days'], bins=100, color='r')\n",
        "subplot(2,2,2)\n",
        "ax=sns.distplot(train_1['total_days'], bins=100, color='g')"
      ],
      "execution_count": 0,
      "outputs": [
        {
          "output_type": "display_data",
          "data": {
            "image/png": "[encoded data removed]",
            "text/plain": [
              "<Figure size 1440x1440 with 2 Axes>"
            ]
          },
          "metadata": {
            "tags": []
          }
        }
      ]
    },
    {
      "cell_type": "code",
      "metadata": {
        "id": "x0467fBDcdjh",
        "colab_type": "code",
        "colab": {}
      },
      "source": [
        "#Total customers\n",
        "train['total_customers'] = train['adults'] + train['children']+train['babies']\n",
        "test['total_customers'] = test['adults'] + test['children']+test['babies']\n",
        "\n",
        "train = train.drop('adults',axis=1).drop('children',axis=1).drop('babies',axis=1)\n",
        "test = test.drop('adults',axis=1).drop('children',axis=1).drop('babies',axis=1)"
      ],
      "execution_count": 0,
      "outputs": []
    },
    {
      "cell_type": "code",
      "metadata": {
        "id": "AOP2qVYRcdjm",
        "colab_type": "code",
        "outputId": "781ece10-9b66-4e5b-cb25-00700deb9e9a",
        "colab": {
          "base_uri": "https://localhost:8080/",
          "height": 352
        }
      },
      "source": [
        "train['total_customers'].value_counts().plot('bar',figsize=(5,5)) "
      ],
      "execution_count": 21,
      "outputs": [
        {
          "output_type": "execute_result",
          "data": {
            "text/plain": [
              "<matplotlib.axes._subplots.AxesSubplot at 0x7fd0d3cd5710>"
            ]
          },
          "metadata": {
            "tags": []
          },
          "execution_count": 21
        },
        {
          "output_type": "display_data",
          "data": {
            "image/png": "[encoded data removed]",
            "text/plain": [
              "<Figure size 360x360 with 1 Axes>"
            ]
          },
          "metadata": {
            "tags": [],
            "needs_background": "light"
          }
        }
      ]
    },
    {
      "cell_type": "code",
      "metadata": {
        "id": "UJePBtX5cdjs",
        "colab_type": "code",
        "colab": {
          "base_uri": "https://localhost:8080/",
          "height": 328
        },
        "outputId": "be0b5686-a637-4f9f-fa7c-f3a88887ca08"
      },
      "source": [
        "train = train.drop(['reservation_status_date'],axis=1)\n",
        "test = test.drop(['reservation_status_date'],axis=1)"
      ],
      "execution_count": 22,
      "outputs": [
        {
          "output_type": "error",
          "ename": "KeyError",
          "evalue": "ignored",
          "traceback": [
            "\u001b[0;31m\u001b[0m",
            "\u001b[0;31mKeyError\u001b[0mTraceback (most recent call last)",
            "\u001b[0;32m<ipython-input-22-02eb8489af7d>\u001b[0m in \u001b[0;36m<module>\u001b[0;34m()\u001b[0m\n\u001b[0;32m----> 1\u001b[0;31m \u001b[0mtrain\u001b[0m \u001b[0;34m=\u001b[0m \u001b[0mtrain\u001b[0m\u001b[0;34m.\u001b[0m\u001b[0mdrop\u001b[0m\u001b[0;34m(\u001b[0m\u001b[0;34m[\u001b[0m\u001b[0;34m'reservation_status_date'\u001b[0m\u001b[0;34m]\u001b[0m\u001b[0;34m,\u001b[0m\u001b[0maxis\u001b[0m\u001b[0;34m=\u001b[0m\u001b[0;36m1\u001b[0m\u001b[0;34m)\u001b[0m\u001b[0;34m\u001b[0m\u001b[0m\n\u001b[0m\u001b[1;32m      2\u001b[0m \u001b[0mtest\u001b[0m \u001b[0;34m=\u001b[0m \u001b[0mtest\u001b[0m\u001b[0;34m.\u001b[0m\u001b[0mdrop\u001b[0m\u001b[0;34m(\u001b[0m\u001b[0;34m[\u001b[0m\u001b[0;34m'reservation_status_date'\u001b[0m\u001b[0;34m]\u001b[0m\u001b[0;34m,\u001b[0m\u001b[0maxis\u001b[0m\u001b[0;34m=\u001b[0m\u001b[0;36m1\u001b[0m\u001b[0;34m)\u001b[0m\u001b[0;34m\u001b[0m\u001b[0m\n",
            "\u001b[0;32m/usr/local/lib/python2.7/dist-packages/pandas/core/frame.pyc\u001b[0m in \u001b[0;36mdrop\u001b[0;34m(self, labels, axis, index, columns, level, inplace, errors)\u001b[0m\n\u001b[1;32m   3938\u001b[0m                                            \u001b[0mindex\u001b[0m\u001b[0;34m=\u001b[0m\u001b[0mindex\u001b[0m\u001b[0;34m,\u001b[0m \u001b[0mcolumns\u001b[0m\u001b[0;34m=\u001b[0m\u001b[0mcolumns\u001b[0m\u001b[0;34m,\u001b[0m\u001b[0;34m\u001b[0m\u001b[0m\n\u001b[1;32m   3939\u001b[0m                                            \u001b[0mlevel\u001b[0m\u001b[0;34m=\u001b[0m\u001b[0mlevel\u001b[0m\u001b[0;34m,\u001b[0m \u001b[0minplace\u001b[0m\u001b[0;34m=\u001b[0m\u001b[0minplace\u001b[0m\u001b[0;34m,\u001b[0m\u001b[0;34m\u001b[0m\u001b[0m\n\u001b[0;32m-> 3940\u001b[0;31m                                            errors=errors)\n\u001b[0m\u001b[1;32m   3941\u001b[0m \u001b[0;34m\u001b[0m\u001b[0m\n\u001b[1;32m   3942\u001b[0m     @rewrite_axis_style_signature('mapper', [('copy', True),\n",
            "\u001b[0;32m/usr/local/lib/python2.7/dist-packages/pandas/core/generic.pyc\u001b[0m in \u001b[0;36mdrop\u001b[0;34m(self, labels, axis, index, columns, level, inplace, errors)\u001b[0m\n\u001b[1;32m   3778\u001b[0m         \u001b[0;32mfor\u001b[0m \u001b[0maxis\u001b[0m\u001b[0;34m,\u001b[0m \u001b[0mlabels\u001b[0m \u001b[0;32min\u001b[0m \u001b[0maxes\u001b[0m\u001b[0;34m.\u001b[0m\u001b[0mitems\u001b[0m\u001b[0;34m(\u001b[0m\u001b[0;34m)\u001b[0m\u001b[0;34m:\u001b[0m\u001b[0;34m\u001b[0m\u001b[0m\n\u001b[1;32m   3779\u001b[0m             \u001b[0;32mif\u001b[0m \u001b[0mlabels\u001b[0m \u001b[0;32mis\u001b[0m \u001b[0;32mnot\u001b[0m \u001b[0mNone\u001b[0m\u001b[0;34m:\u001b[0m\u001b[0;34m\u001b[0m\u001b[0m\n\u001b[0;32m-> 3780\u001b[0;31m                 \u001b[0mobj\u001b[0m \u001b[0;34m=\u001b[0m \u001b[0mobj\u001b[0m\u001b[0;34m.\u001b[0m\u001b[0m_drop_axis\u001b[0m\u001b[0;34m(\u001b[0m\u001b[0mlabels\u001b[0m\u001b[0;34m,\u001b[0m \u001b[0maxis\u001b[0m\u001b[0;34m,\u001b[0m \u001b[0mlevel\u001b[0m\u001b[0;34m=\u001b[0m\u001b[0mlevel\u001b[0m\u001b[0;34m,\u001b[0m \u001b[0merrors\u001b[0m\u001b[0;34m=\u001b[0m\u001b[0merrors\u001b[0m\u001b[0;34m)\u001b[0m\u001b[0;34m\u001b[0m\u001b[0m\n\u001b[0m\u001b[1;32m   3781\u001b[0m \u001b[0;34m\u001b[0m\u001b[0m\n\u001b[1;32m   3782\u001b[0m         \u001b[0;32mif\u001b[0m \u001b[0minplace\u001b[0m\u001b[0;34m:\u001b[0m\u001b[0;34m\u001b[0m\u001b[0m\n",
            "\u001b[0;32m/usr/local/lib/python2.7/dist-packages/pandas/core/generic.pyc\u001b[0m in \u001b[0;36m_drop_axis\u001b[0;34m(self, labels, axis, level, errors)\u001b[0m\n\u001b[1;32m   3810\u001b[0m                 \u001b[0mnew_axis\u001b[0m \u001b[0;34m=\u001b[0m \u001b[0maxis\u001b[0m\u001b[0;34m.\u001b[0m\u001b[0mdrop\u001b[0m\u001b[0;34m(\u001b[0m\u001b[0mlabels\u001b[0m\u001b[0;34m,\u001b[0m \u001b[0mlevel\u001b[0m\u001b[0;34m=\u001b[0m\u001b[0mlevel\u001b[0m\u001b[0;34m,\u001b[0m \u001b[0merrors\u001b[0m\u001b[0;34m=\u001b[0m\u001b[0merrors\u001b[0m\u001b[0;34m)\u001b[0m\u001b[0;34m\u001b[0m\u001b[0m\n\u001b[1;32m   3811\u001b[0m             \u001b[0;32melse\u001b[0m\u001b[0;34m:\u001b[0m\u001b[0;34m\u001b[0m\u001b[0m\n\u001b[0;32m-> 3812\u001b[0;31m                 \u001b[0mnew_axis\u001b[0m \u001b[0;34m=\u001b[0m \u001b[0maxis\u001b[0m\u001b[0;34m.\u001b[0m\u001b[0mdrop\u001b[0m\u001b[0;34m(\u001b[0m\u001b[0mlabels\u001b[0m\u001b[0;34m,\u001b[0m \u001b[0merrors\u001b[0m\u001b[0;34m=\u001b[0m\u001b[0merrors\u001b[0m\u001b[0;34m)\u001b[0m\u001b[0;34m\u001b[0m\u001b[0m\n\u001b[0m\u001b[1;32m   3813\u001b[0m             \u001b[0mresult\u001b[0m \u001b[0;34m=\u001b[0m \u001b[0mself\u001b[0m\u001b[0;34m.\u001b[0m\u001b[0mreindex\u001b[0m\u001b[0;34m(\u001b[0m\u001b[0;34m**\u001b[0m\u001b[0;34m{\u001b[0m\u001b[0maxis_name\u001b[0m\u001b[0;34m:\u001b[0m \u001b[0mnew_axis\u001b[0m\u001b[0;34m}\u001b[0m\u001b[0;34m)\u001b[0m\u001b[0;34m\u001b[0m\u001b[0m\n\u001b[1;32m   3814\u001b[0m \u001b[0;34m\u001b[0m\u001b[0m\n",
            "\u001b[0;32m/usr/local/lib/python2.7/dist-packages/pandas/core/indexes/base.pyc\u001b[0m in \u001b[0;36mdrop\u001b[0;34m(self, labels, errors)\u001b[0m\n\u001b[1;32m   4963\u001b[0m             \u001b[0;32mif\u001b[0m \u001b[0merrors\u001b[0m \u001b[0;34m!=\u001b[0m \u001b[0;34m'ignore'\u001b[0m\u001b[0;34m:\u001b[0m\u001b[0;34m\u001b[0m\u001b[0m\n\u001b[1;32m   4964\u001b[0m                 raise KeyError(\n\u001b[0;32m-> 4965\u001b[0;31m                     '{} not found in axis'.format(labels[mask]))\n\u001b[0m\u001b[1;32m   4966\u001b[0m             \u001b[0mindexer\u001b[0m \u001b[0;34m=\u001b[0m \u001b[0mindexer\u001b[0m\u001b[0;34m[\u001b[0m\u001b[0;34m~\u001b[0m\u001b[0mmask\u001b[0m\u001b[0;34m]\u001b[0m\u001b[0;34m\u001b[0m\u001b[0m\n\u001b[1;32m   4967\u001b[0m         \u001b[0;32mreturn\u001b[0m \u001b[0mself\u001b[0m\u001b[0;34m.\u001b[0m\u001b[0mdelete\u001b[0m\u001b[0;34m(\u001b[0m\u001b[0mindexer\u001b[0m\u001b[0;34m)\u001b[0m\u001b[0;34m\u001b[0m\u001b[0m\n",
            "\u001b[0;31mKeyError\u001b[0m: \"['reservation_status_date'] not found in axis\""
          ]
        }
      ]
    },
    {
      "cell_type": "code",
      "metadata": {
        "id": "QpyFX2N1cdjx",
        "colab_type": "code",
        "outputId": "437df82d-6144-4bf7-e0b6-b2e854c02b66",
        "colab": {
          "base_uri": "https://localhost:8080/",
          "height": 34
        }
      },
      "source": [
        "print (len(train['agent'].unique())) # 314 unique values - Large number of unique agents and it is categorical, difficult to encode\n",
        "train = train.drop('agent',axis=1)\n",
        "test = test.drop('agent',axis=1)"
      ],
      "execution_count": 23,
      "outputs": [
        {
          "output_type": "stream",
          "text": [
            "314\n"
          ],
          "name": "stdout"
        }
      ]
    },
    {
      "cell_type": "code",
      "metadata": {
        "id": "suCiSQCacdj0",
        "colab_type": "code",
        "outputId": "84156052-bbc5-457a-dd06-d3f7dec8b9f9",
        "colab": {
          "base_uri": "https://localhost:8080/",
          "height": 34
        }
      },
      "source": [
        "print(len(train['country'].unique())) # 170 countries\n",
        "train = train.drop('country',axis=1)\n",
        "test = test.drop('country',axis=1)"
      ],
      "execution_count": 24,
      "outputs": [
        {
          "output_type": "stream",
          "text": [
            "170\n"
          ],
          "name": "stdout"
        }
      ]
    },
    {
      "cell_type": "code",
      "metadata": {
        "id": "A8EIqnjpcdj6",
        "colab_type": "code",
        "outputId": "95fc3dcf-a8f5-48d8-d952-dbdbe67a40bd",
        "colab": {
          "base_uri": "https://localhost:8080/",
          "height": 371
        }
      },
      "source": [
        "train.hist(column='previous_bookings_not_canceled',bins=20,figsize=(10,5))"
      ],
      "execution_count": 25,
      "outputs": [
        {
          "output_type": "execute_result",
          "data": {
            "text/plain": [
              "array([[<matplotlib.axes._subplots.AxesSubplot object at 0x7fd0d3b51250>]],\n",
              "      dtype=object)"
            ]
          },
          "metadata": {
            "tags": []
          },
          "execution_count": 25
        },
        {
          "output_type": "display_data",
          "data": {
            "image/png": "[encoded data removed]",
            "text/plain": [
              "<Figure size 720x360 with 1 Axes>"
            ]
          },
          "metadata": {
            "tags": [],
            "needs_background": "light"
          }
        }
      ]
    },
    {
      "cell_type": "code",
      "metadata": {
        "id": "9GOwxQROcdj9",
        "colab_type": "code",
        "colab": {}
      },
      "source": [
        "#train['previous_bookings_not_canceled'].value_counts() # We observe that most data has value = 0; hence we drop the feature\n",
        "#train.groupby(['is_canceled'])['previous_bookings_not_canceled'].value_counts() # We observe that data distribution across both class is remains same\n",
        "train = train.drop('previous_bookings_not_canceled',axis=1)\n",
        "test = test.drop('previous_bookings_not_canceled',axis=1)"
      ],
      "execution_count": 0,
      "outputs": []
    },
    {
      "cell_type": "code",
      "metadata": {
        "id": "1arAq1cxcdkE",
        "colab_type": "code",
        "outputId": "41389af0-8151-4a47-afc7-5a4ec1e7c47a",
        "colab": {
          "base_uri": "https://localhost:8080/",
          "height": 361
        }
      },
      "source": [
        "train.groupby(['is_canceled'])['previous_cancellations'].value_counts().plot('bar',figsize=(5,5))\n",
        "# We observe that most data has value = 0; and trend remains same across the 2 classes\n",
        "train = train.drop('previous_cancellations',axis=1)\n",
        "test = test.drop('previous_cancellations',axis=1)"
      ],
      "execution_count": 27,
      "outputs": [
        {
          "output_type": "display_data",
          "data": {
            "image/png": "[encoded data removed]",
            "text/plain": [
              "<Figure size 360x360 with 1 Axes>"
            ]
          },
          "metadata": {
            "tags": [],
            "needs_background": "light"
          }
        }
      ]
    },
    {
      "cell_type": "code",
      "metadata": {
        "id": "M4IRZMCicdkM",
        "colab_type": "code",
        "outputId": "33d42a42-c74e-4ecb-b45c-98952c2e7f80",
        "colab": {
          "base_uri": "https://localhost:8080/",
          "height": 34
        }
      },
      "source": [
        "len(train.columns)"
      ],
      "execution_count": 28,
      "outputs": [
        {
          "output_type": "execute_result",
          "data": {
            "text/plain": [
              "23"
            ]
          },
          "metadata": {
            "tags": []
          },
          "execution_count": 28
        }
      ]
    },
    {
      "cell_type": "code",
      "metadata": {
        "id": "g6uhC0obcdkR",
        "colab_type": "code",
        "colab": {}
      },
      "source": [
        "backup_train = train.copy()\n",
        "backup_test = test.copy()"
      ],
      "execution_count": 0,
      "outputs": []
    },
    {
      "cell_type": "markdown",
      "metadata": {
        "id": "awoqdC1tcdkV",
        "colab_type": "text"
      },
      "source": [
        "## Feature Correlation \n",
        "We will convert categorical features to numeric values using Label Encoder"
      ]
    },
    {
      "cell_type": "code",
      "metadata": {
        "id": "jYC5jhv1cdkW",
        "colab_type": "code",
        "colab": {}
      },
      "source": [
        "#Custom encoding\n",
        "train['arrival_date_month'] = train['arrival_date_month'].map({'January':1, 'February': 2, 'March':3, \\\n",
        "                                                         'April':4, 'May':5, 'June':6, 'July':7,\\\n",
        "                                                         'August':8, 'September':9, 'October':10, \\\n",
        "                                                         'November':11, 'December':12})\n",
        "test['arrival_date_month'] = test['arrival_date_month'].map({'January':1, 'February': 2, 'March':3, \\\n",
        "                                                         'April':4, 'May':5, 'June':6, 'July':7,\\\n",
        "                                                         'August':8, 'September':9, 'October':10, \\\n",
        "                                                         'November':11, 'December':12})"
      ],
      "execution_count": 0,
      "outputs": []
    },
    {
      "cell_type": "code",
      "metadata": {
        "id": "34pkQmSrcdka",
        "colab_type": "code",
        "colab": {}
      },
      "source": [
        "encode = LabelEncoder()"
      ],
      "execution_count": 0,
      "outputs": []
    },
    {
      "cell_type": "code",
      "metadata": {
        "id": "N0nRlcsBcdkd",
        "colab_type": "code",
        "outputId": "9026f905-bbdd-4d16-b3b8-10f53590f90d",
        "colab": {
          "base_uri": "https://localhost:8080/",
          "height": 173
        }
      },
      "source": [
        "train.columns"
      ],
      "execution_count": 32,
      "outputs": [
        {
          "output_type": "execute_result",
          "data": {
            "text/plain": [
              "Index([u'hotel', u'is_canceled', u'lead_time', u'arrival_date_year',\n",
              "       u'arrival_date_month', u'arrival_date_week_number',\n",
              "       u'arrival_date_day_of_month', u'meal', u'market_segment',\n",
              "       u'distribution_channel', u'is_repeated_guest', u'reserved_room_type',\n",
              "       u'assigned_room_type', u'booking_changes', u'deposit_type',\n",
              "       u'days_in_waiting_list', u'customer_type', u'adr',\n",
              "       u'required_car_parking_spaces', u'total_of_special_requests',\n",
              "       u'reservation_status', u'total_days', u'total_customers'],\n",
              "      dtype='object')"
            ]
          },
          "metadata": {
            "tags": []
          },
          "execution_count": 32
        }
      ]
    },
    {
      "cell_type": "code",
      "metadata": {
        "id": "NZO5HpF9cdkj",
        "colab_type": "code",
        "outputId": "fc740228-1fc0-4d73-ecb4-526d6efe874b",
        "colab": {
          "base_uri": "https://localhost:8080/",
          "height": 34
        }
      },
      "source": [
        "train['arrival_date_year'].unique()"
      ],
      "execution_count": 33,
      "outputs": [
        {
          "output_type": "execute_result",
          "data": {
            "text/plain": [
              "array([2016, 2015, 2017])"
            ]
          },
          "metadata": {
            "tags": []
          },
          "execution_count": 33
        }
      ]
    },
    {
      "cell_type": "code",
      "metadata": {
        "id": "QkfEG4Vicdkl",
        "colab_type": "code",
        "colab": {}
      },
      "source": [
        "cat_col=['hotel','arrival_date_year','meal','market_segment','distribution_channel','reserved_room_type', 'assigned_room_type',\\\n",
        "        'deposit_type','customer_type','reservation_status']\n",
        "for i in cat_col:\n",
        "    train[i] = encode.fit_transform(train[i])"
      ],
      "execution_count": 0,
      "outputs": []
    },
    {
      "cell_type": "code",
      "metadata": {
        "id": "Qi6b4lv5cdkq",
        "colab_type": "code",
        "outputId": "b05c3224-cf8e-42b9-87a0-e1fb4830690d",
        "colab": {
          "base_uri": "https://localhost:8080/",
          "height": 226
        }
      },
      "source": [
        "train[cat_col].head()"
      ],
      "execution_count": 37,
      "outputs": [
        {
          "output_type": "execute_result",
          "data": {
            "text/plain": [
              "        hotel  arrival_date_year  ...  customer_type  reservation_status\n",
              "9710        1                  1  ...              2                   0\n",
              "40307       0                  0  ...              3                   0\n",
              "110051      0                  2  ...              2                   1\n",
              "22999       1                  2  ...              2                   1\n",
              "8344        1                  1  ...              2                   0\n",
              "\n",
              "[5 rows x 10 columns]"
            ],
            "text/html": [
              "<div>\n",
              "<style scoped>\n",
              "    .dataframe tbody tr th:only-of-type {\n",
              "        vertical-align: middle;\n",
              "    }\n",
              "\n",
              "    .dataframe tbody tr th {\n",
              "        vertical-align: top;\n",
              "    }\n",
              "\n",
              "    .dataframe thead th {\n",
              "        text-align: right;\n",
              "    }\n",
              "</style>\n",
              "<table border=\"1\" class=\"dataframe\">\n",
              "  <thead>\n",
              "    <tr style=\"text-align: right;\">\n",
              "      <th></th>\n",
              "      <th>hotel</th>\n",
              "      <th>arrival_date_year</th>\n",
              "      <th>meal</th>\n",
              "      <th>market_segment</th>\n",
              "      <th>distribution_channel</th>\n",
              "      <th>reserved_room_type</th>\n",
              "      <th>assigned_room_type</th>\n",
              "      <th>deposit_type</th>\n",
              "      <th>customer_type</th>\n",
              "      <th>reservation_status</th>\n",
              "    </tr>\n",
              "  </thead>\n",
              "  <tbody>\n",
              "    <tr>\n",
              "      <th>9710</th>\n",
              "      <td>1</td>\n",
              "      <td>1</td>\n",
              "      <td>0</td>\n",
              "      <td>6</td>\n",
              "      <td>3</td>\n",
              "      <td>3</td>\n",
              "      <td>3</td>\n",
              "      <td>0</td>\n",
              "      <td>2</td>\n",
              "      <td>0</td>\n",
              "    </tr>\n",
              "    <tr>\n",
              "      <th>40307</th>\n",
              "      <td>0</td>\n",
              "      <td>0</td>\n",
              "      <td>0</td>\n",
              "      <td>4</td>\n",
              "      <td>3</td>\n",
              "      <td>0</td>\n",
              "      <td>0</td>\n",
              "      <td>0</td>\n",
              "      <td>3</td>\n",
              "      <td>0</td>\n",
              "    </tr>\n",
              "    <tr>\n",
              "      <th>110051</th>\n",
              "      <td>0</td>\n",
              "      <td>2</td>\n",
              "      <td>0</td>\n",
              "      <td>6</td>\n",
              "      <td>3</td>\n",
              "      <td>3</td>\n",
              "      <td>3</td>\n",
              "      <td>0</td>\n",
              "      <td>2</td>\n",
              "      <td>1</td>\n",
              "    </tr>\n",
              "    <tr>\n",
              "      <th>22999</th>\n",
              "      <td>1</td>\n",
              "      <td>2</td>\n",
              "      <td>0</td>\n",
              "      <td>6</td>\n",
              "      <td>3</td>\n",
              "      <td>0</td>\n",
              "      <td>0</td>\n",
              "      <td>0</td>\n",
              "      <td>2</td>\n",
              "      <td>1</td>\n",
              "    </tr>\n",
              "    <tr>\n",
              "      <th>8344</th>\n",
              "      <td>1</td>\n",
              "      <td>1</td>\n",
              "      <td>0</td>\n",
              "      <td>6</td>\n",
              "      <td>3</td>\n",
              "      <td>0</td>\n",
              "      <td>0</td>\n",
              "      <td>0</td>\n",
              "      <td>2</td>\n",
              "      <td>0</td>\n",
              "    </tr>\n",
              "  </tbody>\n",
              "</table>\n",
              "</div>"
            ]
          },
          "metadata": {
            "tags": []
          },
          "execution_count": 37
        }
      ]
    },
    {
      "cell_type": "code",
      "metadata": {
        "id": "rxuFqiQQcdkt",
        "colab_type": "code",
        "outputId": "a70e4221-05c1-4402-c364-9c63a321f1c6",
        "colab": {
          "base_uri": "https://localhost:8080/",
          "height": 34
        }
      },
      "source": [
        "train['arrival_date_year'].unique()"
      ],
      "execution_count": 36,
      "outputs": [
        {
          "output_type": "execute_result",
          "data": {
            "text/plain": [
              "array([1, 0, 2])"
            ]
          },
          "metadata": {
            "tags": []
          },
          "execution_count": 36
        }
      ]
    },
    {
      "cell_type": "markdown",
      "metadata": {
        "id": "91CUEk6Xcdkv",
        "colab_type": "text"
      },
      "source": [
        "### Feature correlation\n",
        "<b>Spearman</b> and <b>Pearson</b> are the 2 statistical methods to compute the correlation between features. \n",
        "- Pearson is suggested method for features with continuous values and linear relationship\n",
        "- Spearman is suggested method when features have ordinal categorical data or non-linear relationship\n",
        "<br>Pandas correlation method by default uses Pearson method, but we can also change it to spearman </br>"
      ]
    },
    {
      "cell_type": "code",
      "metadata": {
        "id": "kU_vCKoecdkw",
        "colab_type": "code",
        "outputId": "c31eb868-5e60-4227-b492-5b6143451cf1",
        "colab": {
          "base_uri": "https://localhost:8080/",
          "height": 791
        }
      },
      "source": [
        "train.corr()"
      ],
      "execution_count": 39,
      "outputs": [
        {
          "output_type": "execute_result",
          "data": {
            "text/plain": [
              "                                hotel  is_canceled  ...  total_days  total_customers\n",
              "hotel                        1.000000    -0.135266  ...    0.242948         0.040640\n",
              "is_canceled                 -0.135266     1.000000  ...    0.021257         0.048319\n",
              "lead_time                   -0.075241     0.293248  ...    0.157373         0.073295\n",
              "arrival_date_year           -0.035946     0.017205  ...    0.030954         0.050789\n",
              "arrival_date_month          -0.005091     0.009405  ...    0.019015         0.027894\n",
              "arrival_date_week_number    -0.004423     0.006479  ...    0.016210         0.025711\n",
              "arrival_date_day_of_month    0.002416    -0.006537  ...   -0.027971         0.005131\n",
              "meal                        -0.009009    -0.014264  ...    0.044204        -0.007995\n",
              "market_segment              -0.084364     0.057241  ...    0.126700         0.212585\n",
              "distribution_channel        -0.174473     0.166512  ...    0.100968         0.144714\n",
              "is_repeated_guest            0.051430    -0.085456  ...   -0.105552        -0.136845\n",
              "reserved_room_type           0.246741    -0.059555  ...    0.177722         0.384168\n",
              "assigned_room_type           0.305863    -0.173898  ...    0.106623         0.301207\n",
              "booking_changes              0.070201    -0.140347  ...    0.100446        -0.006804\n",
              "deposit_type                -0.155026     0.467354  ...   -0.100240        -0.078236\n",
              "days_in_waiting_list        -0.071502     0.054322  ...   -0.021316        -0.026106\n",
              "customer_type               -0.047622    -0.065687  ...   -0.136887        -0.114562\n",
              "adr                         -0.099411     0.047221  ...    0.061648         0.358278\n",
              "required_car_parking_spaces  0.216490    -0.194711  ...   -0.025773         0.046669\n",
              "total_of_special_requests    0.042221    -0.237031  ...    0.075344         0.156164\n",
              "reservation_status           0.123520    -0.915883  ...   -0.014246        -0.057639\n",
              "total_days                   0.242948     0.021257  ...    1.000000         0.112017\n",
              "total_customers              0.040640     0.048319  ...    0.112017         1.000000\n",
              "\n",
              "[23 rows x 23 columns]"
            ],
            "text/html": [
              "<div>\n",
              "<style scoped>\n",
              "    .dataframe tbody tr th:only-of-type {\n",
              "        vertical-align: middle;\n",
              "    }\n",
              "\n",
              "    .dataframe tbody tr th {\n",
              "        vertical-align: top;\n",
              "    }\n",
              "\n",
              "    .dataframe thead th {\n",
              "        text-align: right;\n",
              "    }\n",
              "</style>\n",
              "<table border=\"1\" class=\"dataframe\">\n",
              "  <thead>\n",
              "    <tr style=\"text-align: right;\">\n",
              "      <th></th>\n",
              "      <th>hotel</th>\n",
              "      <th>is_canceled</th>\n",
              "      <th>lead_time</th>\n",
              "      <th>arrival_date_year</th>\n",
              "      <th>arrival_date_month</th>\n",
              "      <th>arrival_date_week_number</th>\n",
              "      <th>arrival_date_day_of_month</th>\n",
              "      <th>meal</th>\n",
              "      <th>market_segment</th>\n",
              "      <th>distribution_channel</th>\n",
              "      <th>is_repeated_guest</th>\n",
              "      <th>reserved_room_type</th>\n",
              "      <th>assigned_room_type</th>\n",
              "      <th>booking_changes</th>\n",
              "      <th>deposit_type</th>\n",
              "      <th>days_in_waiting_list</th>\n",
              "      <th>customer_type</th>\n",
              "      <th>adr</th>\n",
              "      <th>required_car_parking_spaces</th>\n",
              "      <th>total_of_special_requests</th>\n",
              "      <th>reservation_status</th>\n",
              "      <th>total_days</th>\n",
              "      <th>total_customers</th>\n",
              "    </tr>\n",
              "  </thead>\n",
              "  <tbody>\n",
              "    <tr>\n",
              "      <th>hotel</th>\n",
              "      <td>1.000000</td>\n",
              "      <td>-0.135266</td>\n",
              "      <td>-0.075241</td>\n",
              "      <td>-0.035946</td>\n",
              "      <td>-0.005091</td>\n",
              "      <td>-0.004423</td>\n",
              "      <td>0.002416</td>\n",
              "      <td>-0.009009</td>\n",
              "      <td>-0.084364</td>\n",
              "      <td>-0.174473</td>\n",
              "      <td>0.051430</td>\n",
              "      <td>0.246741</td>\n",
              "      <td>0.305863</td>\n",
              "      <td>0.070201</td>\n",
              "      <td>-0.155026</td>\n",
              "      <td>-0.071502</td>\n",
              "      <td>-0.047622</td>\n",
              "      <td>-0.099411</td>\n",
              "      <td>0.216490</td>\n",
              "      <td>0.042221</td>\n",
              "      <td>0.123520</td>\n",
              "      <td>0.242948</td>\n",
              "      <td>0.040640</td>\n",
              "    </tr>\n",
              "    <tr>\n",
              "      <th>is_canceled</th>\n",
              "      <td>-0.135266</td>\n",
              "      <td>1.000000</td>\n",
              "      <td>0.293248</td>\n",
              "      <td>0.017205</td>\n",
              "      <td>0.009405</td>\n",
              "      <td>0.006479</td>\n",
              "      <td>-0.006537</td>\n",
              "      <td>-0.014264</td>\n",
              "      <td>0.057241</td>\n",
              "      <td>0.166512</td>\n",
              "      <td>-0.085456</td>\n",
              "      <td>-0.059555</td>\n",
              "      <td>-0.173898</td>\n",
              "      <td>-0.140347</td>\n",
              "      <td>0.467354</td>\n",
              "      <td>0.054322</td>\n",
              "      <td>-0.065687</td>\n",
              "      <td>0.047221</td>\n",
              "      <td>-0.194711</td>\n",
              "      <td>-0.237031</td>\n",
              "      <td>-0.915883</td>\n",
              "      <td>0.021257</td>\n",
              "      <td>0.048319</td>\n",
              "    </tr>\n",
              "    <tr>\n",
              "      <th>lead_time</th>\n",
              "      <td>-0.075241</td>\n",
              "      <td>0.293248</td>\n",
              "      <td>1.000000</td>\n",
              "      <td>0.038852</td>\n",
              "      <td>0.130725</td>\n",
              "      <td>0.126104</td>\n",
              "      <td>0.002054</td>\n",
              "      <td>0.004313</td>\n",
              "      <td>0.013143</td>\n",
              "      <td>0.220976</td>\n",
              "      <td>-0.123915</td>\n",
              "      <td>-0.107382</td>\n",
              "      <td>-0.173158</td>\n",
              "      <td>0.004114</td>\n",
              "      <td>0.375777</td>\n",
              "      <td>0.170237</td>\n",
              "      <td>0.075026</td>\n",
              "      <td>-0.061618</td>\n",
              "      <td>-0.116425</td>\n",
              "      <td>-0.095988</td>\n",
              "      <td>-0.302591</td>\n",
              "      <td>0.157373</td>\n",
              "      <td>0.073295</td>\n",
              "    </tr>\n",
              "    <tr>\n",
              "      <th>arrival_date_year</th>\n",
              "      <td>-0.035946</td>\n",
              "      <td>0.017205</td>\n",
              "      <td>0.038852</td>\n",
              "      <td>1.000000</td>\n",
              "      <td>-0.528170</td>\n",
              "      <td>-0.540726</td>\n",
              "      <td>0.004283</td>\n",
              "      <td>0.067755</td>\n",
              "      <td>0.111935</td>\n",
              "      <td>0.025582</td>\n",
              "      <td>0.007080</td>\n",
              "      <td>0.091785</td>\n",
              "      <td>0.035793</td>\n",
              "      <td>0.030485</td>\n",
              "      <td>-0.065299</td>\n",
              "      <td>-0.057384</td>\n",
              "      <td>-0.005010</td>\n",
              "      <td>0.193542</td>\n",
              "      <td>-0.017678</td>\n",
              "      <td>0.111282</td>\n",
              "      <td>-0.017228</td>\n",
              "      <td>0.030954</td>\n",
              "      <td>0.050789</td>\n",
              "    </tr>\n",
              "    <tr>\n",
              "      <th>arrival_date_month</th>\n",
              "      <td>-0.005091</td>\n",
              "      <td>0.009405</td>\n",
              "      <td>0.130725</td>\n",
              "      <td>-0.528170</td>\n",
              "      <td>1.000000</td>\n",
              "      <td>0.995092</td>\n",
              "      <td>-0.028815</td>\n",
              "      <td>-0.012907</td>\n",
              "      <td>0.001094</td>\n",
              "      <td>0.007844</td>\n",
              "      <td>-0.029571</td>\n",
              "      <td>-0.010345</td>\n",
              "      <td>-0.008577</td>\n",
              "      <td>0.003804</td>\n",
              "      <td>0.002369</td>\n",
              "      <td>0.020000</td>\n",
              "      <td>-0.030016</td>\n",
              "      <td>0.080533</td>\n",
              "      <td>0.001262</td>\n",
              "      <td>0.028146</td>\n",
              "      <td>-0.020803</td>\n",
              "      <td>0.019015</td>\n",
              "      <td>0.027894</td>\n",
              "    </tr>\n",
              "    <tr>\n",
              "      <th>arrival_date_week_number</th>\n",
              "      <td>-0.004423</td>\n",
              "      <td>0.006479</td>\n",
              "      <td>0.126104</td>\n",
              "      <td>-0.540726</td>\n",
              "      <td>0.995092</td>\n",
              "      <td>1.000000</td>\n",
              "      <td>0.064206</td>\n",
              "      <td>-0.015267</td>\n",
              "      <td>-0.000917</td>\n",
              "      <td>0.005999</td>\n",
              "      <td>-0.029043</td>\n",
              "      <td>-0.010504</td>\n",
              "      <td>-0.007890</td>\n",
              "      <td>0.004611</td>\n",
              "      <td>0.002251</td>\n",
              "      <td>0.023749</td>\n",
              "      <td>-0.028746</td>\n",
              "      <td>0.077035</td>\n",
              "      <td>0.003264</td>\n",
              "      <td>0.026228</td>\n",
              "      <td>-0.016978</td>\n",
              "      <td>0.016210</td>\n",
              "      <td>0.025711</td>\n",
              "    </tr>\n",
              "    <tr>\n",
              "      <th>arrival_date_day_of_month</th>\n",
              "      <td>0.002416</td>\n",
              "      <td>-0.006537</td>\n",
              "      <td>0.002054</td>\n",
              "      <td>0.004283</td>\n",
              "      <td>-0.028815</td>\n",
              "      <td>0.064206</td>\n",
              "      <td>1.000000</td>\n",
              "      <td>-0.007447</td>\n",
              "      <td>-0.004199</td>\n",
              "      <td>0.001474</td>\n",
              "      <td>-0.007002</td>\n",
              "      <td>0.016134</td>\n",
              "      <td>0.012058</td>\n",
              "      <td>0.012223</td>\n",
              "      <td>-0.001229</td>\n",
              "      <td>0.021440</td>\n",
              "      <td>0.011833</td>\n",
              "      <td>0.028831</td>\n",
              "      <td>0.010960</td>\n",
              "      <td>0.003720</td>\n",
              "      <td>0.012448</td>\n",
              "      <td>-0.027971</td>\n",
              "      <td>0.005131</td>\n",
              "    </tr>\n",
              "    <tr>\n",
              "      <th>meal</th>\n",
              "      <td>-0.009009</td>\n",
              "      <td>-0.014264</td>\n",
              "      <td>0.004313</td>\n",
              "      <td>0.067755</td>\n",
              "      <td>-0.012907</td>\n",
              "      <td>-0.015267</td>\n",
              "      <td>-0.007447</td>\n",
              "      <td>1.000000</td>\n",
              "      <td>0.146540</td>\n",
              "      <td>0.117985</td>\n",
              "      <td>-0.055888</td>\n",
              "      <td>-0.121964</td>\n",
              "      <td>-0.121648</td>\n",
              "      <td>0.019315</td>\n",
              "      <td>-0.090271</td>\n",
              "      <td>-0.007020</td>\n",
              "      <td>0.046316</td>\n",
              "      <td>0.056627</td>\n",
              "      <td>-0.039101</td>\n",
              "      <td>0.024430</td>\n",
              "      <td>0.011251</td>\n",
              "      <td>0.044204</td>\n",
              "      <td>-0.007995</td>\n",
              "    </tr>\n",
              "    <tr>\n",
              "      <th>market_segment</th>\n",
              "      <td>-0.084364</td>\n",
              "      <td>0.057241</td>\n",
              "      <td>0.013143</td>\n",
              "      <td>0.111935</td>\n",
              "      <td>0.001094</td>\n",
              "      <td>-0.000917</td>\n",
              "      <td>-0.004199</td>\n",
              "      <td>0.146540</td>\n",
              "      <td>1.000000</td>\n",
              "      <td>0.767718</td>\n",
              "      <td>-0.246093</td>\n",
              "      <td>0.093214</td>\n",
              "      <td>0.024110</td>\n",
              "      <td>-0.072903</td>\n",
              "      <td>-0.184932</td>\n",
              "      <td>-0.043077</td>\n",
              "      <td>-0.166540</td>\n",
              "      <td>0.231270</td>\n",
              "      <td>-0.061893</td>\n",
              "      <td>0.273916</td>\n",
              "      <td>-0.059299</td>\n",
              "      <td>0.126700</td>\n",
              "      <td>0.212585</td>\n",
              "    </tr>\n",
              "    <tr>\n",
              "      <th>distribution_channel</th>\n",
              "      <td>-0.174473</td>\n",
              "      <td>0.166512</td>\n",
              "      <td>0.220976</td>\n",
              "      <td>0.025582</td>\n",
              "      <td>0.007844</td>\n",
              "      <td>0.005999</td>\n",
              "      <td>0.001474</td>\n",
              "      <td>0.117985</td>\n",
              "      <td>0.767718</td>\n",
              "      <td>1.000000</td>\n",
              "      <td>-0.258141</td>\n",
              "      <td>-0.042541</td>\n",
              "      <td>-0.105705</td>\n",
              "      <td>-0.114324</td>\n",
              "      <td>0.091225</td>\n",
              "      <td>0.048186</td>\n",
              "      <td>-0.068619</td>\n",
              "      <td>0.093562</td>\n",
              "      <td>-0.132287</td>\n",
              "      <td>0.098250</td>\n",
              "      <td>-0.169993</td>\n",
              "      <td>0.100968</td>\n",
              "      <td>0.144714</td>\n",
              "    </tr>\n",
              "    <tr>\n",
              "      <th>is_repeated_guest</th>\n",
              "      <td>0.051430</td>\n",
              "      <td>-0.085456</td>\n",
              "      <td>-0.123915</td>\n",
              "      <td>0.007080</td>\n",
              "      <td>-0.029571</td>\n",
              "      <td>-0.029043</td>\n",
              "      <td>-0.007002</td>\n",
              "      <td>-0.055888</td>\n",
              "      <td>-0.246093</td>\n",
              "      <td>-0.258141</td>\n",
              "      <td>1.000000</td>\n",
              "      <td>-0.027830</td>\n",
              "      <td>0.035079</td>\n",
              "      <td>0.012493</td>\n",
              "      <td>-0.057747</td>\n",
              "      <td>-0.022523</td>\n",
              "      <td>-0.017827</td>\n",
              "      <td>-0.135030</td>\n",
              "      <td>0.075030</td>\n",
              "      <td>0.011924</td>\n",
              "      <td>0.084120</td>\n",
              "      <td>-0.105552</td>\n",
              "      <td>-0.136845</td>\n",
              "    </tr>\n",
              "    <tr>\n",
              "      <th>reserved_room_type</th>\n",
              "      <td>0.246741</td>\n",
              "      <td>-0.059555</td>\n",
              "      <td>-0.107382</td>\n",
              "      <td>0.091785</td>\n",
              "      <td>-0.010345</td>\n",
              "      <td>-0.010504</td>\n",
              "      <td>0.016134</td>\n",
              "      <td>-0.121964</td>\n",
              "      <td>0.093214</td>\n",
              "      <td>-0.042541</td>\n",
              "      <td>-0.027830</td>\n",
              "      <td>1.000000</td>\n",
              "      <td>0.812283</td>\n",
              "      <td>0.043183</td>\n",
              "      <td>-0.198719</td>\n",
              "      <td>-0.068090</td>\n",
              "      <td>-0.122740</td>\n",
              "      <td>0.382079</td>\n",
              "      <td>0.130537</td>\n",
              "      <td>0.138199</td>\n",
              "      <td>0.056839</td>\n",
              "      <td>0.177722</td>\n",
              "      <td>0.384168</td>\n",
              "    </tr>\n",
              "    <tr>\n",
              "      <th>assigned_room_type</th>\n",
              "      <td>0.305863</td>\n",
              "      <td>-0.173898</td>\n",
              "      <td>-0.173158</td>\n",
              "      <td>0.035793</td>\n",
              "      <td>-0.008577</td>\n",
              "      <td>-0.007890</td>\n",
              "      <td>0.012058</td>\n",
              "      <td>-0.121648</td>\n",
              "      <td>0.024110</td>\n",
              "      <td>-0.105705</td>\n",
              "      <td>0.035079</td>\n",
              "      <td>0.812283</td>\n",
              "      <td>1.000000</td>\n",
              "      <td>0.095493</td>\n",
              "      <td>-0.240921</td>\n",
              "      <td>-0.068599</td>\n",
              "      <td>-0.086073</td>\n",
              "      <td>0.249941</td>\n",
              "      <td>0.158195</td>\n",
              "      <td>0.125054</td>\n",
              "      <td>0.171143</td>\n",
              "      <td>0.106623</td>\n",
              "      <td>0.301207</td>\n",
              "    </tr>\n",
              "    <tr>\n",
              "      <th>booking_changes</th>\n",
              "      <td>0.070201</td>\n",
              "      <td>-0.140347</td>\n",
              "      <td>0.004114</td>\n",
              "      <td>0.030485</td>\n",
              "      <td>0.003804</td>\n",
              "      <td>0.004611</td>\n",
              "      <td>0.012223</td>\n",
              "      <td>0.019315</td>\n",
              "      <td>-0.072903</td>\n",
              "      <td>-0.114324</td>\n",
              "      <td>0.012493</td>\n",
              "      <td>0.043183</td>\n",
              "      <td>0.095493</td>\n",
              "      <td>1.000000</td>\n",
              "      <td>-0.110863</td>\n",
              "      <td>-0.013262</td>\n",
              "      <td>0.092221</td>\n",
              "      <td>0.018406</td>\n",
              "      <td>0.062419</td>\n",
              "      <td>0.053413</td>\n",
              "      <td>0.137648</td>\n",
              "      <td>0.100446</td>\n",
              "      <td>-0.006804</td>\n",
              "    </tr>\n",
              "    <tr>\n",
              "      <th>deposit_type</th>\n",
              "      <td>-0.155026</td>\n",
              "      <td>0.467354</td>\n",
              "      <td>0.375777</td>\n",
              "      <td>-0.065299</td>\n",
              "      <td>0.002369</td>\n",
              "      <td>0.002251</td>\n",
              "      <td>-0.001229</td>\n",
              "      <td>-0.090271</td>\n",
              "      <td>-0.184932</td>\n",
              "      <td>0.091225</td>\n",
              "      <td>-0.057747</td>\n",
              "      <td>-0.198719</td>\n",
              "      <td>-0.240921</td>\n",
              "      <td>-0.110863</td>\n",
              "      <td>1.000000</td>\n",
              "      <td>0.121999</td>\n",
              "      <td>-0.072593</td>\n",
              "      <td>-0.086046</td>\n",
              "      <td>-0.089800</td>\n",
              "      <td>-0.266183</td>\n",
              "      <td>-0.464571</td>\n",
              "      <td>-0.100240</td>\n",
              "      <td>-0.078236</td>\n",
              "    </tr>\n",
              "    <tr>\n",
              "      <th>days_in_waiting_list</th>\n",
              "      <td>-0.071502</td>\n",
              "      <td>0.054322</td>\n",
              "      <td>0.170237</td>\n",
              "      <td>-0.057384</td>\n",
              "      <td>0.020000</td>\n",
              "      <td>0.023749</td>\n",
              "      <td>0.021440</td>\n",
              "      <td>-0.007020</td>\n",
              "      <td>-0.043077</td>\n",
              "      <td>0.048186</td>\n",
              "      <td>-0.022523</td>\n",
              "      <td>-0.068090</td>\n",
              "      <td>-0.068599</td>\n",
              "      <td>-0.013262</td>\n",
              "      <td>0.121999</td>\n",
              "      <td>1.000000</td>\n",
              "      <td>0.098976</td>\n",
              "      <td>-0.039634</td>\n",
              "      <td>-0.029488</td>\n",
              "      <td>-0.082515</td>\n",
              "      <td>-0.058119</td>\n",
              "      <td>-0.021316</td>\n",
              "      <td>-0.026106</td>\n",
              "    </tr>\n",
              "    <tr>\n",
              "      <th>customer_type</th>\n",
              "      <td>-0.047622</td>\n",
              "      <td>-0.065687</td>\n",
              "      <td>0.075026</td>\n",
              "      <td>-0.005010</td>\n",
              "      <td>-0.030016</td>\n",
              "      <td>-0.028746</td>\n",
              "      <td>0.011833</td>\n",
              "      <td>0.046316</td>\n",
              "      <td>-0.166540</td>\n",
              "      <td>-0.068619</td>\n",
              "      <td>-0.017827</td>\n",
              "      <td>-0.122740</td>\n",
              "      <td>-0.086073</td>\n",
              "      <td>0.092221</td>\n",
              "      <td>-0.072593</td>\n",
              "      <td>0.098976</td>\n",
              "      <td>1.000000</td>\n",
              "      <td>-0.076453</td>\n",
              "      <td>-0.029671</td>\n",
              "      <td>-0.135601</td>\n",
              "      <td>0.063423</td>\n",
              "      <td>-0.136887</td>\n",
              "      <td>-0.114562</td>\n",
              "    </tr>\n",
              "    <tr>\n",
              "      <th>adr</th>\n",
              "      <td>-0.099411</td>\n",
              "      <td>0.047221</td>\n",
              "      <td>-0.061618</td>\n",
              "      <td>0.193542</td>\n",
              "      <td>0.080533</td>\n",
              "      <td>0.077035</td>\n",
              "      <td>0.028831</td>\n",
              "      <td>0.056627</td>\n",
              "      <td>0.231270</td>\n",
              "      <td>0.093562</td>\n",
              "      <td>-0.135030</td>\n",
              "      <td>0.382079</td>\n",
              "      <td>0.249941</td>\n",
              "      <td>0.018406</td>\n",
              "      <td>-0.086046</td>\n",
              "      <td>-0.039634</td>\n",
              "      <td>-0.076453</td>\n",
              "      <td>1.000000</td>\n",
              "      <td>0.051538</td>\n",
              "      <td>0.166498</td>\n",
              "      <td>-0.050022</td>\n",
              "      <td>0.061648</td>\n",
              "      <td>0.358278</td>\n",
              "    </tr>\n",
              "    <tr>\n",
              "      <th>required_car_parking_spaces</th>\n",
              "      <td>0.216490</td>\n",
              "      <td>-0.194711</td>\n",
              "      <td>-0.116425</td>\n",
              "      <td>-0.017678</td>\n",
              "      <td>0.001262</td>\n",
              "      <td>0.003264</td>\n",
              "      <td>0.010960</td>\n",
              "      <td>-0.039101</td>\n",
              "      <td>-0.061893</td>\n",
              "      <td>-0.132287</td>\n",
              "      <td>0.075030</td>\n",
              "      <td>0.130537</td>\n",
              "      <td>0.158195</td>\n",
              "      <td>0.062419</td>\n",
              "      <td>-0.089800</td>\n",
              "      <td>-0.029488</td>\n",
              "      <td>-0.029671</td>\n",
              "      <td>0.051538</td>\n",
              "      <td>1.000000</td>\n",
              "      <td>0.078700</td>\n",
              "      <td>0.178333</td>\n",
              "      <td>-0.025773</td>\n",
              "      <td>0.046669</td>\n",
              "    </tr>\n",
              "    <tr>\n",
              "      <th>total_of_special_requests</th>\n",
              "      <td>0.042221</td>\n",
              "      <td>-0.237031</td>\n",
              "      <td>-0.095988</td>\n",
              "      <td>0.111282</td>\n",
              "      <td>0.028146</td>\n",
              "      <td>0.026228</td>\n",
              "      <td>0.003720</td>\n",
              "      <td>0.024430</td>\n",
              "      <td>0.273916</td>\n",
              "      <td>0.098250</td>\n",
              "      <td>0.011924</td>\n",
              "      <td>0.138199</td>\n",
              "      <td>0.125054</td>\n",
              "      <td>0.053413</td>\n",
              "      <td>-0.266183</td>\n",
              "      <td>-0.082515</td>\n",
              "      <td>-0.135601</td>\n",
              "      <td>0.166498</td>\n",
              "      <td>0.078700</td>\n",
              "      <td>1.000000</td>\n",
              "      <td>0.226460</td>\n",
              "      <td>0.075344</td>\n",
              "      <td>0.156164</td>\n",
              "    </tr>\n",
              "    <tr>\n",
              "      <th>reservation_status</th>\n",
              "      <td>0.123520</td>\n",
              "      <td>-0.915883</td>\n",
              "      <td>-0.302591</td>\n",
              "      <td>-0.017228</td>\n",
              "      <td>-0.020803</td>\n",
              "      <td>-0.016978</td>\n",
              "      <td>0.012448</td>\n",
              "      <td>0.011251</td>\n",
              "      <td>-0.059299</td>\n",
              "      <td>-0.169993</td>\n",
              "      <td>0.084120</td>\n",
              "      <td>0.056839</td>\n",
              "      <td>0.171143</td>\n",
              "      <td>0.137648</td>\n",
              "      <td>-0.464571</td>\n",
              "      <td>-0.058119</td>\n",
              "      <td>0.063423</td>\n",
              "      <td>-0.050022</td>\n",
              "      <td>0.178333</td>\n",
              "      <td>0.226460</td>\n",
              "      <td>1.000000</td>\n",
              "      <td>-0.014246</td>\n",
              "      <td>-0.057639</td>\n",
              "    </tr>\n",
              "    <tr>\n",
              "      <th>total_days</th>\n",
              "      <td>0.242948</td>\n",
              "      <td>0.021257</td>\n",
              "      <td>0.157373</td>\n",
              "      <td>0.030954</td>\n",
              "      <td>0.019015</td>\n",
              "      <td>0.016210</td>\n",
              "      <td>-0.027971</td>\n",
              "      <td>0.044204</td>\n",
              "      <td>0.126700</td>\n",
              "      <td>0.100968</td>\n",
              "      <td>-0.105552</td>\n",
              "      <td>0.177722</td>\n",
              "      <td>0.106623</td>\n",
              "      <td>0.100446</td>\n",
              "      <td>-0.100240</td>\n",
              "      <td>-0.021316</td>\n",
              "      <td>-0.136887</td>\n",
              "      <td>0.061648</td>\n",
              "      <td>-0.025773</td>\n",
              "      <td>0.075344</td>\n",
              "      <td>-0.014246</td>\n",
              "      <td>1.000000</td>\n",
              "      <td>0.112017</td>\n",
              "    </tr>\n",
              "    <tr>\n",
              "      <th>total_customers</th>\n",
              "      <td>0.040640</td>\n",
              "      <td>0.048319</td>\n",
              "      <td>0.073295</td>\n",
              "      <td>0.050789</td>\n",
              "      <td>0.027894</td>\n",
              "      <td>0.025711</td>\n",
              "      <td>0.005131</td>\n",
              "      <td>-0.007995</td>\n",
              "      <td>0.212585</td>\n",
              "      <td>0.144714</td>\n",
              "      <td>-0.136845</td>\n",
              "      <td>0.384168</td>\n",
              "      <td>0.301207</td>\n",
              "      <td>-0.006804</td>\n",
              "      <td>-0.078236</td>\n",
              "      <td>-0.026106</td>\n",
              "      <td>-0.114562</td>\n",
              "      <td>0.358278</td>\n",
              "      <td>0.046669</td>\n",
              "      <td>0.156164</td>\n",
              "      <td>-0.057639</td>\n",
              "      <td>0.112017</td>\n",
              "      <td>1.000000</td>\n",
              "    </tr>\n",
              "  </tbody>\n",
              "</table>\n",
              "</div>"
            ]
          },
          "metadata": {
            "tags": []
          },
          "execution_count": 39
        }
      ]
    },
    {
      "cell_type": "code",
      "metadata": {
        "id": "F93hRFCpcdkz",
        "colab_type": "code",
        "outputId": "40970b47-df8b-4266-c0eb-b69777f39d9e",
        "colab": {
          "base_uri": "https://localhost:8080/",
          "height": 434
        }
      },
      "source": [
        "feat_corr = train.corr()\n",
        "feat_corr['deposit_type'].sort_values()"
      ],
      "execution_count": 40,
      "outputs": [
        {
          "output_type": "execute_result",
          "data": {
            "text/plain": [
              "reservation_status            -0.464571\n",
              "total_of_special_requests     -0.266183\n",
              "assigned_room_type            -0.240921\n",
              "reserved_room_type            -0.198719\n",
              "market_segment                -0.184932\n",
              "hotel                         -0.155026\n",
              "booking_changes               -0.110863\n",
              "total_days                    -0.100240\n",
              "meal                          -0.090271\n",
              "required_car_parking_spaces   -0.089800\n",
              "adr                           -0.086046\n",
              "total_customers               -0.078236\n",
              "customer_type                 -0.072593\n",
              "arrival_date_year             -0.065299\n",
              "is_repeated_guest             -0.057747\n",
              "arrival_date_day_of_month     -0.001229\n",
              "arrival_date_week_number       0.002251\n",
              "arrival_date_month             0.002369\n",
              "distribution_channel           0.091225\n",
              "days_in_waiting_list           0.121999\n",
              "lead_time                      0.375777\n",
              "is_canceled                    0.467354\n",
              "deposit_type                   1.000000\n",
              "Name: deposit_type, dtype: float64"
            ]
          },
          "metadata": {
            "tags": []
          },
          "execution_count": 40
        }
      ]
    },
    {
      "cell_type": "code",
      "metadata": {
        "id": "jXzHHwXhcdk2",
        "colab_type": "code",
        "outputId": "0a0ee269-790d-428f-a487-f2a0ceb16afc",
        "colab": {
          "base_uri": "https://localhost:8080/",
          "height": 530
        }
      },
      "source": [
        "plt.figure(figsize=(8,6))\n",
        "sns.heatmap(feat_corr)"
      ],
      "execution_count": 41,
      "outputs": [
        {
          "output_type": "execute_result",
          "data": {
            "text/plain": [
              "<matplotlib.axes._subplots.AxesSubplot at 0x7fd0d36c5210>"
            ]
          },
          "metadata": {
            "tags": []
          },
          "execution_count": 41
        },
        {
          "output_type": "display_data",
          "data": {
            "image/png": "[encoded data removed]",
            "text/plain": [
              "<Figure size 576x432 with 2 Axes>"
            ]
          },
          "metadata": {
            "tags": [],
            "needs_background": "light"
          }
        }
      ]
    },
    {
      "cell_type": "markdown",
      "metadata": {
        "id": "RXvcKVBIcdk4",
        "colab_type": "text"
      },
      "source": [
        "The diagonal shows correlation of each feature with itself, hence indicates highest correlation.\n",
        "Using the table and plot we observe that few features have veryhigh correlation\n",
        "Ex:- \n",
        "1. Arrival_date_year and arrival_date_month = -0.52\n",
        "2. Reservation_status and deposit type = -0.46 \n",
        "3. market_segment vs distribution_channel = 0.76\n",
        "4. reserved_room_type vs assigned_room_type = 0.81\n",
        "\n",
        "It is advisable to remove one of the features from the high correlation pair, but we will retain them and see the effect on performance"
      ]
    },
    {
      "cell_type": "code",
      "metadata": {
        "id": "5b1BLk_icdk5",
        "colab_type": "code",
        "outputId": "c9aeb630-b461-4b02-b092-95d6b40d67b5",
        "colab": {
          "base_uri": "https://localhost:8080/",
          "height": 434
        }
      },
      "source": [
        "feat_corr['is_canceled'].sort_values()"
      ],
      "execution_count": 42,
      "outputs": [
        {
          "output_type": "execute_result",
          "data": {
            "text/plain": [
              "reservation_status            -0.915883\n",
              "total_of_special_requests     -0.237031\n",
              "required_car_parking_spaces   -0.194711\n",
              "assigned_room_type            -0.173898\n",
              "booking_changes               -0.140347\n",
              "hotel                         -0.135266\n",
              "is_repeated_guest             -0.085456\n",
              "customer_type                 -0.065687\n",
              "reserved_room_type            -0.059555\n",
              "meal                          -0.014264\n",
              "arrival_date_day_of_month     -0.006537\n",
              "arrival_date_week_number       0.006479\n",
              "arrival_date_month             0.009405\n",
              "arrival_date_year              0.017205\n",
              "total_days                     0.021257\n",
              "adr                            0.047221\n",
              "total_customers                0.048319\n",
              "days_in_waiting_list           0.054322\n",
              "market_segment                 0.057241\n",
              "distribution_channel           0.166512\n",
              "lead_time                      0.293248\n",
              "deposit_type                   0.467354\n",
              "is_canceled                    1.000000\n",
              "Name: is_canceled, dtype: float64"
            ]
          },
          "metadata": {
            "tags": []
          },
          "execution_count": 42
        }
      ]
    },
    {
      "cell_type": "markdown",
      "metadata": {
        "id": "tJF5cuTtcdk8",
        "colab_type": "text"
      },
      "source": [
        "The reservation_status has high correlation with is_canceled. For iteration 1, lets retain the feature."
      ]
    },
    {
      "cell_type": "markdown",
      "metadata": {
        "id": "YUz2GgNjcdk8",
        "colab_type": "text"
      },
      "source": [
        "## Implementing Bernoulli NB"
      ]
    },
    {
      "cell_type": "markdown",
      "metadata": {
        "id": "bdHCmYH-cdk9",
        "colab_type": "text"
      },
      "source": [
        "Bernoulli NB classifier works on discrete data with Binary or boolean features. <a href=\"https://scikit-learn.org/stable/modules/generated/sklearn.naive_bayes.BernoulliNB.html#sklearn.naive_bayes.BernoulliNB\">sklearn documentation</a>"
      ]
    },
    {
      "cell_type": "markdown",
      "metadata": {
        "id": "8k94O1n5cdk-",
        "colab_type": "text"
      },
      "source": [
        "### Data discretization\n",
        "Convert continuous features to categorical features"
      ]
    },
    {
      "cell_type": "code",
      "metadata": {
        "id": "c_6IeTtkcdk-",
        "colab_type": "code",
        "colab": {}
      },
      "source": [
        "train = backup_train.copy()\n",
        "test=backup_test.copy()"
      ],
      "execution_count": 0,
      "outputs": []
    },
    {
      "cell_type": "code",
      "metadata": {
        "id": "0k3hKmd6cdlB",
        "colab_type": "code",
        "outputId": "1da232a5-8456-4617-caa0-1c437ed477c1",
        "colab": {
          "base_uri": "https://localhost:8080/",
          "height": 260
        }
      },
      "source": [
        "train.select_dtypes(include=[np.number]).dtypes"
      ],
      "execution_count": 44,
      "outputs": [
        {
          "output_type": "execute_result",
          "data": {
            "text/plain": [
              "is_canceled                      int64\n",
              "lead_time                        int64\n",
              "arrival_date_year                int64\n",
              "arrival_date_week_number         int64\n",
              "arrival_date_day_of_month        int64\n",
              "is_repeated_guest                int64\n",
              "booking_changes                  int64\n",
              "days_in_waiting_list             int64\n",
              "adr                            float64\n",
              "required_car_parking_spaces      int64\n",
              "total_of_special_requests        int64\n",
              "total_days                       int64\n",
              "total_customers                float64\n",
              "dtype: object"
            ]
          },
          "metadata": {
            "tags": []
          },
          "execution_count": 44
        }
      ]
    },
    {
      "cell_type": "markdown",
      "metadata": {
        "id": "QLqVLMzEcdlF",
        "colab_type": "text"
      },
      "source": [
        "### We will discretize the following continuous features -\n",
        "1. lead_time - Use quantile \n",
        "2. arrival_date_week_number - Use Custom bin size\n",
        "3. days_in_waiting_list - Drop the column\n",
        "4. adr - Use Quantile\n",
        "5. required_car_parking_spaces - 0 or more\n",
        "6. total_of_special_requests - Cap the feature to 3 requests        \n",
        "7. total_customers - Cap the feature to 4 customers               \n",
        "8. total_days - Use quantile"
      ]
    },
    {
      "cell_type": "code",
      "metadata": {
        "id": "QabC0EHxcdlG",
        "colab_type": "code",
        "outputId": "e85cc019-a23f-4241-8a37-e585ed2a324a",
        "colab": {
          "base_uri": "https://localhost:8080/",
          "height": 345
        }
      },
      "source": [
        "sns.set(rc={\"figure.figsize\": (5, 5)})\n",
        "ax = sns.distplot(train['lead_time'], bins=100, color='r')"
      ],
      "execution_count": 45,
      "outputs": [
        {
          "output_type": "display_data",
          "data": {
            "image/png": "[encoded data removed]",
            "text/plain": [
              "<Figure size 360x360 with 1 Axes>"
            ]
          },
          "metadata": {
            "tags": []
          }
        }
      ]
    },
    {
      "cell_type": "code",
      "metadata": {
        "id": "eo8Hm6GjcdlI",
        "colab_type": "code",
        "colab": {}
      },
      "source": [
        "train['lead_time_q'], bins = pd.qcut(train['lead_time'], q=4,labels=False, retbins=True)\n",
        "train=train.drop('lead_time',axis=1)\n",
        "test['lead_time_q']=pd.cut(test['lead_time'], bins=bins,labels=False,precision=0)\n",
        "test=test.drop('lead_time',axis=1)"
      ],
      "execution_count": 0,
      "outputs": []
    },
    {
      "cell_type": "code",
      "metadata": {
        "id": "brpRwgrzcdlK",
        "colab_type": "code",
        "outputId": "4defcac7-cf2d-491f-e51b-bc705e826b9f",
        "colab": {
          "base_uri": "https://localhost:8080/",
          "height": 206
        }
      },
      "source": [
        "train[['lead_time_q']][:5]"
      ],
      "execution_count": 47,
      "outputs": [
        {
          "output_type": "execute_result",
          "data": {
            "text/plain": [
              "        lead_time_q\n",
              "9710              2\n",
              "40307             1\n",
              "110051            2\n",
              "22999             0\n",
              "8344              1"
            ],
            "text/html": [
              "<div>\n",
              "<style scoped>\n",
              "    .dataframe tbody tr th:only-of-type {\n",
              "        vertical-align: middle;\n",
              "    }\n",
              "\n",
              "    .dataframe tbody tr th {\n",
              "        vertical-align: top;\n",
              "    }\n",
              "\n",
              "    .dataframe thead th {\n",
              "        text-align: right;\n",
              "    }\n",
              "</style>\n",
              "<table border=\"1\" class=\"dataframe\">\n",
              "  <thead>\n",
              "    <tr style=\"text-align: right;\">\n",
              "      <th></th>\n",
              "      <th>lead_time_q</th>\n",
              "    </tr>\n",
              "  </thead>\n",
              "  <tbody>\n",
              "    <tr>\n",
              "      <th>9710</th>\n",
              "      <td>2</td>\n",
              "    </tr>\n",
              "    <tr>\n",
              "      <th>40307</th>\n",
              "      <td>1</td>\n",
              "    </tr>\n",
              "    <tr>\n",
              "      <th>110051</th>\n",
              "      <td>2</td>\n",
              "    </tr>\n",
              "    <tr>\n",
              "      <th>22999</th>\n",
              "      <td>0</td>\n",
              "    </tr>\n",
              "    <tr>\n",
              "      <th>8344</th>\n",
              "      <td>1</td>\n",
              "    </tr>\n",
              "  </tbody>\n",
              "</table>\n",
              "</div>"
            ]
          },
          "metadata": {
            "tags": []
          },
          "execution_count": 47
        }
      ]
    },
    {
      "cell_type": "code",
      "metadata": {
        "id": "UAgCXybWcdlO",
        "colab_type": "code",
        "outputId": "4912a970-935c-4c57-c249-3f4e66443e79",
        "colab": {
          "base_uri": "https://localhost:8080/",
          "height": 373
        }
      },
      "source": [
        "train_0=train[(train['is_canceled']==0)]\n",
        "train_1=train[train['is_canceled']==1]\n",
        "fig, axes = plt.subplots(1, 2,figsize=(15,5))\n",
        "train_0.hist(column='arrival_date_week_number',bins=52,ax=axes[0])\n",
        "train_1.hist(column='arrival_date_week_number',bins=52,ax=axes[1])"
      ],
      "execution_count": 48,
      "outputs": [
        {
          "output_type": "execute_result",
          "data": {
            "text/plain": [
              "array([<matplotlib.axes._subplots.AxesSubplot object at 0x7fd0d33fa310>],\n",
              "      dtype=object)"
            ]
          },
          "metadata": {
            "tags": []
          },
          "execution_count": 48
        },
        {
          "output_type": "display_data",
          "data": {
            "image/png": "[encoded data removed]",
            "text/plain": [
              "<Figure size 1080x360 with 2 Axes>"
            ]
          },
          "metadata": {
            "tags": []
          }
        }
      ]
    },
    {
      "cell_type": "code",
      "metadata": {
        "id": "uNhCYIn9cdlS",
        "colab_type": "code",
        "colab": {}
      },
      "source": [
        "bins = [1,13,26,39,53]\n",
        "train['arrival_date_week_number_q'] = pd.cut(train['arrival_date_week_number'], bins=bins,labels=False)\n",
        "train=train.drop('arrival_date_week_number',axis=1)\n",
        "test['arrival_date_week_number_q']=pd.cut(test['arrival_date_week_number'], bins=bins,labels=False)\n",
        "test=test.drop('arrival_date_week_number',axis=1)"
      ],
      "execution_count": 0,
      "outputs": []
    },
    {
      "cell_type": "code",
      "metadata": {
        "id": "GOYSwpP1cdlW",
        "colab_type": "code",
        "outputId": "366d8de7-de90-477d-ac76-959052903536",
        "colab": {
          "base_uri": "https://localhost:8080/",
          "height": 373
        }
      },
      "source": [
        "train_0=train[(train['is_canceled']==0)]\n",
        "train_1=train[train['is_canceled']==1]\n",
        "fig, axes = plt.subplots(1, 2,figsize=(15,5))\n",
        "train_0.hist(column='days_in_waiting_list',bins=100,ax=axes[0])\n",
        "train_1.hist(column='days_in_waiting_list',bins=100,ax=axes[1])"
      ],
      "execution_count": 50,
      "outputs": [
        {
          "output_type": "execute_result",
          "data": {
            "text/plain": [
              "array([<matplotlib.axes._subplots.AxesSubplot object at 0x7fd0d31f58d0>],\n",
              "      dtype=object)"
            ]
          },
          "metadata": {
            "tags": []
          },
          "execution_count": 50
        },
        {
          "output_type": "display_data",
          "data": {
            "image/png": "[encoded data removed]",
            "text/plain": [
              "<Figure size 1080x360 with 2 Axes>"
            ]
          },
          "metadata": {
            "tags": []
          }
        }
      ]
    },
    {
      "cell_type": "code",
      "metadata": {
        "id": "Vllwsb2scdlZ",
        "colab_type": "code",
        "colab": {}
      },
      "source": [
        "train=train.drop('days_in_waiting_list',axis=1)\n",
        "test=test.drop('days_in_waiting_list',axis=1)"
      ],
      "execution_count": 0,
      "outputs": []
    },
    {
      "cell_type": "code",
      "metadata": {
        "id": "FQCo1i7acdlc",
        "colab_type": "code",
        "outputId": "d00c83ff-6911-41fe-96da-3fab160d53f0",
        "colab": {
          "base_uri": "https://localhost:8080/",
          "height": 558
        }
      },
      "source": [
        "train_0=train[(train['is_canceled']==0)]\n",
        "train_1=train[train['is_canceled']==1]\n",
        "sns.set(rc={\"figure.figsize\": (20, 20)})\n",
        "subplot(2,2,1)\n",
        "ax = sns.distplot(train_0['adr'], bins=100, color='r')\n",
        "subplot(2,2,2)\n",
        "ax=sns.distplot(train_1['adr'], bins=100, color='g')"
      ],
      "execution_count": 52,
      "outputs": [
        {
          "output_type": "display_data",
          "data": {
            "image/png": "[encoded data removed]",
            "text/plain": [
              "<Figure size 1440x1440 with 2 Axes>"
            ]
          },
          "metadata": {
            "tags": []
          }
        }
      ]
    },
    {
      "cell_type": "code",
      "metadata": {
        "id": "6FF7puuCcdlf",
        "colab_type": "code",
        "colab": {}
      },
      "source": [
        "train['adr_q'], bins = pd.qcut(train['adr'], q=4,labels=False, retbins=True)\n",
        "train=train.drop('adr',axis=1)\n",
        "test['adr_q']=pd.cut(test['adr'], bins=bins,labels=False,precision=0)\n",
        "test=test.drop('adr',axis=1)"
      ],
      "execution_count": 0,
      "outputs": []
    },
    {
      "cell_type": "code",
      "metadata": {
        "id": "oUoDC5JEcdlj",
        "colab_type": "code",
        "outputId": "592d41ac-38dc-450d-8a22-abcc4d47c992",
        "colab": {
          "base_uri": "https://localhost:8080/",
          "height": 373
        }
      },
      "source": [
        "train_0=train[(train['is_canceled']==0)]\n",
        "train_1=train[train['is_canceled']==1]\n",
        "fig, axes = plt.subplots(1, 2,figsize=(15,5))\n",
        "train_0.hist(column='required_car_parking_spaces',bins=20,ax=axes[0])\n",
        "train_1.hist(column='required_car_parking_spaces',bins=20,ax=axes[1])"
      ],
      "execution_count": 54,
      "outputs": [
        {
          "output_type": "execute_result",
          "data": {
            "text/plain": [
              "array([<matplotlib.axes._subplots.AxesSubplot object at 0x7fd0d2cb7190>],\n",
              "      dtype=object)"
            ]
          },
          "metadata": {
            "tags": []
          },
          "execution_count": 54
        },
        {
          "output_type": "display_data",
          "data": {
            "image/png": "[encoded data removed]",
            "text/plain": [
              "<Figure size 1080x360 with 2 Axes>"
            ]
          },
          "metadata": {
            "tags": []
          }
        }
      ]
    },
    {
      "cell_type": "code",
      "metadata": {
        "id": "Biqb0zrAcdln",
        "colab_type": "code",
        "colab": {}
      },
      "source": [
        "train['required_car_parking_spaces'][train['required_car_parking_spaces'] >= 1] = 1\n",
        "test['required_car_parking_spaces'][test['required_car_parking_spaces'] >= 1] = 1"
      ],
      "execution_count": 0,
      "outputs": []
    },
    {
      "cell_type": "code",
      "metadata": {
        "id": "Z45xosDscdlp",
        "colab_type": "code",
        "outputId": "29564f5b-5654-45c4-8029-bfe52f272607",
        "colab": {
          "base_uri": "https://localhost:8080/",
          "height": 373
        }
      },
      "source": [
        "train_0=train[(train['is_canceled']==0)]\n",
        "train_1=train[train['is_canceled']==1]\n",
        "fig, axes = plt.subplots(1, 2,figsize=(15,5))\n",
        "train_0.hist(column='total_of_special_requests',bins=20,ax=axes[0])\n",
        "train_1.hist(column='total_of_special_requests',bins=20,ax=axes[1])"
      ],
      "execution_count": 56,
      "outputs": [
        {
          "output_type": "execute_result",
          "data": {
            "text/plain": [
              "array([<matplotlib.axes._subplots.AxesSubplot object at 0x7fd0d35071d0>],\n",
              "      dtype=object)"
            ]
          },
          "metadata": {
            "tags": []
          },
          "execution_count": 56
        },
        {
          "output_type": "display_data",
          "data": {
            "image/png": "[encoded data removed]",
            "text/plain": [
              "<Figure size 1080x360 with 2 Axes>"
            ]
          },
          "metadata": {
            "tags": []
          }
        }
      ]
    },
    {
      "cell_type": "code",
      "metadata": {
        "id": "aIB5-QQjcdls",
        "colab_type": "code",
        "colab": {}
      },
      "source": [
        "train['total_of_special_requests'][train['total_of_special_requests'] >= 3] = 3\n",
        "test['total_of_special_requests'][test['total_of_special_requests'] >= 3] = 3"
      ],
      "execution_count": 0,
      "outputs": []
    },
    {
      "cell_type": "code",
      "metadata": {
        "id": "ln596euYcdlv",
        "colab_type": "code",
        "colab": {}
      },
      "source": [
        "train['total_days_q'], bins = pd.qcut(train['total_days'], q=4,labels=False, retbins=True)\n",
        "train=train.drop('total_days',axis=1)\n",
        "test['total_days_q']=pd.cut(test['total_days'], bins=bins,labels=False,precision=0)\n",
        "test=test.drop('total_days',axis=1)"
      ],
      "execution_count": 0,
      "outputs": []
    },
    {
      "cell_type": "code",
      "metadata": {
        "id": "aCHxwmL0cdly",
        "colab_type": "code",
        "outputId": "d591fec1-8a84-475c-f939-f4eae79e5530",
        "colab": {
          "base_uri": "https://localhost:8080/",
          "height": 359
        }
      },
      "source": [
        "train_0=train[(train['is_canceled']==0)]\n",
        "train_1=train[train['is_canceled']==1]\n",
        "fig, axes = plt.subplots(1, 2,figsize=(15,5))\n",
        "train_0['total_customers'].value_counts().plot('bar',ax=axes[0])\n",
        "train_1['total_customers'].value_counts().plot('bar',ax=axes[1])"
      ],
      "execution_count": 59,
      "outputs": [
        {
          "output_type": "execute_result",
          "data": {
            "text/plain": [
              "<matplotlib.axes._subplots.AxesSubplot at 0x7fd0d2b9fe10>"
            ]
          },
          "metadata": {
            "tags": []
          },
          "execution_count": 59
        },
        {
          "output_type": "display_data",
          "data": {
            "image/png": "[encoded data removed]",
            "text/plain": [
              "<Figure size 1080x360 with 2 Axes>"
            ]
          },
          "metadata": {
            "tags": []
          }
        }
      ]
    },
    {
      "cell_type": "code",
      "metadata": {
        "scrolled": true,
        "id": "k3vyZDaOcdl1",
        "colab_type": "code",
        "colab": {}
      },
      "source": [
        "train['total_customers'][train['total_customers'] >= 4] = 4\n",
        "train['total_customers'][train['total_customers'] <= 0] = 1\n",
        "\n",
        "test['total_customers'][test['total_customers'] >= 4] = 4\n",
        "test['total_customers'][test['total_customers'] <= 1] = 1"
      ],
      "execution_count": 0,
      "outputs": []
    },
    {
      "cell_type": "code",
      "metadata": {
        "id": "303h8_lPcdl4",
        "colab_type": "code",
        "outputId": "1fba8ec2-7bbb-4229-c9fc-bc79382bb134",
        "colab": {
          "base_uri": "https://localhost:8080/",
          "height": 349
        }
      },
      "source": [
        "train_0=train[(train['is_canceled']==0)]\n",
        "train_1=train[train['is_canceled']==1]\n",
        "fig, axes = plt.subplots(1, 2,figsize=(15,5))\n",
        "train_0['arrival_date_day_of_month'].value_counts().plot('bar',ax=axes[0])\n",
        "train_1['arrival_date_day_of_month'].value_counts().plot('bar',ax=axes[1])"
      ],
      "execution_count": 61,
      "outputs": [
        {
          "output_type": "execute_result",
          "data": {
            "text/plain": [
              "<matplotlib.axes._subplots.AxesSubplot at 0x7fd0d2a45490>"
            ]
          },
          "metadata": {
            "tags": []
          },
          "execution_count": 61
        },
        {
          "output_type": "display_data",
          "data": {
            "image/png": "[encoded data removed]",
            "text/plain": [
              "<Figure size 1080x360 with 2 Axes>"
            ]
          },
          "metadata": {
            "tags": []
          }
        }
      ]
    },
    {
      "cell_type": "code",
      "metadata": {
        "id": "8FIWEs4icdl6",
        "colab_type": "code",
        "colab": {}
      },
      "source": [
        "train['arrival_date_day_of_month_q'], bins = pd.qcut(train['arrival_date_day_of_month'], q=4,labels=False, retbins=True)\n",
        "train=train.drop('arrival_date_day_of_month',axis=1)\n",
        "test['arrival_date_day_of_month_q']=pd.cut(test['arrival_date_day_of_month'], bins=bins,labels=False,precision=0)\n",
        "test=test.drop('arrival_date_day_of_month',axis=1)"
      ],
      "execution_count": 0,
      "outputs": []
    },
    {
      "cell_type": "code",
      "metadata": {
        "id": "6FpVJWcpcdl9",
        "colab_type": "code",
        "outputId": "e2c6a2c5-d77b-4ece-f4e6-a7b997a82507",
        "colab": {
          "base_uri": "https://localhost:8080/",
          "height": 34
        }
      },
      "source": [
        "train.shape"
      ],
      "execution_count": 63,
      "outputs": [
        {
          "output_type": "execute_result",
          "data": {
            "text/plain": [
              "(83573, 22)"
            ]
          },
          "metadata": {
            "tags": []
          },
          "execution_count": 63
        }
      ]
    },
    {
      "cell_type": "code",
      "metadata": {
        "id": "65Uicj5Dcdl_",
        "colab_type": "code",
        "outputId": "85599237-dc09-4275-80da-6f7d7d20a07e",
        "colab": {
          "base_uri": "https://localhost:8080/",
          "height": 173
        }
      },
      "source": [
        "train.columns"
      ],
      "execution_count": 64,
      "outputs": [
        {
          "output_type": "execute_result",
          "data": {
            "text/plain": [
              "Index([u'hotel', u'is_canceled', u'arrival_date_year', u'arrival_date_month',\n",
              "       u'meal', u'market_segment', u'distribution_channel',\n",
              "       u'is_repeated_guest', u'reserved_room_type', u'assigned_room_type',\n",
              "       u'booking_changes', u'deposit_type', u'customer_type',\n",
              "       u'required_car_parking_spaces', u'total_of_special_requests',\n",
              "       u'reservation_status', u'total_customers', u'lead_time_q',\n",
              "       u'arrival_date_week_number_q', u'adr_q', u'total_days_q',\n",
              "       u'arrival_date_day_of_month_q'],\n",
              "      dtype='object')"
            ]
          },
          "metadata": {
            "tags": []
          },
          "execution_count": 64
        }
      ]
    },
    {
      "cell_type": "markdown",
      "metadata": {
        "id": "1IL2Gu2hcdmC",
        "colab_type": "text"
      },
      "source": [
        "### Model 1 "
      ]
    },
    {
      "cell_type": "code",
      "metadata": {
        "id": "1_a1c4TDcdmC",
        "colab_type": "code",
        "colab": {}
      },
      "source": [
        "y_train = train[\"is_canceled\"]\n",
        "X_train = train.drop([\"is_canceled\"], axis=1)\n",
        "y_test = test[\"is_canceled\"]\n",
        "X_test = test.drop([\"is_canceled\"], axis=1)"
      ],
      "execution_count": 0,
      "outputs": []
    },
    {
      "cell_type": "code",
      "metadata": {
        "id": "_4g681qbcdmU",
        "colab_type": "code",
        "colab": {}
      },
      "source": [
        "X_train_enc = pd.get_dummies(data=X_train,columns=X_train.columns)\n",
        "X_test_enc = pd.get_dummies(data=X_test,columns=X_test.columns)\n",
        "X_train_enc,X_test_enc =X_train_enc.align(X_test_enc, join='left', axis=1)\n",
        "X_test_enc=X_test_enc.fillna(0)"
      ],
      "execution_count": 0,
      "outputs": []
    },
    {
      "cell_type": "code",
      "metadata": {
        "id": "uORXLL7JcdmX",
        "colab_type": "code",
        "outputId": "cc16ca9a-f212-4267-a313-5840e4e14d24",
        "colab": {}
      },
      "source": [
        "X_train_enc[:5]"
      ],
      "execution_count": 0,
      "outputs": [
        {
          "output_type": "execute_result",
          "data": {
            "text/html": [
              "<div>\n",
              "<style scoped>\n",
              "    .dataframe tbody tr th:only-of-type {\n",
              "        vertical-align: middle;\n",
              "    }\n",
              "\n",
              "    .dataframe tbody tr th {\n",
              "        vertical-align: top;\n",
              "    }\n",
              "\n",
              "    .dataframe thead th {\n",
              "        text-align: right;\n",
              "    }\n",
              "</style>\n",
              "<table border=\"1\" class=\"dataframe\">\n",
              "  <thead>\n",
              "    <tr style=\"text-align: right;\">\n",
              "      <th></th>\n",
              "      <th>hotel_City Hotel</th>\n",
              "      <th>hotel_Resort Hotel</th>\n",
              "      <th>arrival_date_year_2015</th>\n",
              "      <th>arrival_date_year_2016</th>\n",
              "      <th>arrival_date_year_2017</th>\n",
              "      <th>arrival_date_month_April</th>\n",
              "      <th>arrival_date_month_August</th>\n",
              "      <th>arrival_date_month_December</th>\n",
              "      <th>arrival_date_month_February</th>\n",
              "      <th>arrival_date_month_January</th>\n",
              "      <th>...</th>\n",
              "      <th>adr_q_2</th>\n",
              "      <th>adr_q_3</th>\n",
              "      <th>total_days_q_0</th>\n",
              "      <th>total_days_q_1</th>\n",
              "      <th>total_days_q_2</th>\n",
              "      <th>total_days_q_3</th>\n",
              "      <th>arrival_date_day_of_month_q_0</th>\n",
              "      <th>arrival_date_day_of_month_q_1</th>\n",
              "      <th>arrival_date_day_of_month_q_2</th>\n",
              "      <th>arrival_date_day_of_month_q_3</th>\n",
              "    </tr>\n",
              "  </thead>\n",
              "  <tbody>\n",
              "    <tr>\n",
              "      <th>9710</th>\n",
              "      <td>0</td>\n",
              "      <td>1</td>\n",
              "      <td>0</td>\n",
              "      <td>1</td>\n",
              "      <td>0</td>\n",
              "      <td>0</td>\n",
              "      <td>0</td>\n",
              "      <td>1</td>\n",
              "      <td>0</td>\n",
              "      <td>0</td>\n",
              "      <td>...</td>\n",
              "      <td>0</td>\n",
              "      <td>0</td>\n",
              "      <td>0</td>\n",
              "      <td>0</td>\n",
              "      <td>1</td>\n",
              "      <td>0</td>\n",
              "      <td>0</td>\n",
              "      <td>0</td>\n",
              "      <td>0</td>\n",
              "      <td>1</td>\n",
              "    </tr>\n",
              "    <tr>\n",
              "      <th>40307</th>\n",
              "      <td>1</td>\n",
              "      <td>0</td>\n",
              "      <td>1</td>\n",
              "      <td>0</td>\n",
              "      <td>0</td>\n",
              "      <td>0</td>\n",
              "      <td>0</td>\n",
              "      <td>0</td>\n",
              "      <td>0</td>\n",
              "      <td>0</td>\n",
              "      <td>...</td>\n",
              "      <td>0</td>\n",
              "      <td>0</td>\n",
              "      <td>1</td>\n",
              "      <td>0</td>\n",
              "      <td>0</td>\n",
              "      <td>0</td>\n",
              "      <td>0</td>\n",
              "      <td>0</td>\n",
              "      <td>1</td>\n",
              "      <td>0</td>\n",
              "    </tr>\n",
              "    <tr>\n",
              "      <th>110051</th>\n",
              "      <td>1</td>\n",
              "      <td>0</td>\n",
              "      <td>0</td>\n",
              "      <td>0</td>\n",
              "      <td>1</td>\n",
              "      <td>1</td>\n",
              "      <td>0</td>\n",
              "      <td>0</td>\n",
              "      <td>0</td>\n",
              "      <td>0</td>\n",
              "      <td>...</td>\n",
              "      <td>0</td>\n",
              "      <td>1</td>\n",
              "      <td>0</td>\n",
              "      <td>0</td>\n",
              "      <td>0</td>\n",
              "      <td>1</td>\n",
              "      <td>0</td>\n",
              "      <td>1</td>\n",
              "      <td>0</td>\n",
              "      <td>0</td>\n",
              "    </tr>\n",
              "    <tr>\n",
              "      <th>22999</th>\n",
              "      <td>0</td>\n",
              "      <td>1</td>\n",
              "      <td>0</td>\n",
              "      <td>0</td>\n",
              "      <td>1</td>\n",
              "      <td>0</td>\n",
              "      <td>0</td>\n",
              "      <td>0</td>\n",
              "      <td>1</td>\n",
              "      <td>0</td>\n",
              "      <td>...</td>\n",
              "      <td>0</td>\n",
              "      <td>0</td>\n",
              "      <td>1</td>\n",
              "      <td>0</td>\n",
              "      <td>0</td>\n",
              "      <td>0</td>\n",
              "      <td>1</td>\n",
              "      <td>0</td>\n",
              "      <td>0</td>\n",
              "      <td>0</td>\n",
              "    </tr>\n",
              "    <tr>\n",
              "      <th>8344</th>\n",
              "      <td>0</td>\n",
              "      <td>1</td>\n",
              "      <td>0</td>\n",
              "      <td>1</td>\n",
              "      <td>0</td>\n",
              "      <td>0</td>\n",
              "      <td>0</td>\n",
              "      <td>0</td>\n",
              "      <td>0</td>\n",
              "      <td>0</td>\n",
              "      <td>...</td>\n",
              "      <td>1</td>\n",
              "      <td>0</td>\n",
              "      <td>1</td>\n",
              "      <td>0</td>\n",
              "      <td>0</td>\n",
              "      <td>0</td>\n",
              "      <td>0</td>\n",
              "      <td>0</td>\n",
              "      <td>1</td>\n",
              "      <td>0</td>\n",
              "    </tr>\n",
              "  </tbody>\n",
              "</table>\n",
              "<p>5 rows × 118 columns</p>\n",
              "</div>"
            ],
            "text/plain": [
              "        hotel_City Hotel  hotel_Resort Hotel  arrival_date_year_2015  \\\n",
              "9710                   0                   1                       0   \n",
              "40307                  1                   0                       1   \n",
              "110051                 1                   0                       0   \n",
              "22999                  0                   1                       0   \n",
              "8344                   0                   1                       0   \n",
              "\n",
              "        arrival_date_year_2016  arrival_date_year_2017  \\\n",
              "9710                         1                       0   \n",
              "40307                        0                       0   \n",
              "110051                       0                       1   \n",
              "22999                        0                       1   \n",
              "8344                         1                       0   \n",
              "\n",
              "        arrival_date_month_April  arrival_date_month_August  \\\n",
              "9710                           0                          0   \n",
              "40307                          0                          0   \n",
              "110051                         1                          0   \n",
              "22999                          0                          0   \n",
              "8344                           0                          0   \n",
              "\n",
              "        arrival_date_month_December  arrival_date_month_February  \\\n",
              "9710                              1                            0   \n",
              "40307                             0                            0   \n",
              "110051                            0                            0   \n",
              "22999                             0                            1   \n",
              "8344                              0                            0   \n",
              "\n",
              "        arrival_date_month_January  ...  adr_q_2  adr_q_3  total_days_q_0  \\\n",
              "9710                             0  ...        0        0               0   \n",
              "40307                            0  ...        0        0               1   \n",
              "110051                           0  ...        0        1               0   \n",
              "22999                            0  ...        0        0               1   \n",
              "8344                             0  ...        1        0               1   \n",
              "\n",
              "        total_days_q_1  total_days_q_2  total_days_q_3  \\\n",
              "9710                 0               1               0   \n",
              "40307                0               0               0   \n",
              "110051               0               0               1   \n",
              "22999                0               0               0   \n",
              "8344                 0               0               0   \n",
              "\n",
              "        arrival_date_day_of_month_q_0  arrival_date_day_of_month_q_1  \\\n",
              "9710                                0                              0   \n",
              "40307                               0                              0   \n",
              "110051                              0                              1   \n",
              "22999                               1                              0   \n",
              "8344                                0                              0   \n",
              "\n",
              "        arrival_date_day_of_month_q_2  arrival_date_day_of_month_q_3  \n",
              "9710                                0                              1  \n",
              "40307                               1                              0  \n",
              "110051                              0                              0  \n",
              "22999                               0                              0  \n",
              "8344                                1                              0  \n",
              "\n",
              "[5 rows x 118 columns]"
            ]
          },
          "metadata": {
            "tags": []
          },
          "execution_count": 68
        }
      ]
    },
    {
      "cell_type": "code",
      "metadata": {
        "id": "8HbJmyXccdma",
        "colab_type": "code",
        "outputId": "feef9226-0853-4527-d53f-67df36302f8d",
        "colab": {
          "base_uri": "https://localhost:8080/",
          "height": 34
        }
      },
      "source": [
        "clf_bern1 = BernoulliNB()\n",
        "clf_bern1.fit(X_train_enc, y_train)"
      ],
      "execution_count": 68,
      "outputs": [
        {
          "output_type": "execute_result",
          "data": {
            "text/plain": [
              "BernoulliNB(alpha=1.0, binarize=0.0, class_prior=None, fit_prior=True)"
            ]
          },
          "metadata": {
            "tags": []
          },
          "execution_count": 68
        }
      ]
    },
    {
      "cell_type": "markdown",
      "metadata": {
        "id": "YsWqu8tBcdme",
        "colab_type": "text"
      },
      "source": [
        "<b> Parameters - </b>\n",
        "1. Alpha - Smoothing parameter\n",
        "2. Binarize - Threshold for binarizing (mapping to booleans) of sample features\n",
        "3. Fit_prior - Learn class prior probabilities from data or using user provided priors\n",
        "4. Class_prior - Prior probabilities of the classes. If specified the priors are not adjusted according to the data"
      ]
    },
    {
      "cell_type": "markdown",
      "metadata": {
        "id": "Oj8B1TE6cdme",
        "colab_type": "text"
      },
      "source": [
        "## Evaluation metric\n",
        "<b> Precission and Recall </b>"
      ]
    },
    {
      "cell_type": "markdown",
      "metadata": {
        "id": "dGu2az8gcdmf",
        "colab_type": "text"
      },
      "source": [
        "\n",
        "<img src=\"https://github.com/WomenWhoCode/WWCodeDataScience/blob/master/Intro_to_MachineLearning/img/PR%20diagram1.PNG?raw=1\" width=\"200p\"/>\n",
        "<img src=\"https://github.com/WomenWhoCode/WWCodeDataScience/blob/master/Intro_to_MachineLearning/img/PR%20diagram%202.PNG?raw=1\" width=\"400\"/>\n"
      ]
    },
    {
      "cell_type": "markdown",
      "metadata": {
        "id": "QO33o01Ecdmg",
        "colab_type": "text"
      },
      "source": [
        "<br><b> Confusion Matrix </b>\n",
        "<img src=\"https://github.com/WomenWhoCode/WWCodeDataScience/blob/master/Intro_to_MachineLearning/img/Confusion%20matrix.PNG?raw=1\" width=\"200\"/>"
      ]
    },
    {
      "cell_type": "code",
      "metadata": {
        "id": "mEg4NcvZcdmh",
        "colab_type": "code",
        "colab": {}
      },
      "source": [
        "y_pred_bern1 = clf_bern1.predict(X_test_enc)\n",
        "y_prob_bern1=clf_bern1.predict_proba(X_test_enc)"
      ],
      "execution_count": 0,
      "outputs": []
    },
    {
      "cell_type": "code",
      "metadata": {
        "id": "0qBBuURhcdmj",
        "colab_type": "code",
        "outputId": "85e900e7-2444-4764-d830-0d8999a71fa6",
        "colab": {
          "base_uri": "https://localhost:8080/",
          "height": 34
        }
      },
      "source": [
        "y_pred_bern1[:10]"
      ],
      "execution_count": 70,
      "outputs": [
        {
          "output_type": "execute_result",
          "data": {
            "text/plain": [
              "array([0, 1, 0, 0, 0, 0, 1, 0, 0, 0])"
            ]
          },
          "metadata": {
            "tags": []
          },
          "execution_count": 70
        }
      ]
    },
    {
      "cell_type": "code",
      "metadata": {
        "id": "3jMoTfdWcdmm",
        "colab_type": "code",
        "outputId": "00bb1873-c294-45c6-ed31-a77cce1d74f1",
        "colab": {
          "base_uri": "https://localhost:8080/",
          "height": 191
        }
      },
      "source": [
        "y_prob_bern1[:10]"
      ],
      "execution_count": 71,
      "outputs": [
        {
          "output_type": "execute_result",
          "data": {
            "text/plain": [
              "array([[9.99999999e-01, 5.02418625e-10],\n",
              "       [5.51943911e-11, 1.00000000e+00],\n",
              "       [1.00000000e+00, 1.58222076e-10],\n",
              "       [9.99999568e-01, 4.31729356e-07],\n",
              "       [9.99989462e-01, 1.05375169e-05],\n",
              "       [9.99998797e-01, 1.20295386e-06],\n",
              "       [8.87965924e-10, 9.99999999e-01],\n",
              "       [9.99999737e-01, 2.63231796e-07],\n",
              "       [9.99999994e-01, 5.94617864e-09],\n",
              "       [9.99994337e-01, 5.66287011e-06]])"
            ]
          },
          "metadata": {
            "tags": []
          },
          "execution_count": 71
        }
      ]
    },
    {
      "cell_type": "code",
      "metadata": {
        "id": "qWrOCWjRcdmo",
        "colab_type": "code",
        "outputId": "1e0098e2-93a0-4656-a345-bf5fecdb4a03",
        "colab": {
          "base_uri": "https://localhost:8080/",
          "height": 121
        }
      },
      "source": [
        "print('test-set confusion matrix:\\n', confusion_matrix(y_test,y_pred_bern1)) \n",
        "print(\"recall score: \", recall_score(y_test,y_pred_bern1))\n",
        "print(\"precision score: \", precision_score(y_test,y_pred_bern1))\n",
        "print(\"f1 score: \", f1_score(y_test,y_pred_bern1))\n",
        "print(\"accuracy score: \", accuracy_score(y_test,y_pred_bern1))"
      ],
      "execution_count": 72,
      "outputs": [
        {
          "output_type": "stream",
          "text": [
            "('test-set confusion matrix:\\n', array([[22478,     0],\n",
            "       [    0, 13339]]))\n",
            "('recall score: ', 1.0)\n",
            "('precision score: ', 1.0)\n",
            "('f1 score: ', 1.0)\n",
            "('accuracy score: ', 1.0)\n"
          ],
          "name": "stdout"
        }
      ]
    },
    {
      "cell_type": "markdown",
      "metadata": {
        "id": "_45wU4yZcdmq",
        "colab_type": "text"
      },
      "source": [
        "### Model 2 - \n",
        "Remove the feature that is highly correlated with target feature\n",
        "<br>\n",
        "<b>Reservation_status</b> has high correlation with is_canceled. Looking at the values in column reveals that canceled is a reservation type. This might be causing data leak. Hence we will delete this feature"
      ]
    },
    {
      "cell_type": "code",
      "metadata": {
        "id": "pOcSiAxacdmr",
        "colab_type": "code",
        "outputId": "ed40315e-f4be-4997-ab61-61f225a15307",
        "colab": {
          "base_uri": "https://localhost:8080/",
          "height": 34
        }
      },
      "source": [
        "backup_train['reservation_status'].unique()"
      ],
      "execution_count": 74,
      "outputs": [
        {
          "output_type": "execute_result",
          "data": {
            "text/plain": [
              "array(['Canceled', 'Check-Out', 'No-Show'], dtype=object)"
            ]
          },
          "metadata": {
            "tags": []
          },
          "execution_count": 74
        }
      ]
    },
    {
      "cell_type": "code",
      "metadata": {
        "id": "k5wEP0Dhcdmu",
        "colab_type": "code",
        "colab": {}
      },
      "source": [
        "X_train = X_train.drop('reservation_status',axis=1)\n",
        "X_test = X_test.drop('reservation_status',axis=1)"
      ],
      "execution_count": 0,
      "outputs": []
    },
    {
      "cell_type": "code",
      "metadata": {
        "id": "S3RD0veNcdmw",
        "colab_type": "code",
        "colab": {}
      },
      "source": [
        "X_train_enc = pd.get_dummies(data=X_train,columns=X_train.columns)\n",
        "X_test_enc = pd.get_dummies(data=X_test,columns=X_test.columns)\n",
        "X_train_enc,X_test_enc =X_train_enc.align(X_test_enc, join='left', axis=1)\n",
        "X_test_enc=X_test_enc.fillna(0)"
      ],
      "execution_count": 0,
      "outputs": []
    },
    {
      "cell_type": "code",
      "metadata": {
        "id": "48qZp1j3cdm1",
        "colab_type": "code",
        "outputId": "7bebf2ed-3bcd-41a8-a466-61a053744497",
        "colab": {
          "base_uri": "https://localhost:8080/",
          "height": 121
        }
      },
      "source": [
        "clf_bern2 = BernoulliNB()\n",
        "clf_bern2.fit(X_train_enc, y_train)\n",
        "y_pred_bern2 = clf_bern2.predict(X_test_enc)\n",
        "y_prob_bern2=clf_bern2.predict_proba(X_test_enc)\n",
        "print('test-set confusion matrix:\\n', confusion_matrix(y_test,y_pred_bern2)) \n",
        "print(\"recall score: \", recall_score(y_test,y_pred_bern2))\n",
        "print(\"precision score: \", precision_score(y_test,y_pred_bern2))\n",
        "print(\"f1 score: \", f1_score(y_test,y_pred_bern2))\n",
        "print(\"accuracy score: \", accuracy_score(y_test,y_pred_bern2))"
      ],
      "execution_count": 77,
      "outputs": [
        {
          "output_type": "stream",
          "text": [
            "('test-set confusion matrix:\\n', array([[18713,  3765],\n",
            "       [ 5549,  7790]]))\n",
            "('recall score: ', 0.584001799235325)\n",
            "('precision score: ', 0.674167027260926)\n",
            "('f1 score: ', 0.6258536193460272)\n",
            "('accuracy score: ', 0.7399558868693638)\n"
          ],
          "name": "stdout"
        }
      ]
    },
    {
      "cell_type": "markdown",
      "metadata": {
        "id": "gkF6cZjEcdm_",
        "colab_type": "text"
      },
      "source": [
        "### Model 3 - \n",
        "Let us remove 1 feature from the correlated feature pair\n",
        "1. Arrival_date_year and arrival_date_month = -0.52\n",
        "2. Reservation_status and deposit type = -0.46 \n",
        "3. market_segment vs distribution_channel = 0.76\n",
        "4. reserved_room_type vs assigned_room_type = 0.81"
      ]
    },
    {
      "cell_type": "code",
      "metadata": {
        "id": "Lypv04r5cdm_",
        "colab_type": "code",
        "colab": {}
      },
      "source": [
        "X_train = X_train.drop('arrival_date_month',axis=1)\n",
        "X_test = X_test.drop('arrival_date_month',axis=1)\n",
        "\n",
        "X_train = X_train.drop('market_segment',axis=1)\n",
        "X_test = X_test.drop('market_segment',axis=1)\n",
        "\n",
        "X_train = X_train.drop('reserved_room_type',axis=1)\n",
        "X_test = X_test.drop('reserved_room_type',axis=1)"
      ],
      "execution_count": 0,
      "outputs": []
    },
    {
      "cell_type": "code",
      "metadata": {
        "id": "zMReCOVIcdnC",
        "colab_type": "code",
        "colab": {}
      },
      "source": [
        "X_train_enc = pd.get_dummies(data=X_train,columns=X_train.columns)\n",
        "X_test_enc = pd.get_dummies(data=X_test,columns=X_test.columns)\n",
        "X_train_enc,X_test_enc =X_train_enc.align(X_test_enc, join='left', axis=1)\n",
        "X_test_enc=X_test_enc.fillna(0)"
      ],
      "execution_count": 0,
      "outputs": []
    },
    {
      "cell_type": "code",
      "metadata": {
        "id": "4keULx_8cdnG",
        "colab_type": "code",
        "outputId": "3fa68e41-45d3-46bb-c199-31a07fdde0ee",
        "colab": {
          "base_uri": "https://localhost:8080/",
          "height": 34
        }
      },
      "source": [
        "clf_bern3 = BernoulliNB()\n",
        "clf_bern3.fit(X_train_enc, y_train)"
      ],
      "execution_count": 80,
      "outputs": [
        {
          "output_type": "execute_result",
          "data": {
            "text/plain": [
              "BernoulliNB(alpha=1.0, binarize=0.0, class_prior=None, fit_prior=True)"
            ]
          },
          "metadata": {
            "tags": []
          },
          "execution_count": 80
        }
      ]
    },
    {
      "cell_type": "code",
      "metadata": {
        "id": "xXcjBgkCcdnJ",
        "colab_type": "code",
        "outputId": "c0c96356-8d5f-4bd5-d666-75a73ae113d2",
        "colab": {
          "base_uri": "https://localhost:8080/",
          "height": 121
        }
      },
      "source": [
        "y_pred_bern3 = clf_bern3.predict(X_test_enc)\n",
        "y_prob_bern3=clf_bern3.predict_proba(X_test_enc)\n",
        "print('test-set confusion matrix:\\n', confusion_matrix(y_test,y_pred_bern3)) \n",
        "print(\"recall score: \", recall_score(y_test,y_pred_bern3))\n",
        "print(\"precision score: \", precision_score(y_test,y_pred_bern3))\n",
        "print(\"f1 score: \", f1_score(y_test,y_pred_bern3))\n",
        "print(\"accuracy score: \", accuracy_score(y_test,y_pred_bern3))"
      ],
      "execution_count": 81,
      "outputs": [
        {
          "output_type": "stream",
          "text": [
            "('test-set confusion matrix:\\n', array([[19029,  3449],\n",
            "       [ 5595,  7744]]))\n",
            "('recall score: ', 0.5805532648624334)\n",
            "('precision score: ', 0.6918609845439114)\n",
            "('f1 score: ', 0.6313386597097668)\n",
            "('accuracy score: ', 0.7474942066616411)\n"
          ],
          "name": "stdout"
        }
      ]
    },
    {
      "cell_type": "markdown",
      "metadata": {
        "id": "_p7l1v3icdnM",
        "colab_type": "text"
      },
      "source": [
        "In practice, even though Naive Bayes assumption of independent features is violated, there is no significant impact on model performance"
      ]
    },
    {
      "cell_type": "markdown",
      "metadata": {
        "id": "Mknb7b-2cdnN",
        "colab_type": "text"
      },
      "source": [
        "## Implementing gaussian NB classifier"
      ]
    },
    {
      "cell_type": "markdown",
      "metadata": {
        "id": "nylqWnS5cdnN",
        "colab_type": "text"
      },
      "source": [
        "GaussianNB implements the Gaussian Naive Bayes algorithm for classification. The likelihood of the features is assumed to be Gaussian. <a href=\"https://scikit-learn.org/stable/modules/naive_bayes.html\">sklearn documentation</a>"
      ]
    },
    {
      "cell_type": "code",
      "metadata": {
        "id": "HbkRq45acdnO",
        "colab_type": "code",
        "colab": {}
      },
      "source": [
        "train = backup_train.copy()\n",
        "test=backup_test.copy()"
      ],
      "execution_count": 0,
      "outputs": []
    },
    {
      "cell_type": "code",
      "metadata": {
        "id": "fIdafTRIcdnQ",
        "colab_type": "code",
        "colab": {}
      },
      "source": [
        "train=train.fillna(0)\n",
        "test=test.fillna(0)\n",
        "y_train = train[\"is_canceled\"]\n",
        "X_train =train[['lead_time','arrival_date_week_number','days_in_waiting_list','adr','required_car_parking_spaces',\\\n",
        "               'total_days','total_of_special_requests','total_customers']]\n",
        "y_test = test[\"is_canceled\"]\n",
        "X_test = test[['lead_time','arrival_date_week_number','days_in_waiting_list','adr','required_car_parking_spaces',\\\n",
        "               'total_days','total_of_special_requests','total_customers']]"
      ],
      "execution_count": 0,
      "outputs": []
    },
    {
      "cell_type": "code",
      "metadata": {
        "id": "aFXI0kEVcdnS",
        "colab_type": "code",
        "outputId": "0d753f23-215f-4a04-df7f-7eeabe1408a4",
        "colab": {
          "base_uri": "https://localhost:8080/",
          "height": 34
        }
      },
      "source": [
        "classifier2 = GaussianNB()\n",
        "classifier2.fit(X_train, y_train)"
      ],
      "execution_count": 84,
      "outputs": [
        {
          "output_type": "execute_result",
          "data": {
            "text/plain": [
              "GaussianNB(priors=None, var_smoothing=1e-09)"
            ]
          },
          "metadata": {
            "tags": []
          },
          "execution_count": 84
        }
      ]
    },
    {
      "cell_type": "markdown",
      "metadata": {
        "id": "B73wTEaicdnV",
        "colab_type": "text"
      },
      "source": [
        "<b> Parameters - </b>\n",
        "1. Priors - Prior probabilities of the classes. If specified the priors are not adjusted according to the data.\n",
        "2. var_smoothing - Portion of the largest variance of all features that is added to variances for calculation stability."
      ]
    },
    {
      "cell_type": "code",
      "metadata": {
        "id": "8Uj4mpzhcdnV",
        "colab_type": "code",
        "colab": {}
      },
      "source": [
        "y_pred2 = classifier2.predict(X_test)\n",
        "y_prob2 = classifier2.predict_proba(X_test)"
      ],
      "execution_count": 0,
      "outputs": []
    },
    {
      "cell_type": "code",
      "metadata": {
        "id": "lCMHDsHHcdnX",
        "colab_type": "code",
        "outputId": "e1cde0c1-7fa2-4fb8-ffea-b3e32b19eda4",
        "colab": {
          "base_uri": "https://localhost:8080/",
          "height": 121
        }
      },
      "source": [
        "print('test-set confusion matrix:\\n', confusion_matrix(y_test,y_pred2)) \n",
        "print(\"recall score: \", recall_score(y_test,y_pred2))\n",
        "print(\"precision score: \", precision_score(y_test,y_pred2))\n",
        "print(\"f1 score: \", f1_score(y_test,y_pred2))\n",
        "print(\"accuracy score: \", accuracy_score(y_test,y_pred2))"
      ],
      "execution_count": 86,
      "outputs": [
        {
          "output_type": "stream",
          "text": [
            "('test-set confusion matrix:\\n', array([[ 2756, 19722],\n",
            "       [  131, 13208]]))\n",
            "('recall score: ', 0.9901791738511133)\n",
            "('precision score: ', 0.4010932280595202)\n",
            "('f1 score: ', 0.5709222157383994)\n",
            "('accuracy score: ', 0.4457101376441355)\n"
          ],
          "name": "stdout"
        }
      ]
    },
    {
      "cell_type": "markdown",
      "metadata": {
        "id": "3HvFSWFXcdnk",
        "colab_type": "text"
      },
      "source": [
        "## Implementing ensemble of Gaussian and Bernoulli NB\n",
        "1. Gaussian NB is trained on continuous feature \n",
        "2. Bernoulli NB is trained on categorical features \n",
        "3. The product of probability of both models gives final probability "
      ]
    },
    {
      "cell_type": "code",
      "metadata": {
        "id": "bzL53xEIcdnk",
        "colab_type": "code",
        "outputId": "03448fc8-b4bb-4210-814d-0772f679f269",
        "colab": {
          "base_uri": "https://localhost:8080/",
          "height": 313
        }
      },
      "source": [
        "backup_train[:5]"
      ],
      "execution_count": 101,
      "outputs": [
        {
          "output_type": "execute_result",
          "data": {
            "text/plain": [
              "               hotel  is_canceled  ...  total_days  total_customers\n",
              "9710    Resort Hotel            1  ...           4              2.0\n",
              "40307     City Hotel            1  ...           2              2.0\n",
              "110051    City Hotel            0  ...           5              3.0\n",
              "22999   Resort Hotel            0  ...           1              1.0\n",
              "8344    Resort Hotel            1  ...           1              2.0\n",
              "\n",
              "[5 rows x 23 columns]"
            ],
            "text/html": [
              "<div>\n",
              "<style scoped>\n",
              "    .dataframe tbody tr th:only-of-type {\n",
              "        vertical-align: middle;\n",
              "    }\n",
              "\n",
              "    .dataframe tbody tr th {\n",
              "        vertical-align: top;\n",
              "    }\n",
              "\n",
              "    .dataframe thead th {\n",
              "        text-align: right;\n",
              "    }\n",
              "</style>\n",
              "<table border=\"1\" class=\"dataframe\">\n",
              "  <thead>\n",
              "    <tr style=\"text-align: right;\">\n",
              "      <th></th>\n",
              "      <th>hotel</th>\n",
              "      <th>is_canceled</th>\n",
              "      <th>lead_time</th>\n",
              "      <th>arrival_date_year</th>\n",
              "      <th>arrival_date_month</th>\n",
              "      <th>arrival_date_week_number</th>\n",
              "      <th>arrival_date_day_of_month</th>\n",
              "      <th>meal</th>\n",
              "      <th>market_segment</th>\n",
              "      <th>distribution_channel</th>\n",
              "      <th>is_repeated_guest</th>\n",
              "      <th>reserved_room_type</th>\n",
              "      <th>assigned_room_type</th>\n",
              "      <th>booking_changes</th>\n",
              "      <th>deposit_type</th>\n",
              "      <th>days_in_waiting_list</th>\n",
              "      <th>customer_type</th>\n",
              "      <th>adr</th>\n",
              "      <th>required_car_parking_spaces</th>\n",
              "      <th>total_of_special_requests</th>\n",
              "      <th>reservation_status</th>\n",
              "      <th>total_days</th>\n",
              "      <th>total_customers</th>\n",
              "    </tr>\n",
              "  </thead>\n",
              "  <tbody>\n",
              "    <tr>\n",
              "      <th>9710</th>\n",
              "      <td>Resort Hotel</td>\n",
              "      <td>1</td>\n",
              "      <td>122</td>\n",
              "      <td>2016</td>\n",
              "      <td>December</td>\n",
              "      <td>53</td>\n",
              "      <td>27</td>\n",
              "      <td>BB</td>\n",
              "      <td>Online TA</td>\n",
              "      <td>TA/TO</td>\n",
              "      <td>0</td>\n",
              "      <td>D</td>\n",
              "      <td>D</td>\n",
              "      <td>3</td>\n",
              "      <td>No Deposit</td>\n",
              "      <td>0</td>\n",
              "      <td>Transient</td>\n",
              "      <td>74.75</td>\n",
              "      <td>0</td>\n",
              "      <td>2</td>\n",
              "      <td>Canceled</td>\n",
              "      <td>4</td>\n",
              "      <td>2.0</td>\n",
              "    </tr>\n",
              "    <tr>\n",
              "      <th>40307</th>\n",
              "      <td>City Hotel</td>\n",
              "      <td>1</td>\n",
              "      <td>20</td>\n",
              "      <td>2015</td>\n",
              "      <td>July</td>\n",
              "      <td>30</td>\n",
              "      <td>22</td>\n",
              "      <td>BB</td>\n",
              "      <td>Groups</td>\n",
              "      <td>TA/TO</td>\n",
              "      <td>0</td>\n",
              "      <td>A</td>\n",
              "      <td>A</td>\n",
              "      <td>0</td>\n",
              "      <td>No Deposit</td>\n",
              "      <td>0</td>\n",
              "      <td>Transient-Party</td>\n",
              "      <td>62.00</td>\n",
              "      <td>0</td>\n",
              "      <td>0</td>\n",
              "      <td>Canceled</td>\n",
              "      <td>2</td>\n",
              "      <td>2.0</td>\n",
              "    </tr>\n",
              "    <tr>\n",
              "      <th>110051</th>\n",
              "      <td>City Hotel</td>\n",
              "      <td>0</td>\n",
              "      <td>87</td>\n",
              "      <td>2017</td>\n",
              "      <td>April</td>\n",
              "      <td>16</td>\n",
              "      <td>16</td>\n",
              "      <td>BB</td>\n",
              "      <td>Online TA</td>\n",
              "      <td>TA/TO</td>\n",
              "      <td>0</td>\n",
              "      <td>D</td>\n",
              "      <td>D</td>\n",
              "      <td>0</td>\n",
              "      <td>No Deposit</td>\n",
              "      <td>0</td>\n",
              "      <td>Transient</td>\n",
              "      <td>171.00</td>\n",
              "      <td>0</td>\n",
              "      <td>0</td>\n",
              "      <td>Check-Out</td>\n",
              "      <td>5</td>\n",
              "      <td>3.0</td>\n",
              "    </tr>\n",
              "    <tr>\n",
              "      <th>22999</th>\n",
              "      <td>Resort Hotel</td>\n",
              "      <td>0</td>\n",
              "      <td>0</td>\n",
              "      <td>2017</td>\n",
              "      <td>February</td>\n",
              "      <td>5</td>\n",
              "      <td>2</td>\n",
              "      <td>BB</td>\n",
              "      <td>Online TA</td>\n",
              "      <td>TA/TO</td>\n",
              "      <td>1</td>\n",
              "      <td>A</td>\n",
              "      <td>A</td>\n",
              "      <td>0</td>\n",
              "      <td>No Deposit</td>\n",
              "      <td>0</td>\n",
              "      <td>Transient</td>\n",
              "      <td>43.00</td>\n",
              "      <td>0</td>\n",
              "      <td>1</td>\n",
              "      <td>Check-Out</td>\n",
              "      <td>1</td>\n",
              "      <td>1.0</td>\n",
              "    </tr>\n",
              "    <tr>\n",
              "      <th>8344</th>\n",
              "      <td>Resort Hotel</td>\n",
              "      <td>1</td>\n",
              "      <td>42</td>\n",
              "      <td>2016</td>\n",
              "      <td>September</td>\n",
              "      <td>39</td>\n",
              "      <td>23</td>\n",
              "      <td>BB</td>\n",
              "      <td>Online TA</td>\n",
              "      <td>TA/TO</td>\n",
              "      <td>0</td>\n",
              "      <td>A</td>\n",
              "      <td>A</td>\n",
              "      <td>0</td>\n",
              "      <td>No Deposit</td>\n",
              "      <td>0</td>\n",
              "      <td>Transient</td>\n",
              "      <td>109.00</td>\n",
              "      <td>0</td>\n",
              "      <td>1</td>\n",
              "      <td>Canceled</td>\n",
              "      <td>1</td>\n",
              "      <td>2.0</td>\n",
              "    </tr>\n",
              "  </tbody>\n",
              "</table>\n",
              "</div>"
            ]
          },
          "metadata": {
            "tags": []
          },
          "execution_count": 101
        }
      ]
    },
    {
      "cell_type": "code",
      "metadata": {
        "id": "mFAQnNDZcdnn",
        "colab_type": "code",
        "colab": {}
      },
      "source": [
        "y_train = backup_train[\"is_canceled\"]\n",
        "X_train = backup_train.drop([\"is_canceled\"], axis=1)\n",
        "y_test = backup_test[\"is_canceled\"]\n",
        "X_test = backup_test.drop([\"is_canceled\"], axis=1)"
      ],
      "execution_count": 0,
      "outputs": []
    },
    {
      "cell_type": "code",
      "metadata": {
        "id": "cWrEZkoNcdnr",
        "colab_type": "code",
        "colab": {}
      },
      "source": [
        "# Basic pre-processing\n",
        "X_train['total_customers'][X_train['total_customers'] >= 4] = 4\n",
        "X_train['total_customers'][X_train['total_customers'] <= 0] = 1\n",
        "X_test['total_customers'][X_test['total_customers'] >= 4] = 4\n",
        "X_test['total_customers'][X_test['total_customers'] <= 1] = 1\n",
        "\n",
        "\n",
        "X_train['required_car_parking_spaces'][X_train['required_car_parking_spaces'] >= 1] = 1\n",
        "X_test['required_car_parking_spaces'][X_test['required_car_parking_spaces'] >= 1] = 1\n",
        "\n",
        "\n",
        "\n",
        "X_train['total_of_special_requests'][X_train['total_of_special_requests'] >= 3] = 3\n",
        "X_test['total_of_special_requests'][X_test['total_of_special_requests'] >= 3] = 3"
      ],
      "execution_count": 0,
      "outputs": []
    },
    {
      "cell_type": "code",
      "metadata": {
        "id": "l83bbsX2cdnt",
        "colab_type": "code",
        "colab": {}
      },
      "source": [
        "# one hot encoding the categorical features\n",
        "cat_col=['hotel','arrival_date_year','arrival_date_month','meal','market_segment',\\\n",
        "          'distribution_channel','reserved_room_type','deposit_type','customer_type','is_repeated_guest',\\\n",
        "        'total_customers','required_car_parking_spaces','total_of_special_requests']\n",
        "d_cat_train=pd.get_dummies(data=X_train[cat_col],columns=cat_col)\n",
        "d_cat_test=pd.get_dummies(data=X_test[cat_col],columns=cat_col)"
      ],
      "execution_count": 0,
      "outputs": []
    },
    {
      "cell_type": "code",
      "metadata": {
        "id": "nhbz52jicdnw",
        "colab_type": "code",
        "outputId": "88d227d2-a153-4f35-929b-7d07f860381b",
        "colab": {
          "base_uri": "https://localhost:8080/",
          "height": 34
        }
      },
      "source": [
        "d_cat_test.shape"
      ],
      "execution_count": 105,
      "outputs": [
        {
          "output_type": "execute_result",
          "data": {
            "text/plain": [
              "(35817, 63)"
            ]
          },
          "metadata": {
            "tags": []
          },
          "execution_count": 105
        }
      ]
    },
    {
      "cell_type": "code",
      "metadata": {
        "id": "e4tqVmPUcdnz",
        "colab_type": "code",
        "colab": {}
      },
      "source": [
        "d_cat_train,d_cat_test =d_cat_train.align(d_cat_test, join='left', axis=1)\n",
        "d_cat_test=d_cat_test.fillna(0)"
      ],
      "execution_count": 0,
      "outputs": []
    },
    {
      "cell_type": "code",
      "metadata": {
        "id": "cFBLJqtCcdn0",
        "colab_type": "code",
        "outputId": "cb21b878-f732-4561-80db-dc6938fd1eeb",
        "colab": {
          "base_uri": "https://localhost:8080/",
          "height": 34
        }
      },
      "source": [
        "clf_bern = BernoulliNB()\n",
        "clf_bern.fit(d_cat_train, y_train)"
      ],
      "execution_count": 107,
      "outputs": [
        {
          "output_type": "execute_result",
          "data": {
            "text/plain": [
              "BernoulliNB(alpha=1.0, binarize=0.0, class_prior=None, fit_prior=True)"
            ]
          },
          "metadata": {
            "tags": []
          },
          "execution_count": 107
        }
      ]
    },
    {
      "cell_type": "code",
      "metadata": {
        "id": "hF_zPOJrcdn5",
        "colab_type": "code",
        "colab": {}
      },
      "source": [
        "d_cont_train=X_train[['lead_time','arrival_date_week_number','days_in_waiting_list','adr','total_days']]\n",
        "d_cont_train = d_cont_train.fillna(0)\n",
        "d_cont_test = X_test[['lead_time','arrival_date_week_number','days_in_waiting_list','adr','total_days']]\n",
        "d_cont_test=d_cont_test.fillna(0)"
      ],
      "execution_count": 0,
      "outputs": []
    },
    {
      "cell_type": "code",
      "metadata": {
        "id": "nsNo9geUcdn7",
        "colab_type": "code",
        "outputId": "57257edb-3417-4ee1-cc5d-3d25677e8c56",
        "colab": {
          "base_uri": "https://localhost:8080/",
          "height": 34
        }
      },
      "source": [
        "clf_gauss = GaussianNB()\n",
        "clf_gauss.fit(d_cont_train, y_train)"
      ],
      "execution_count": 109,
      "outputs": [
        {
          "output_type": "execute_result",
          "data": {
            "text/plain": [
              "GaussianNB(priors=None, var_smoothing=1e-09)"
            ]
          },
          "metadata": {
            "tags": []
          },
          "execution_count": 109
        }
      ]
    },
    {
      "cell_type": "code",
      "metadata": {
        "id": "3417IdC6cdn9",
        "colab_type": "code",
        "colab": {}
      },
      "source": [
        "y_pred_bern=clf_bern.predict(d_cat_test)\n",
        "y_pred_gauss=clf_gauss.predict(d_cont_test)"
      ],
      "execution_count": 0,
      "outputs": []
    },
    {
      "cell_type": "code",
      "metadata": {
        "id": "JbHae3wycdoA",
        "colab_type": "code",
        "colab": {}
      },
      "source": [
        "y_prob_bern=clf_bern.predict_proba(d_cat_test)\n",
        "y_prob_bern_df = pd.DataFrame(data=y_prob_bern,columns=['prob0_b','prob1_b'])\n",
        "y_prob_gauss=clf_gauss.predict_proba(d_cont_test)\n",
        "y_prob_gauss_df = pd.DataFrame(data=y_prob_gauss,columns=['prob0_g','prob1_g'])"
      ],
      "execution_count": 0,
      "outputs": []
    },
    {
      "cell_type": "code",
      "metadata": {
        "id": "e5vLjcc7cdoC",
        "colab_type": "code",
        "colab": {}
      },
      "source": [
        "y_prob=y_prob_bern_df.join(y_prob_gauss_df)"
      ],
      "execution_count": 0,
      "outputs": []
    },
    {
      "cell_type": "code",
      "metadata": {
        "id": "0UcuD4KNcdoE",
        "colab_type": "code",
        "colab": {}
      },
      "source": [
        "y_prob['prob0']=y_prob['prob0_b']*y_prob['prob0_g']\n",
        "y_prob['prob1']=y_prob['prob1_b']*y_prob['prob1_g']"
      ],
      "execution_count": 0,
      "outputs": []
    },
    {
      "cell_type": "code",
      "metadata": {
        "id": "l4na-fCTcdoH",
        "colab_type": "code",
        "outputId": "5063a7bf-58aa-40c9-9d2a-0081e622282e",
        "colab": {
          "base_uri": "https://localhost:8080/",
          "height": 363
        }
      },
      "source": [
        "y_prob[:10]"
      ],
      "execution_count": 127,
      "outputs": [
        {
          "output_type": "execute_result",
          "data": {
            "text/plain": [
              "    prob0_b   prob1_b   prob0_g   prob1_g     prob0     prob1\n",
              "0  0.986447  0.013553  0.633517  0.366483  0.624931  0.004967\n",
              "1  0.254312  0.745688  0.804970  0.195030  0.204713  0.145432\n",
              "2  0.965602  0.034398  0.856056  0.143944  0.826610  0.004951\n",
              "3  0.801283  0.198717  0.853783  0.146217  0.684122  0.029056\n",
              "4  0.206895  0.793105  0.813729  0.186271  0.168356  0.147733\n",
              "5  0.316762  0.683238  0.679028  0.320972  0.215090  0.219301\n",
              "6  0.801283  0.198717  0.853495  0.146505  0.683892  0.029113\n",
              "7  0.618501  0.381499  0.795048  0.204952  0.491738  0.078189\n",
              "8  0.781052  0.218948  0.827318  0.172682  0.646179  0.037808\n",
              "9  0.266880  0.733120  0.578160  0.421840  0.154299  0.309260"
            ],
            "text/html": [
              "<div>\n",
              "<style scoped>\n",
              "    .dataframe tbody tr th:only-of-type {\n",
              "        vertical-align: middle;\n",
              "    }\n",
              "\n",
              "    .dataframe tbody tr th {\n",
              "        vertical-align: top;\n",
              "    }\n",
              "\n",
              "    .dataframe thead th {\n",
              "        text-align: right;\n",
              "    }\n",
              "</style>\n",
              "<table border=\"1\" class=\"dataframe\">\n",
              "  <thead>\n",
              "    <tr style=\"text-align: right;\">\n",
              "      <th></th>\n",
              "      <th>prob0_b</th>\n",
              "      <th>prob1_b</th>\n",
              "      <th>prob0_g</th>\n",
              "      <th>prob1_g</th>\n",
              "      <th>prob0</th>\n",
              "      <th>prob1</th>\n",
              "    </tr>\n",
              "  </thead>\n",
              "  <tbody>\n",
              "    <tr>\n",
              "      <th>0</th>\n",
              "      <td>0.986447</td>\n",
              "      <td>0.013553</td>\n",
              "      <td>0.633517</td>\n",
              "      <td>0.366483</td>\n",
              "      <td>0.624931</td>\n",
              "      <td>0.004967</td>\n",
              "    </tr>\n",
              "    <tr>\n",
              "      <th>1</th>\n",
              "      <td>0.254312</td>\n",
              "      <td>0.745688</td>\n",
              "      <td>0.804970</td>\n",
              "      <td>0.195030</td>\n",
              "      <td>0.204713</td>\n",
              "      <td>0.145432</td>\n",
              "    </tr>\n",
              "    <tr>\n",
              "      <th>2</th>\n",
              "      <td>0.965602</td>\n",
              "      <td>0.034398</td>\n",
              "      <td>0.856056</td>\n",
              "      <td>0.143944</td>\n",
              "      <td>0.826610</td>\n",
              "      <td>0.004951</td>\n",
              "    </tr>\n",
              "    <tr>\n",
              "      <th>3</th>\n",
              "      <td>0.801283</td>\n",
              "      <td>0.198717</td>\n",
              "      <td>0.853783</td>\n",
              "      <td>0.146217</td>\n",
              "      <td>0.684122</td>\n",
              "      <td>0.029056</td>\n",
              "    </tr>\n",
              "    <tr>\n",
              "      <th>4</th>\n",
              "      <td>0.206895</td>\n",
              "      <td>0.793105</td>\n",
              "      <td>0.813729</td>\n",
              "      <td>0.186271</td>\n",
              "      <td>0.168356</td>\n",
              "      <td>0.147733</td>\n",
              "    </tr>\n",
              "    <tr>\n",
              "      <th>5</th>\n",
              "      <td>0.316762</td>\n",
              "      <td>0.683238</td>\n",
              "      <td>0.679028</td>\n",
              "      <td>0.320972</td>\n",
              "      <td>0.215090</td>\n",
              "      <td>0.219301</td>\n",
              "    </tr>\n",
              "    <tr>\n",
              "      <th>6</th>\n",
              "      <td>0.801283</td>\n",
              "      <td>0.198717</td>\n",
              "      <td>0.853495</td>\n",
              "      <td>0.146505</td>\n",
              "      <td>0.683892</td>\n",
              "      <td>0.029113</td>\n",
              "    </tr>\n",
              "    <tr>\n",
              "      <th>7</th>\n",
              "      <td>0.618501</td>\n",
              "      <td>0.381499</td>\n",
              "      <td>0.795048</td>\n",
              "      <td>0.204952</td>\n",
              "      <td>0.491738</td>\n",
              "      <td>0.078189</td>\n",
              "    </tr>\n",
              "    <tr>\n",
              "      <th>8</th>\n",
              "      <td>0.781052</td>\n",
              "      <td>0.218948</td>\n",
              "      <td>0.827318</td>\n",
              "      <td>0.172682</td>\n",
              "      <td>0.646179</td>\n",
              "      <td>0.037808</td>\n",
              "    </tr>\n",
              "    <tr>\n",
              "      <th>9</th>\n",
              "      <td>0.266880</td>\n",
              "      <td>0.733120</td>\n",
              "      <td>0.578160</td>\n",
              "      <td>0.421840</td>\n",
              "      <td>0.154299</td>\n",
              "      <td>0.309260</td>\n",
              "    </tr>\n",
              "  </tbody>\n",
              "</table>\n",
              "</div>"
            ]
          },
          "metadata": {
            "tags": []
          },
          "execution_count": 127
        }
      ]
    },
    {
      "cell_type": "code",
      "metadata": {
        "id": "v5t8OyHtcdoJ",
        "colab_type": "code",
        "colab": {}
      },
      "source": [
        "y_prob['prediction']=np.where(y_prob['prob1'] > y_prob['prob0'], 1,0)"
      ],
      "execution_count": 0,
      "outputs": []
    },
    {
      "cell_type": "code",
      "metadata": {
        "id": "DH_flznycdoL",
        "colab_type": "code",
        "outputId": "51a598c3-ab56-466b-d8da-779d5c59be2d",
        "colab": {
          "base_uri": "https://localhost:8080/",
          "height": 69
        }
      },
      "source": [
        "print(\"Bernoulli f1 score: \", f1_score(y_test,y_pred_bern))\n",
        "print(\"Gaussian f1 score: \", f1_score(y_test,y_pred_gauss))\n",
        "print(\"Ensemble f1 score: \", f1_score(y_test,y_prob['prediction']))"
      ],
      "execution_count": 129,
      "outputs": [
        {
          "output_type": "stream",
          "text": [
            "('Bernoulli f1 score: ', 0.6099612990072354)\n",
            "('Gaussian f1 score: ', 0.36027222458528285)\n",
            "('Ensemble f1 score: ', 0.5549425972864173)\n"
          ],
          "name": "stdout"
        }
      ]
    },
    {
      "cell_type": "markdown",
      "metadata": {
        "id": "dwxarQ3ucdoO",
        "colab_type": "text"
      },
      "source": [
        "## Comparing Gaussian NB and Bernuolli NB"
      ]
    },
    {
      "cell_type": "code",
      "metadata": {
        "id": "LT-OPLF1cdoO",
        "colab_type": "code",
        "colab": {}
      },
      "source": [
        "false_positive_rate4, true_positive_rate4, threshold4 = roc_curve(y_test, y_prob_bern3[:,1])\n",
        "roc_auc_bern = auc(false_positive_rate4, true_positive_rate4)"
      ],
      "execution_count": 0,
      "outputs": []
    },
    {
      "cell_type": "code",
      "metadata": {
        "id": "p8rMVQJLcdoR",
        "colab_type": "code",
        "colab": {}
      },
      "source": [
        "false_positive_rate, true_positive_rate, threshold = roc_curve(y_test, y_prob2[:,1])\n",
        "roc_auc_gauss = auc(false_positive_rate, true_positive_rate)"
      ],
      "execution_count": 0,
      "outputs": []
    },
    {
      "cell_type": "code",
      "metadata": {
        "id": "c4_wPaVTcdoV",
        "colab_type": "code",
        "outputId": "b507f792-b66c-420a-c0ba-2eca9a90a5ab",
        "colab": {
          "base_uri": "https://localhost:8080/",
          "height": 644
        }
      },
      "source": [
        "plt.figure(figsize = (10,10))\n",
        "plt.title('Receiver Operating Characteristic')\n",
        "plt.plot(false_positive_rate, true_positive_rate, color = 'red', label = 'Gauss AUC = %0.2f' % roc_auc_gauss)\n",
        "plt.plot(false_positive_rate4, true_positive_rate4, color = 'green', label = 'Bern AUC = %0.2f' % roc_auc_bern)\n",
        "plt.legend(loc = 'lower right')\n",
        "plt.plot([0, 1], [0, 1], linestyle = '--')\n",
        "plt.axis('tight')\n",
        "plt.ylabel('True Positive Rate')\n",
        "plt.xlabel('False Positive Rate')"
      ],
      "execution_count": 132,
      "outputs": [
        {
          "output_type": "execute_result",
          "data": {
            "text/plain": [
              "Text(0.5,0,'False Positive Rate')"
            ]
          },
          "metadata": {
            "tags": []
          },
          "execution_count": 132
        },
        {
          "output_type": "display_data",
          "data": {
            "image/png": "[encoded data removed]",
            "text/plain": [
              "<Figure size 720x720 with 1 Axes>"
            ]
          },
          "metadata": {
            "tags": []
          }
        }
      ]
    },
    {
      "cell_type": "code",
      "metadata": {
        "id": "_WUynFVFcdoh",
        "colab_type": "code",
        "colab": {}
      },
      "source": [
        ""
      ],
      "execution_count": 0,
      "outputs": []
    }
  ]
}