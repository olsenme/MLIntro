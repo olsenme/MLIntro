{
  "nbformat": 4,
  "nbformat_minor": 0,
  "metadata": {
    "colab": {
      "name": "Housing Price Prediction using Linear Regression.ipynb",
      "provenance": [],
      "collapsed_sections": [],
      "include_colab_link": true
    },
    "kernelspec": {
      "name": "python3",
      "display_name": "Python 3"
    }
  },
  "cells": [
    {
      "cell_type": "markdown",
      "metadata": {
        "id": "view-in-github",
        "colab_type": "text"
      },
      "source": [
        "<a href=\"https://colab.research.google.com/github/olsenme/MLIntro/blob/master/Housing_Price_Prediction_using_Linear_Regression.ipynb\" target=\"_parent\"><img src=\"https://colab.research.google.com/assets/colab-badge.svg\" alt=\"Open In Colab\"/></a>"
      ]
    },
    {
      "cell_type": "code",
      "metadata": {
        "id": "CVl-YPYXgsL0",
        "colab_type": "code",
        "outputId": "64dc8f76-8732-4fb1-aa25-24f830dbfff4",
        "colab": {
          "base_uri": "https://localhost:8080/",
          "height": 34
        }
      },
      "source": [
        "#Mounting Google Drive\n",
        "from google.colab import drive\n",
        "drive.mount('/content/gdrive')"
      ],
      "execution_count": 0,
      "outputs": [
        {
          "output_type": "stream",
          "text": [
            "Drive already mounted at /content/gdrive; to attempt to forcibly remount, call drive.mount(\"/content/gdrive\", force_remount=True).\n"
          ],
          "name": "stdout"
        }
      ]
    },
    {
      "cell_type": "markdown",
      "metadata": {
        "id": "CVxJH-nLD1SA",
        "colab_type": "text"
      },
      "source": [
        "# Problem Description\n",
        "- We are asked to predict the house_price_of_unit_area given various key attributes:\n",
        "  - Date\n",
        "  - House Age etc.\n",
        "- So house_price_of_unit_area is our target variable and rest of the variables are our predictor variables. Hence, its a supervised regression problem\n",
        "- In this notebook we will build a regression model to solve this using Linear Regression model from scikit learn library"
      ]
    },
    {
      "cell_type": "markdown",
      "metadata": {
        "id": "5KhgvOkCEVGr",
        "colab_type": "text"
      },
      "source": [
        "## Table of contents\n",
        "1. Data Loading\n",
        "2. Data Exploration\n",
        "3. Univariate Analysis and Outlier Treatment\n",
        "4. Correlation\n",
        "4. Feature Engineering\n",
        "5. Linear Regression\n",
        "6. L1 Regression(Lasso)\n",
        "7. L2 Regularization(Ridge)\n",
        "6. Loss Function\n",
        "7. Comparing Performance"
      ]
    },
    {
      "cell_type": "markdown",
      "metadata": {
        "id": "SmGEfZ1TfB4h",
        "colab_type": "text"
      },
      "source": [
        "## Data Loading"
      ]
    },
    {
      "cell_type": "code",
      "metadata": {
        "id": "UBsMhL1UhcOb",
        "colab_type": "code",
        "outputId": "1bb70f38-c450-45e4-a253-0aade426b6c0",
        "colab": {
          "base_uri": "https://localhost:8080/",
          "height": 51
        }
      },
      "source": [
        "#importing required packages\n",
        "import numpy as np\n",
        "import pandas as pd\n",
        "from scipy import stats\n",
        "from sklearn.model_selection import train_test_split\n",
        "from sklearn.linear_model import LinearRegression\n",
        "from sklearn.linear_model import Lasso\n",
        "from sklearn.linear_model import Ridge\n",
        "from sklearn import metrics\n",
        "\n",
        "import matplotlib.pyplot as plt\n",
        "% matplotlib inline\n",
        "plt.rcParams['agg.path.chunksize'] = 10000\n",
        "import seaborn as sns\n",
        "plt.style.use('bmh')\n",
        "sns.set_style({'axes.grid':False})"
      ],
      "execution_count": 0,
      "outputs": [
        {
          "output_type": "stream",
          "text": [
            "/usr/local/lib/python3.6/dist-packages/statsmodels/tools/_testing.py:19: FutureWarning: pandas.util.testing is deprecated. Use the functions in the public API at pandas.testing instead.\n",
            "  import pandas.util.testing as tm\n"
          ],
          "name": "stderr"
        }
      ]
    },
    {
      "cell_type": "code",
      "metadata": {
        "id": "NiLz6NL5hhkY",
        "colab_type": "code",
        "colab": {}
      },
      "source": [
        "#reading csv file into pandas dataframe\n",
        "data = pd.read_csv('https://raw.githubusercontent.com/WomenWhoCode/WWCodeDataScience/master/Intro_to_MachineLearning/data/HousingPricePrediction/real_estate.csv')"
      ],
      "execution_count": 0,
      "outputs": []
    },
    {
      "cell_type": "markdown",
      "metadata": {
        "id": "zispHdUzQsDo",
        "colab_type": "text"
      },
      "source": [
        "> Note : We will do the train test split after preprocessing and feature engineering so that the changes are consistent in both train and test dataset\n"
      ]
    },
    {
      "cell_type": "markdown",
      "metadata": {
        "id": "IF7n3W0Ifjwk",
        "colab_type": "text"
      },
      "source": [
        "## Data Exploration\n",
        "  - Investigating the number of features, their datatype, their meaning and statistics."
      ]
    },
    {
      "cell_type": "code",
      "metadata": {
        "id": "JYfHZ6NrfDTv",
        "colab_type": "code",
        "outputId": "7ab8f629-391b-4326-97e7-7bfa0de8d70b",
        "colab": {
          "base_uri": "https://localhost:8080/"
        }
      },
      "source": [
        "#list first five rows\n",
        "print('Preview data:')\n",
        "display(data.head())"
      ],
      "execution_count": 0,
      "outputs": [
        {
          "output_type": "stream",
          "text": [
            "Preview data:\n"
          ],
          "name": "stdout"
        },
        {
          "output_type": "display_data",
          "data": {
            "text/html": [
              "<div>\n",
              "<style scoped>\n",
              "    .dataframe tbody tr th:only-of-type {\n",
              "        vertical-align: middle;\n",
              "    }\n",
              "\n",
              "    .dataframe tbody tr th {\n",
              "        vertical-align: top;\n",
              "    }\n",
              "\n",
              "    .dataframe thead th {\n",
              "        text-align: right;\n",
              "    }\n",
              "</style>\n",
              "<table border=\"1\" class=\"dataframe\">\n",
              "  <thead>\n",
              "    <tr style=\"text-align: right;\">\n",
              "      <th></th>\n",
              "      <th>No</th>\n",
              "      <th>transaction_date</th>\n",
              "      <th>house_age</th>\n",
              "      <th>distance_to_the_nearest_MRT_station</th>\n",
              "      <th>number_of_convenience_stores</th>\n",
              "      <th>latitude</th>\n",
              "      <th>longitude</th>\n",
              "      <th>house_price_of_unit_area</th>\n",
              "    </tr>\n",
              "  </thead>\n",
              "  <tbody>\n",
              "    <tr>\n",
              "      <th>0</th>\n",
              "      <td>1</td>\n",
              "      <td>2012.917</td>\n",
              "      <td>32.0</td>\n",
              "      <td>84.87882</td>\n",
              "      <td>10</td>\n",
              "      <td>24.98298</td>\n",
              "      <td>121.54024</td>\n",
              "      <td>37.9</td>\n",
              "    </tr>\n",
              "    <tr>\n",
              "      <th>1</th>\n",
              "      <td>2</td>\n",
              "      <td>2012.917</td>\n",
              "      <td>19.5</td>\n",
              "      <td>306.59470</td>\n",
              "      <td>9</td>\n",
              "      <td>24.98034</td>\n",
              "      <td>121.53951</td>\n",
              "      <td>42.2</td>\n",
              "    </tr>\n",
              "    <tr>\n",
              "      <th>2</th>\n",
              "      <td>3</td>\n",
              "      <td>2013.583</td>\n",
              "      <td>13.3</td>\n",
              "      <td>561.98450</td>\n",
              "      <td>5</td>\n",
              "      <td>24.98746</td>\n",
              "      <td>121.54391</td>\n",
              "      <td>47.3</td>\n",
              "    </tr>\n",
              "    <tr>\n",
              "      <th>3</th>\n",
              "      <td>4</td>\n",
              "      <td>2013.500</td>\n",
              "      <td>13.3</td>\n",
              "      <td>561.98450</td>\n",
              "      <td>5</td>\n",
              "      <td>24.98746</td>\n",
              "      <td>121.54391</td>\n",
              "      <td>54.8</td>\n",
              "    </tr>\n",
              "    <tr>\n",
              "      <th>4</th>\n",
              "      <td>5</td>\n",
              "      <td>2012.833</td>\n",
              "      <td>5.0</td>\n",
              "      <td>390.56840</td>\n",
              "      <td>5</td>\n",
              "      <td>24.97937</td>\n",
              "      <td>121.54245</td>\n",
              "      <td>43.1</td>\n",
              "    </tr>\n",
              "  </tbody>\n",
              "</table>\n",
              "</div>"
            ],
            "text/plain": [
              "   No  transaction_date  ...  longitude  house_price_of_unit_area\n",
              "0   1          2012.917  ...  121.54024                      37.9\n",
              "1   2          2012.917  ...  121.53951                      42.2\n",
              "2   3          2013.583  ...  121.54391                      47.3\n",
              "3   4          2013.500  ...  121.54391                      54.8\n",
              "4   5          2012.833  ...  121.54245                      43.1\n",
              "\n",
              "[5 rows x 8 columns]"
            ]
          },
          "metadata": {
            "tags": []
          }
        }
      ]
    },
    {
      "cell_type": "code",
      "metadata": {
        "id": "GiN89Hd8gzMY",
        "colab_type": "code",
        "colab": {}
      },
      "source": [
        "#since no is a unique id for each row, we can delete it\n",
        "data.drop([\"No\"], axis = 1, inplace = True)"
      ],
      "execution_count": 0,
      "outputs": []
    },
    {
      "cell_type": "code",
      "metadata": {
        "id": "wCqzp_iGi9KR",
        "colab_type": "code",
        "outputId": "15aea601-ce66-4c63-9910-6652c0c75d85",
        "colab": {
          "base_uri": "https://localhost:8080/"
        }
      },
      "source": [
        "# check datatypes\n",
        "print('Check datatypes:')\n",
        "display(data.dtypes)"
      ],
      "execution_count": 0,
      "outputs": [
        {
          "output_type": "stream",
          "text": [
            "Check datatypes:\n"
          ],
          "name": "stdout"
        },
        {
          "output_type": "display_data",
          "data": {
            "text/plain": [
              "transaction_date                       float64\n",
              "house_age                              float64\n",
              "distance_to_the_nearest_MRT_station    float64\n",
              "number_of_convenience_stores             int64\n",
              "latitude                               float64\n",
              "longitude                              float64\n",
              "house_price_of_unit_area               float64\n",
              "dtype: object"
            ]
          },
          "metadata": {
            "tags": []
          }
        }
      ]
    },
    {
      "cell_type": "code",
      "metadata": {
        "id": "w1ByT43ijCie",
        "colab_type": "code",
        "outputId": "3d46479c-4fd4-4f6a-bb0d-34edc25e53c5",
        "colab": {
          "base_uri": "https://localhost:8080/"
        }
      },
      "source": [
        "# check statistics of the features\n",
        "data.describe()"
      ],
      "execution_count": 0,
      "outputs": [
        {
          "output_type": "execute_result",
          "data": {
            "text/html": [
              "<div>\n",
              "<style scoped>\n",
              "    .dataframe tbody tr th:only-of-type {\n",
              "        vertical-align: middle;\n",
              "    }\n",
              "\n",
              "    .dataframe tbody tr th {\n",
              "        vertical-align: top;\n",
              "    }\n",
              "\n",
              "    .dataframe thead th {\n",
              "        text-align: right;\n",
              "    }\n",
              "</style>\n",
              "<table border=\"1\" class=\"dataframe\">\n",
              "  <thead>\n",
              "    <tr style=\"text-align: right;\">\n",
              "      <th></th>\n",
              "      <th>transaction_date</th>\n",
              "      <th>house_age</th>\n",
              "      <th>distance_to_the_nearest_MRT_station</th>\n",
              "      <th>number_of_convenience_stores</th>\n",
              "      <th>latitude</th>\n",
              "      <th>longitude</th>\n",
              "      <th>house_price_of_unit_area</th>\n",
              "    </tr>\n",
              "  </thead>\n",
              "  <tbody>\n",
              "    <tr>\n",
              "      <th>count</th>\n",
              "      <td>414.000000</td>\n",
              "      <td>414.000000</td>\n",
              "      <td>414.000000</td>\n",
              "      <td>414.000000</td>\n",
              "      <td>414.000000</td>\n",
              "      <td>414.000000</td>\n",
              "      <td>414.000000</td>\n",
              "    </tr>\n",
              "    <tr>\n",
              "      <th>mean</th>\n",
              "      <td>2013.148971</td>\n",
              "      <td>17.712560</td>\n",
              "      <td>1083.885689</td>\n",
              "      <td>4.094203</td>\n",
              "      <td>24.969030</td>\n",
              "      <td>121.533361</td>\n",
              "      <td>37.980193</td>\n",
              "    </tr>\n",
              "    <tr>\n",
              "      <th>std</th>\n",
              "      <td>0.281967</td>\n",
              "      <td>11.392485</td>\n",
              "      <td>1262.109595</td>\n",
              "      <td>2.945562</td>\n",
              "      <td>0.012410</td>\n",
              "      <td>0.015347</td>\n",
              "      <td>13.606488</td>\n",
              "    </tr>\n",
              "    <tr>\n",
              "      <th>min</th>\n",
              "      <td>2012.667000</td>\n",
              "      <td>0.000000</td>\n",
              "      <td>23.382840</td>\n",
              "      <td>0.000000</td>\n",
              "      <td>24.932070</td>\n",
              "      <td>121.473530</td>\n",
              "      <td>7.600000</td>\n",
              "    </tr>\n",
              "    <tr>\n",
              "      <th>25%</th>\n",
              "      <td>2012.917000</td>\n",
              "      <td>9.025000</td>\n",
              "      <td>289.324800</td>\n",
              "      <td>1.000000</td>\n",
              "      <td>24.963000</td>\n",
              "      <td>121.528085</td>\n",
              "      <td>27.700000</td>\n",
              "    </tr>\n",
              "    <tr>\n",
              "      <th>50%</th>\n",
              "      <td>2013.167000</td>\n",
              "      <td>16.100000</td>\n",
              "      <td>492.231300</td>\n",
              "      <td>4.000000</td>\n",
              "      <td>24.971100</td>\n",
              "      <td>121.538630</td>\n",
              "      <td>38.450000</td>\n",
              "    </tr>\n",
              "    <tr>\n",
              "      <th>75%</th>\n",
              "      <td>2013.417000</td>\n",
              "      <td>28.150000</td>\n",
              "      <td>1454.279000</td>\n",
              "      <td>6.000000</td>\n",
              "      <td>24.977455</td>\n",
              "      <td>121.543305</td>\n",
              "      <td>46.600000</td>\n",
              "    </tr>\n",
              "    <tr>\n",
              "      <th>max</th>\n",
              "      <td>2013.583000</td>\n",
              "      <td>43.800000</td>\n",
              "      <td>6488.021000</td>\n",
              "      <td>10.000000</td>\n",
              "      <td>25.014590</td>\n",
              "      <td>121.566270</td>\n",
              "      <td>117.500000</td>\n",
              "    </tr>\n",
              "  </tbody>\n",
              "</table>\n",
              "</div>"
            ],
            "text/plain": [
              "       transaction_date   house_age  ...   longitude  house_price_of_unit_area\n",
              "count        414.000000  414.000000  ...  414.000000                414.000000\n",
              "mean        2013.148971   17.712560  ...  121.533361                 37.980193\n",
              "std            0.281967   11.392485  ...    0.015347                 13.606488\n",
              "min         2012.667000    0.000000  ...  121.473530                  7.600000\n",
              "25%         2012.917000    9.025000  ...  121.528085                 27.700000\n",
              "50%         2013.167000   16.100000  ...  121.538630                 38.450000\n",
              "75%         2013.417000   28.150000  ...  121.543305                 46.600000\n",
              "max         2013.583000   43.800000  ...  121.566270                117.500000\n",
              "\n",
              "[8 rows x 7 columns]"
            ]
          },
          "metadata": {
            "tags": []
          },
          "execution_count": 7
        }
      ]
    },
    {
      "cell_type": "markdown",
      "metadata": {
        "id": "svxvSIQ0jS7E",
        "colab_type": "text"
      },
      "source": [
        "## Univariate Analysis and Outlier Treatment\n",
        "\n"
      ]
    },
    {
      "cell_type": "code",
      "metadata": {
        "id": "FrPtmDJyn1Ie",
        "colab_type": "code",
        "outputId": "d34a6bae-7dd5-4789-ede9-e9b871b30f2b",
        "colab": {
          "base_uri": "https://localhost:8080/"
        }
      },
      "source": [
        "# plot histogram of transaction date\n",
        "data.transaction_date.hist(bins=5, figsize=(20,3))\n",
        "plt.xlabel('transaction_date')\n",
        "plt.title('Histogram');"
      ],
      "execution_count": 0,
      "outputs": [
        {
          "output_type": "display_data",
          "data": {
            "image/png": "[encoded data removed]",
            "text/plain": [
              "<Figure size 1440x216 with 1 Axes>"
            ]
          },
          "metadata": {
            "tags": [],
            "needs_background": "light"
          }
        }
      ]
    },
    {
      "cell_type": "code",
      "metadata": {
        "id": "Y9hMpu2nMkBz",
        "colab_type": "code",
        "outputId": "d8a866a0-3f5f-476b-e671-4fc934aefac2",
        "colab": {
          "base_uri": "https://localhost:8080/"
        }
      },
      "source": [
        "# plot histogram of house_age\n",
        "data.house_age.hist(bins=5, figsize=(20,3))\n",
        "plt.xlabel('house_age')\n",
        "plt.title('Histogram');"
      ],
      "execution_count": 0,
      "outputs": [
        {
          "output_type": "display_data",
          "data": {
            "image/png": "[encoded data removed]",
            "text/plain": [
              "<Figure size 1440x216 with 1 Axes>"
            ]
          },
          "metadata": {
            "tags": [],
            "needs_background": "light"
          }
        }
      ]
    },
    {
      "cell_type": "code",
      "metadata": {
        "id": "bz0kaoF3MPhf",
        "colab_type": "code",
        "outputId": "c8cfebf5-8480-44be-ab79-1d48bff8ca69",
        "colab": {
          "base_uri": "https://localhost:8080/"
        }
      },
      "source": [
        "# plot histogram of distance_to_the_nearest_MRT_station\n",
        "data.distance_to_the_nearest_MRT_station.hist(bins=5, figsize=(20,3))\n",
        "plt.xlabel('distance_to_the_nearest_MRT_station')\n",
        "plt.title('Histogram');"
      ],
      "execution_count": 0,
      "outputs": [
        {
          "output_type": "display_data",
          "data": {
            "image/png": "[encoded data removed]",
            "text/plain": [
              "<Figure size 1440x216 with 1 Axes>"
            ]
          },
          "metadata": {
            "tags": [],
            "needs_background": "light"
          }
        }
      ]
    },
    {
      "cell_type": "code",
      "metadata": {
        "id": "IzsESGweMvZc",
        "colab_type": "code",
        "outputId": "43c5d258-3502-4836-eb01-ef7c18f20bd3",
        "colab": {
          "base_uri": "https://localhost:8080/"
        }
      },
      "source": [
        "# plot histogram of distance_to_the_nearest_MRT_station\n",
        "data.number_of_convenience_stores.hist(bins=5, figsize=(20,3))\n",
        "plt.xlabel('number_of_convenience_stores')\n",
        "plt.title('Histogram');"
      ],
      "execution_count": 0,
      "outputs": [
        {
          "output_type": "display_data",
          "data": {
            "image/png": "[encoded data removed]",
            "text/plain": [
              "<Figure size 1440x216 with 1 Axes>"
            ]
          },
          "metadata": {
            "tags": [],
            "needs_background": "light"
          }
        }
      ]
    },
    {
      "cell_type": "code",
      "metadata": {
        "id": "X2NcfaY3M9s-",
        "colab_type": "code",
        "outputId": "ee0a4b0f-b888-4c57-a442-b1f5b2d8d3d4",
        "colab": {
          "base_uri": "https://localhost:8080/"
        }
      },
      "source": [
        "# plot histogram of latitude\n",
        "data.latitude.hist(bins=5, figsize=(20,3))\n",
        "plt.xlabel('latitude')\n",
        "plt.title('Histogram');"
      ],
      "execution_count": 0,
      "outputs": [
        {
          "output_type": "display_data",
          "data": {
            "image/png": "[encoded data removed]",
            "text/plain": [
              "<Figure size 1440x216 with 1 Axes>"
            ]
          },
          "metadata": {
            "tags": [],
            "needs_background": "light"
          }
        }
      ]
    },
    {
      "cell_type": "code",
      "metadata": {
        "id": "_Xwm3CtUND2S",
        "colab_type": "code",
        "outputId": "a192ffc3-61d0-43cb-d384-c65dbdfbfaf7",
        "colab": {
          "base_uri": "https://localhost:8080/"
        }
      },
      "source": [
        "# plot histogram of longitude\n",
        "data.longitude.hist(bins=5, figsize=(20,3))\n",
        "plt.xlabel('longitude')\n",
        "plt.title('Histogram');"
      ],
      "execution_count": 0,
      "outputs": [
        {
          "output_type": "display_data",
          "data": {
            "image/png": "[encoded data removed]",
            "text/plain": [
              "<Figure size 1440x216 with 1 Axes>"
            ]
          },
          "metadata": {
            "tags": [],
            "needs_background": "light"
          }
        }
      ]
    },
    {
      "cell_type": "code",
      "metadata": {
        "id": "25GMfPiYhorH",
        "colab_type": "code",
        "outputId": "75f12b02-b4c4-4b09-faed-d87172446cb7",
        "colab": {
          "base_uri": "https://localhost:8080/"
        }
      },
      "source": [
        "# plot histogram of house_price_of_unit_area\n",
        "data.house_price_of_unit_area.hist(bins=5, figsize=(20,5))\n",
        "plt.xlabel('house_price_of_unit_area')\n",
        "plt.title('Histogram');"
      ],
      "execution_count": 0,
      "outputs": [
        {
          "output_type": "display_data",
          "data": {
            "image/png": "[encoded data removed]",
            "text/plain": [
              "<Figure size 1440x360 with 1 Axes>"
            ]
          },
          "metadata": {
            "tags": [],
            "needs_background": "light"
          }
        }
      ]
    },
    {
      "cell_type": "code",
      "metadata": {
        "id": "AWVzGa9MRRYT",
        "colab_type": "code",
        "outputId": "a66d8435-634b-47cd-8844-59243fbfe9a2",
        "colab": {
          "base_uri": "https://localhost:8080/"
        }
      },
      "source": [
        "print('No of Datapoints with Price > 100: %d' % len(data[data.house_price_of_unit_area>100]))"
      ],
      "execution_count": 0,
      "outputs": [
        {
          "output_type": "stream",
          "text": [
            "No of Datapoints with Price > 100: 1\n"
          ],
          "name": "stdout"
        }
      ]
    },
    {
      "cell_type": "code",
      "metadata": {
        "id": "vMO180lqRkFd",
        "colab_type": "code",
        "outputId": "9ced6f92-e8a0-4a12-9ea4-e0c6cbe8ac14",
        "colab": {
          "base_uri": "https://localhost:8080/"
        }
      },
      "source": [
        "print('No of Datapoints with Price > 70: %d' % len(data[data.house_price_of_unit_area>70]))"
      ],
      "execution_count": 0,
      "outputs": [
        {
          "output_type": "stream",
          "text": [
            "No of Datapoints with Price > 70: 6\n"
          ],
          "name": "stdout"
        }
      ]
    },
    {
      "cell_type": "markdown",
      "metadata": {
        "id": "nzCzTfhaWDK5",
        "colab_type": "text"
      },
      "source": [
        "\n",
        "\n",
        "> Since the distribution of data for house_price_of_unit_area above 70 is not normal, these data points can skew the entire dataset and lead to overfitting. Hence we remove these outliers from our dataset.\n",
        "\n"
      ]
    },
    {
      "cell_type": "code",
      "metadata": {
        "id": "LZGWR30xhXLa",
        "colab_type": "code",
        "outputId": "d08afe75-19bd-4e04-fc5e-0cfa006ea999",
        "colab": {
          "base_uri": "https://localhost:8080/"
        }
      },
      "source": [
        "# we remove these outliers from our dataset\n",
        "print('Old size: %d' % len(data))\n",
        "data = data[data.house_price_of_unit_area<=70]\n",
        "print('New size: %d' % len(data))"
      ],
      "execution_count": 0,
      "outputs": [
        {
          "output_type": "stream",
          "text": [
            "Old size: 414\n",
            "New size: 408\n"
          ],
          "name": "stdout"
        }
      ]
    },
    {
      "cell_type": "markdown",
      "metadata": {
        "id": "8AIJa92pX88t",
        "colab_type": "text"
      },
      "source": [
        "<!-- \n",
        "\n",
        "> - So as we can see performing univariate analysis helps us detect  and remove outliers in our dataset.\n",
        "> - You can deduce other conclusions by exploring dataset.\n",
        " -->\n"
      ]
    },
    {
      "cell_type": "markdown",
      "metadata": {
        "id": "X0QRC4jS-AfH",
        "colab_type": "text"
      },
      "source": [
        "## Correlation"
      ]
    },
    {
      "cell_type": "code",
      "metadata": {
        "id": "x7-FL0b1QBfG",
        "colab_type": "code",
        "outputId": "f0911796-6c44-43ab-e0e1-0c846c35b138",
        "colab": {
          "base_uri": "https://localhost:8080/",
          "height": 296
        }
      },
      "source": [
        "data.plot(x='transaction_date', y='house_price_of_unit_area', style='o')  \n",
        "plt.title('transaction_date vs house_price_of_unit_area')  \n",
        "plt.xlabel('transaction_date')  \n",
        "plt.ylabel('house_price_of_unit_area')  \n",
        "plt.show()\n"
      ],
      "execution_count": 0,
      "outputs": [
        {
          "output_type": "display_data",
          "data": {
            "image/png": "[encoded data removed]",
            "text/plain": [
              "<Figure size 432x288 with 1 Axes>"
            ]
          },
          "metadata": {
            "tags": [],
            "needs_background": "light"
          }
        }
      ]
    },
    {
      "cell_type": "code",
      "metadata": {
        "id": "fuxJVG9iTcFm",
        "colab_type": "code",
        "outputId": "463a7671-4653-4bdf-f8f8-5b6007067340",
        "colab": {
          "base_uri": "https://localhost:8080/",
          "height": 296
        }
      },
      "source": [
        "data.plot(x='house_age', y='house_price_of_unit_area', style='o')  \n",
        "plt.title('house_age vs house_price_of_unit_area')  \n",
        "plt.xlabel('house_age')  \n",
        "plt.ylabel('house_price_of_unit_area')  \n",
        "plt.show()"
      ],
      "execution_count": 0,
      "outputs": [
        {
          "output_type": "display_data",
          "data": {
            "image/png": "[encoded data removed]",
            "text/plain": [
              "<Figure size 432x288 with 1 Axes>"
            ]
          },
          "metadata": {
            "tags": [],
            "needs_background": "light"
          }
        }
      ]
    },
    {
      "cell_type": "code",
      "metadata": {
        "id": "bO7IVTYvPIU3",
        "colab_type": "code",
        "outputId": "be560df7-68b5-4d8f-9626-623f60803114",
        "colab": {
          "base_uri": "https://localhost:8080/",
          "height": 296
        }
      },
      "source": [
        "data.plot(x='distance_to_the_nearest_MRT_station', y='house_price_of_unit_area', style='o')  \n",
        "plt.title('distance_to_the_nearest_MRT_station vs house_price_of_unit_area')  \n",
        "plt.xlabel('distance_to_the_nearest_MRT_station')  \n",
        "plt.ylabel('house_price_of_unit_area')  \n",
        "plt.show()"
      ],
      "execution_count": 0,
      "outputs": [
        {
          "output_type": "display_data",
          "data": {
            "image/png": "[encoded data removed]",
            "text/plain": [
              "<Figure size 432x288 with 1 Axes>"
            ]
          },
          "metadata": {
            "tags": [],
            "needs_background": "light"
          }
        }
      ]
    },
    {
      "cell_type": "code",
      "metadata": {
        "id": "RwPyv8QmTVlf",
        "colab_type": "code",
        "outputId": "033101e8-158a-4873-df7f-1c398706fbd2",
        "colab": {
          "base_uri": "https://localhost:8080/",
          "height": 296
        }
      },
      "source": [
        "data.plot(x='number_of_convenience_stores', y='house_price_of_unit_area', style='o')  \n",
        "plt.title('number_of_convenience_stores vs house_price_of_unit_area')  \n",
        "plt.xlabel('number_of_convenience_stores')  \n",
        "plt.ylabel('house_price_of_unit_area')  \n",
        "plt.show()"
      ],
      "execution_count": 0,
      "outputs": [
        {
          "output_type": "display_data",
          "data": {
            "image/png": "[encoded data removed]",
            "text/plain": [
              "<Figure size 432x288 with 1 Axes>"
            ]
          },
          "metadata": {
            "tags": [],
            "needs_background": "light"
          }
        }
      ]
    },
    {
      "cell_type": "markdown",
      "metadata": {
        "id": "6Cm9-MigrgOw",
        "colab_type": "text"
      },
      "source": [
        "## Feature Engineering"
      ]
    },
    {
      "cell_type": "code",
      "metadata": {
        "id": "3npV2MZ2sdjj",
        "colab_type": "code",
        "colab": {}
      },
      "source": [
        "# Convert longitude and latitude into cartesian coordinates. Assume the earth as sphere not ellipsoid\n",
        "R = 6371000 # Approximate mean radius of earth (in m)\n",
        " # lons and lats must be in radians\n",
        "lon,lat = map(np.radians, [data.longitude, data.latitude])\n",
        "\n",
        "# 'Single-point' Haversine formula\n",
        "a = np.sin(lat/2)**2 + np.cos(lat) * np.sin(lon/2)**2\n",
        "distance = 2 * R * np.arcsin(np.sqrt(a)) "
      ],
      "execution_count": 0,
      "outputs": []
    },
    {
      "cell_type": "code",
      "metadata": {
        "id": "8XYZvyXZu-XQ",
        "colab_type": "code",
        "colab": {}
      },
      "source": [
        "# Create a new variables taking absolute distance of longitude and latitude and dropping longitude and latitude\n",
        "data['distance'] = distance\n",
        "data.drop(['latitude', 'longitude'], axis = 1, inplace = True)"
      ],
      "execution_count": 0,
      "outputs": []
    },
    {
      "cell_type": "markdown",
      "metadata": {
        "id": "1HzyloFpwwJL",
        "colab_type": "text"
      },
      "source": [
        "## Linear Regression"
      ]
    },
    {
      "cell_type": "code",
      "metadata": {
        "id": "pJNU99P9avGE",
        "colab_type": "code",
        "colab": {}
      },
      "source": [
        "# split data into train test set into train and test in 70:30 ratio\n",
        "y = data[\"house_price_of_unit_area\"]\n",
        "X = data.drop([\"house_price_of_unit_area\"], axis=1)\n",
        "\n",
        "X_train, X_test, y_train, y_test = train_test_split(X, y, test_size = 0.30, random_state = 42)"
      ],
      "execution_count": 0,
      "outputs": []
    },
    {
      "cell_type": "code",
      "metadata": {
        "id": "20MIifLsiWMJ",
        "colab_type": "code",
        "outputId": "a89b2ee0-099a-434b-c563-dc7845174819",
        "colab": {
          "base_uri": "https://localhost:8080/"
        }
      },
      "source": [
        "X_train.dtypes"
      ],
      "execution_count": 0,
      "outputs": [
        {
          "output_type": "execute_result",
          "data": {
            "text/plain": [
              "transaction_date                       float64\n",
              "house_age                              float64\n",
              "distance_to_the_nearest_MRT_station    float64\n",
              "number_of_convenience_stores             int64\n",
              "distance                               float64\n",
              "dtype: object"
            ]
          },
          "metadata": {
            "tags": []
          },
          "execution_count": 25
        }
      ]
    },
    {
      "cell_type": "code",
      "metadata": {
        "id": "jTGZP15MiZIJ",
        "colab_type": "code",
        "outputId": "1625e4d0-6cbe-4c83-afef-4934e8c609be",
        "colab": {
          "base_uri": "https://localhost:8080/"
        }
      },
      "source": [
        "y_train.dtypes"
      ],
      "execution_count": 0,
      "outputs": [
        {
          "output_type": "execute_result",
          "data": {
            "text/plain": [
              "dtype('float64')"
            ]
          },
          "metadata": {
            "tags": []
          },
          "execution_count": 26
        }
      ]
    },
    {
      "cell_type": "code",
      "metadata": {
        "id": "kmj_sa4UxiAl",
        "colab_type": "code",
        "outputId": "e22c0783-5a09-405c-99e7-94cc8ed0e287",
        "colab": {
          "base_uri": "https://localhost:8080/"
        }
      },
      "source": [
        "# Train and predict using linear regression\n",
        "linear_reg = LinearRegression()\n",
        "# Train with the train dataset\n",
        "linear_reg.fit(X_train, y_train)"
      ],
      "execution_count": 0,
      "outputs": [
        {
          "output_type": "execute_result",
          "data": {
            "text/plain": [
              "LinearRegression(copy_X=True, fit_intercept=True, n_jobs=None, normalize=False)"
            ]
          },
          "metadata": {
            "tags": []
          },
          "execution_count": 27
        }
      ]
    },
    {
      "cell_type": "code",
      "metadata": {
        "id": "wFKjw1kPgfMD",
        "colab_type": "code",
        "outputId": "7f641feb-b853-4040-8017-ab80d3341132",
        "colab": {
          "base_uri": "https://localhost:8080/"
        }
      },
      "source": [
        "#\n",
        "coeff_df = pd.DataFrame(linear_reg.coef_, X_train.columns, columns=['Coefficient'])  \n",
        "coeff_df"
      ],
      "execution_count": 0,
      "outputs": [
        {
          "output_type": "execute_result",
          "data": {
            "text/html": [
              "<div>\n",
              "<style scoped>\n",
              "    .dataframe tbody tr th:only-of-type {\n",
              "        vertical-align: middle;\n",
              "    }\n",
              "\n",
              "    .dataframe tbody tr th {\n",
              "        vertical-align: top;\n",
              "    }\n",
              "\n",
              "    .dataframe thead th {\n",
              "        text-align: right;\n",
              "    }\n",
              "</style>\n",
              "<table border=\"1\" class=\"dataframe\">\n",
              "  <thead>\n",
              "    <tr style=\"text-align: right;\">\n",
              "      <th></th>\n",
              "      <th>Coefficient</th>\n",
              "    </tr>\n",
              "  </thead>\n",
              "  <tbody>\n",
              "    <tr>\n",
              "      <th>transaction_date</th>\n",
              "      <td>4.634563</td>\n",
              "    </tr>\n",
              "    <tr>\n",
              "      <th>house_age</th>\n",
              "      <td>-0.312347</td>\n",
              "    </tr>\n",
              "    <tr>\n",
              "      <th>distance_to_the_nearest_MRT_station</th>\n",
              "      <td>-0.005302</td>\n",
              "    </tr>\n",
              "    <tr>\n",
              "      <th>number_of_convenience_stores</th>\n",
              "      <td>1.575691</td>\n",
              "    </tr>\n",
              "    <tr>\n",
              "      <th>distance</th>\n",
              "      <td>-0.000622</td>\n",
              "    </tr>\n",
              "  </tbody>\n",
              "</table>\n",
              "</div>"
            ],
            "text/plain": [
              "                                     Coefficient\n",
              "transaction_date                        4.634563\n",
              "house_age                              -0.312347\n",
              "distance_to_the_nearest_MRT_station    -0.005302\n",
              "number_of_convenience_stores            1.575691\n",
              "distance                               -0.000622"
            ]
          },
          "metadata": {
            "tags": []
          },
          "execution_count": 28
        }
      ]
    },
    {
      "cell_type": "code",
      "metadata": {
        "id": "8g7ioNQriRoX",
        "colab_type": "code",
        "outputId": "1cb7f7b9-9d46-4f53-9023-72b06caa3dc2",
        "colab": {
          "base_uri": "https://localhost:8080/"
        }
      },
      "source": [
        "intercept_df = pd.Series(linear_reg.intercept_)\n",
        "intercept_df"
      ],
      "execution_count": 0,
      "outputs": [
        {
          "output_type": "execute_result",
          "data": {
            "text/plain": [
              "0   -1111.504885\n",
              "dtype: float64"
            ]
          },
          "metadata": {
            "tags": []
          },
          "execution_count": 29
        }
      ]
    },
    {
      "cell_type": "code",
      "metadata": {
        "id": "pGZwxqOcgZOD",
        "colab_type": "code",
        "colab": {}
      },
      "source": [
        "# Make prediction\n",
        "y_pred = linear_reg.predict(X_test)"
      ],
      "execution_count": 0,
      "outputs": []
    },
    {
      "cell_type": "markdown",
      "metadata": {
        "id": "n04Rl9_IlA1X",
        "colab_type": "text"
      },
      "source": [
        "## L1 Regression(Lasso)"
      ]
    },
    {
      "cell_type": "code",
      "metadata": {
        "id": "3ajbaUw4lM_8",
        "colab_type": "code",
        "outputId": "6741f7ff-8b54-4605-df7b-91b071ee087e",
        "colab": {
          "base_uri": "https://localhost:8080/"
        }
      },
      "source": [
        "lassoreg = Lasso(alpha=0.001, normalize=True)\n",
        "lassoreg.fit(X_train, y_train)"
      ],
      "execution_count": 0,
      "outputs": [
        {
          "output_type": "execute_result",
          "data": {
            "text/plain": [
              "Lasso(alpha=0.001, copy_X=True, fit_intercept=True, max_iter=1000,\n",
              "      normalize=True, positive=False, precompute=False, random_state=None,\n",
              "      selection='cyclic', tol=0.0001, warm_start=False)"
            ]
          },
          "metadata": {
            "tags": []
          },
          "execution_count": 31
        }
      ]
    },
    {
      "cell_type": "code",
      "metadata": {
        "id": "WH2yZJ8ymsF0",
        "colab_type": "code",
        "outputId": "1191c7d0-7637-4d6e-db66-18b030aa16ec",
        "colab": {
          "base_uri": "https://localhost:8080/"
        }
      },
      "source": [
        "coeff_df_L1 = pd.DataFrame(lassoreg.coef_, X_train.columns, columns=['Coefficient'])  \n",
        "coeff_df_L1"
      ],
      "execution_count": 0,
      "outputs": [
        {
          "output_type": "execute_result",
          "data": {
            "text/html": [
              "<div>\n",
              "<style scoped>\n",
              "    .dataframe tbody tr th:only-of-type {\n",
              "        vertical-align: middle;\n",
              "    }\n",
              "\n",
              "    .dataframe tbody tr th {\n",
              "        vertical-align: top;\n",
              "    }\n",
              "\n",
              "    .dataframe thead th {\n",
              "        text-align: right;\n",
              "    }\n",
              "</style>\n",
              "<table border=\"1\" class=\"dataframe\">\n",
              "  <thead>\n",
              "    <tr style=\"text-align: right;\">\n",
              "      <th></th>\n",
              "      <th>Coefficient</th>\n",
              "    </tr>\n",
              "  </thead>\n",
              "  <tbody>\n",
              "    <tr>\n",
              "      <th>transaction_date</th>\n",
              "      <td>4.565056</td>\n",
              "    </tr>\n",
              "    <tr>\n",
              "      <th>house_age</th>\n",
              "      <td>-0.310760</td>\n",
              "    </tr>\n",
              "    <tr>\n",
              "      <th>distance_to_the_nearest_MRT_station</th>\n",
              "      <td>-0.005253</td>\n",
              "    </tr>\n",
              "    <tr>\n",
              "      <th>number_of_convenience_stores</th>\n",
              "      <td>1.575441</td>\n",
              "    </tr>\n",
              "    <tr>\n",
              "      <th>distance</th>\n",
              "      <td>-0.000579</td>\n",
              "    </tr>\n",
              "  </tbody>\n",
              "</table>\n",
              "</div>"
            ],
            "text/plain": [
              "                                     Coefficient\n",
              "transaction_date                        4.565056\n",
              "house_age                              -0.310760\n",
              "distance_to_the_nearest_MRT_station    -0.005253\n",
              "number_of_convenience_stores            1.575441\n",
              "distance                               -0.000579"
            ]
          },
          "metadata": {
            "tags": []
          },
          "execution_count": 32
        }
      ]
    },
    {
      "cell_type": "code",
      "metadata": {
        "id": "L8OxI3_qsZ3t",
        "colab_type": "code",
        "outputId": "23623fb3-938d-4932-d33c-38a6bbe26298",
        "colab": {
          "base_uri": "https://localhost:8080/"
        }
      },
      "source": [
        "intercept_df_L1 = pd.Series(lassoreg.intercept_)\n",
        "intercept_df_L1"
      ],
      "execution_count": 0,
      "outputs": [
        {
          "output_type": "execute_result",
          "data": {
            "text/plain": [
              "0   -1537.471294\n",
              "dtype: float64"
            ]
          },
          "metadata": {
            "tags": []
          },
          "execution_count": 33
        }
      ]
    },
    {
      "cell_type": "code",
      "metadata": {
        "id": "vCWBlNoks1Cn",
        "colab_type": "code",
        "colab": {}
      },
      "source": [
        "# Make prediction\n",
        "y_pred_L1 = lassoreg.predict(X_test)"
      ],
      "execution_count": 0,
      "outputs": []
    },
    {
      "cell_type": "markdown",
      "metadata": {
        "id": "Og50VYBOlI7b",
        "colab_type": "text"
      },
      "source": [
        "## L2 Regularization(Ridge)"
      ]
    },
    {
      "cell_type": "code",
      "metadata": {
        "id": "905O83i4mHR6",
        "colab_type": "code",
        "outputId": "e3d20385-e470-4921-dd3e-1a917cbf7571",
        "colab": {
          "base_uri": "https://localhost:8080/"
        }
      },
      "source": [
        "ridgereg = Ridge(alpha=0, normalize=True)\n",
        "ridgereg.fit(X_train, y_train)"
      ],
      "execution_count": 0,
      "outputs": [
        {
          "output_type": "execute_result",
          "data": {
            "text/plain": [
              "Ridge(alpha=0, copy_X=True, fit_intercept=True, max_iter=None, normalize=True,\n",
              "      random_state=None, solver='auto', tol=0.001)"
            ]
          },
          "metadata": {
            "tags": []
          },
          "execution_count": 35
        }
      ]
    },
    {
      "cell_type": "code",
      "metadata": {
        "id": "94ZofNiGmtWC",
        "colab_type": "code",
        "outputId": "08bcafe6-3ee9-4f85-a4c4-b16b18d64f30",
        "colab": {
          "base_uri": "https://localhost:8080/"
        }
      },
      "source": [
        "coeff_df_L2 = pd.DataFrame(ridgereg.coef_, X_train.columns, columns=['Coefficient'])  \n",
        "coeff_df_L2"
      ],
      "execution_count": 0,
      "outputs": [
        {
          "output_type": "execute_result",
          "data": {
            "text/html": [
              "<div>\n",
              "<style scoped>\n",
              "    .dataframe tbody tr th:only-of-type {\n",
              "        vertical-align: middle;\n",
              "    }\n",
              "\n",
              "    .dataframe tbody tr th {\n",
              "        vertical-align: top;\n",
              "    }\n",
              "\n",
              "    .dataframe thead th {\n",
              "        text-align: right;\n",
              "    }\n",
              "</style>\n",
              "<table border=\"1\" class=\"dataframe\">\n",
              "  <thead>\n",
              "    <tr style=\"text-align: right;\">\n",
              "      <th></th>\n",
              "      <th>Coefficient</th>\n",
              "    </tr>\n",
              "  </thead>\n",
              "  <tbody>\n",
              "    <tr>\n",
              "      <th>transaction_date</th>\n",
              "      <td>4.634563</td>\n",
              "    </tr>\n",
              "    <tr>\n",
              "      <th>house_age</th>\n",
              "      <td>-0.312347</td>\n",
              "    </tr>\n",
              "    <tr>\n",
              "      <th>distance_to_the_nearest_MRT_station</th>\n",
              "      <td>-0.005302</td>\n",
              "    </tr>\n",
              "    <tr>\n",
              "      <th>number_of_convenience_stores</th>\n",
              "      <td>1.575691</td>\n",
              "    </tr>\n",
              "    <tr>\n",
              "      <th>distance</th>\n",
              "      <td>-0.000622</td>\n",
              "    </tr>\n",
              "  </tbody>\n",
              "</table>\n",
              "</div>"
            ],
            "text/plain": [
              "                                     Coefficient\n",
              "transaction_date                        4.634563\n",
              "house_age                              -0.312347\n",
              "distance_to_the_nearest_MRT_station    -0.005302\n",
              "number_of_convenience_stores            1.575691\n",
              "distance                               -0.000622"
            ]
          },
          "metadata": {
            "tags": []
          },
          "execution_count": 36
        }
      ]
    },
    {
      "cell_type": "code",
      "metadata": {
        "id": "QUJqPEDasYmF",
        "colab_type": "code",
        "outputId": "9766fe9d-623d-4305-88f4-968cee8fdfa5",
        "colab": {
          "base_uri": "https://localhost:8080/"
        }
      },
      "source": [
        "intercept_df_L2 = pd.Series(ridgereg.intercept_)\n",
        "intercept_df_L2"
      ],
      "execution_count": 0,
      "outputs": [
        {
          "output_type": "execute_result",
          "data": {
            "text/plain": [
              "0   -1111.504885\n",
              "dtype: float64"
            ]
          },
          "metadata": {
            "tags": []
          },
          "execution_count": 37
        }
      ]
    },
    {
      "cell_type": "code",
      "metadata": {
        "id": "tVA_Z-XlsjQe",
        "colab_type": "code",
        "colab": {}
      },
      "source": [
        "# Make prediction\n",
        "y_pred_L2 = ridgereg.predict(X_test)"
      ],
      "execution_count": 0,
      "outputs": []
    },
    {
      "cell_type": "markdown",
      "metadata": {
        "id": "dXahsf8axzcl",
        "colab_type": "text"
      },
      "source": [
        "## Loss Funtion\n",
        "- To evaluate performance of the model and optimize it"
      ]
    },
    {
      "cell_type": "markdown",
      "metadata": {
        "id": "jLim5UErfRLe",
        "colab_type": "text"
      },
      "source": [
        "### Linear Regression"
      ]
    },
    {
      "cell_type": "code",
      "metadata": {
        "id": "JJCxkKY-u-ea",
        "colab_type": "code",
        "outputId": "d6f6ca53-b1ec-4c5f-b0b6-0a4789cee120",
        "colab": {
          "base_uri": "https://localhost:8080/"
        }
      },
      "source": [
        "print('Mean Absolute Error:', metrics.mean_absolute_error(y_test, y_pred))\n",
        "print('Mean Squared Error:', metrics.mean_squared_error(y_test, y_pred))\n",
        "print('Root Mean Squared Error:', np.sqrt(metrics.mean_squared_error(y_test, y_pred)))"
      ],
      "execution_count": 0,
      "outputs": [
        {
          "output_type": "stream",
          "text": [
            "Mean Absolute Error: 6.838291270946759\n",
            "Mean Squared Error: 82.39890452544708\n",
            "Root Mean Squared Error: 9.077384233657131\n"
          ],
          "name": "stdout"
        }
      ]
    },
    {
      "cell_type": "markdown",
      "metadata": {
        "id": "Y8H5tTf8JdOG",
        "colab_type": "text"
      },
      "source": [
        "### L1 Regression"
      ]
    },
    {
      "cell_type": "code",
      "metadata": {
        "id": "hxrSw_rTeBKQ",
        "colab_type": "code",
        "outputId": "57226824-ad24-4a53-cd43-982940581a16",
        "colab": {
          "base_uri": "https://localhost:8080/"
        }
      },
      "source": [
        "print('Mean Absolute Error:', metrics.mean_absolute_error(y_test, y_pred_L1))\n",
        "print('Mean Squared Error:', metrics.mean_squared_error(y_test, y_pred_L1))\n",
        "print('Root Mean Squared Error:', np.sqrt(metrics.mean_squared_error(y_test, y_pred_L1)))"
      ],
      "execution_count": 0,
      "outputs": [
        {
          "output_type": "stream",
          "text": [
            "Mean Absolute Error: 6.835623418600706\n",
            "Mean Squared Error: 82.35315158508833\n",
            "Root Mean Squared Error: 9.074863722673102\n"
          ],
          "name": "stdout"
        }
      ]
    },
    {
      "cell_type": "markdown",
      "metadata": {
        "id": "7KEbVGroJkx9",
        "colab_type": "text"
      },
      "source": [
        "### L2 Regression"
      ]
    },
    {
      "cell_type": "code",
      "metadata": {
        "id": "YJDglR0UMGWA",
        "colab_type": "code",
        "outputId": "8d82734e-165b-4da7-cb0c-dfccb79cd741",
        "colab": {
          "base_uri": "https://localhost:8080/"
        }
      },
      "source": [
        "print('Mean Absolute Error:', metrics.mean_absolute_error(y_test, y_pred_L2))\n",
        "print('Mean Squared Error:', metrics.mean_squared_error(y_test, y_pred_L2))\n",
        "print('Root Mean Squared Error:', np.sqrt(metrics.mean_squared_error(y_test, y_pred_L2)))"
      ],
      "execution_count": 0,
      "outputs": [
        {
          "output_type": "stream",
          "text": [
            "Mean Absolute Error: 6.8382912709467965\n",
            "Mean Squared Error: 82.39890452545019\n",
            "Root Mean Squared Error: 9.077384233657304\n"
          ],
          "name": "stdout"
        }
      ]
    },
    {
      "cell_type": "code",
      "metadata": {
        "id": "Sj35N5Vl0Ngz",
        "colab_type": "code",
        "outputId": "9e845edb-d9eb-4e71-d681-b9bccd92d680",
        "colab": {
          "base_uri": "https://localhost:8080/"
        }
      },
      "source": [
        "df = pd.DataFrame({'Actual': y_test, 'Linear Regression': y_pred, })\n",
        "df.head(25)"
      ],
      "execution_count": 0,
      "outputs": [
        {
          "output_type": "execute_result",
          "data": {
            "text/html": [
              "<div>\n",
              "<style scoped>\n",
              "    .dataframe tbody tr th:only-of-type {\n",
              "        vertical-align: middle;\n",
              "    }\n",
              "\n",
              "    .dataframe tbody tr th {\n",
              "        vertical-align: top;\n",
              "    }\n",
              "\n",
              "    .dataframe thead th {\n",
              "        text-align: right;\n",
              "    }\n",
              "</style>\n",
              "<table border=\"1\" class=\"dataframe\">\n",
              "  <thead>\n",
              "    <tr style=\"text-align: right;\">\n",
              "      <th></th>\n",
              "      <th>Actual</th>\n",
              "      <th>Linear Regression</th>\n",
              "    </tr>\n",
              "  </thead>\n",
              "  <tbody>\n",
              "    <tr>\n",
              "      <th>71</th>\n",
              "      <td>40.8</td>\n",
              "      <td>31.384539</td>\n",
              "    </tr>\n",
              "    <tr>\n",
              "      <th>222</th>\n",
              "      <td>48.5</td>\n",
              "      <td>47.453642</td>\n",
              "    </tr>\n",
              "    <tr>\n",
              "      <th>262</th>\n",
              "      <td>53.0</td>\n",
              "      <td>41.478709</td>\n",
              "    </tr>\n",
              "    <tr>\n",
              "      <th>34</th>\n",
              "      <td>55.1</td>\n",
              "      <td>44.558552</td>\n",
              "    </tr>\n",
              "    <tr>\n",
              "      <th>43</th>\n",
              "      <td>34.1</td>\n",
              "      <td>35.440352</td>\n",
              "    </tr>\n",
              "    <tr>\n",
              "      <th>78</th>\n",
              "      <td>29.8</td>\n",
              "      <td>28.872967</td>\n",
              "    </tr>\n",
              "    <tr>\n",
              "      <th>139</th>\n",
              "      <td>42.5</td>\n",
              "      <td>40.259296</td>\n",
              "    </tr>\n",
              "    <tr>\n",
              "      <th>340</th>\n",
              "      <td>42.9</td>\n",
              "      <td>30.594421</td>\n",
              "    </tr>\n",
              "    <tr>\n",
              "      <th>249</th>\n",
              "      <td>15.0</td>\n",
              "      <td>5.950216</td>\n",
              "    </tr>\n",
              "    <tr>\n",
              "      <th>271</th>\n",
              "      <td>26.5</td>\n",
              "      <td>44.478724</td>\n",
              "    </tr>\n",
              "    <tr>\n",
              "      <th>373</th>\n",
              "      <td>52.2</td>\n",
              "      <td>41.649195</td>\n",
              "    </tr>\n",
              "    <tr>\n",
              "      <th>79</th>\n",
              "      <td>26.5</td>\n",
              "      <td>28.086927</td>\n",
              "    </tr>\n",
              "    <tr>\n",
              "      <th>290</th>\n",
              "      <td>37.0</td>\n",
              "      <td>26.855650</td>\n",
              "    </tr>\n",
              "    <tr>\n",
              "      <th>396</th>\n",
              "      <td>31.9</td>\n",
              "      <td>23.451223</td>\n",
              "    </tr>\n",
              "    <tr>\n",
              "      <th>157</th>\n",
              "      <td>35.6</td>\n",
              "      <td>39.073165</td>\n",
              "    </tr>\n",
              "    <tr>\n",
              "      <th>187</th>\n",
              "      <td>22.0</td>\n",
              "      <td>19.528548</td>\n",
              "    </tr>\n",
              "    <tr>\n",
              "      <th>180</th>\n",
              "      <td>15.5</td>\n",
              "      <td>9.246447</td>\n",
              "    </tr>\n",
              "    <tr>\n",
              "      <th>235</th>\n",
              "      <td>39.3</td>\n",
              "      <td>44.752301</td>\n",
              "    </tr>\n",
              "    <tr>\n",
              "      <th>9</th>\n",
              "      <td>22.1</td>\n",
              "      <td>33.580893</td>\n",
              "    </tr>\n",
              "    <tr>\n",
              "      <th>198</th>\n",
              "      <td>39.1</td>\n",
              "      <td>40.263361</td>\n",
              "    </tr>\n",
              "    <tr>\n",
              "      <th>56</th>\n",
              "      <td>41.9</td>\n",
              "      <td>42.570903</td>\n",
              "    </tr>\n",
              "    <tr>\n",
              "      <th>409</th>\n",
              "      <td>15.4</td>\n",
              "      <td>16.270115</td>\n",
              "    </tr>\n",
              "    <tr>\n",
              "      <th>291</th>\n",
              "      <td>54.4</td>\n",
              "      <td>49.339688</td>\n",
              "    </tr>\n",
              "    <tr>\n",
              "      <th>238</th>\n",
              "      <td>40.6</td>\n",
              "      <td>34.003609</td>\n",
              "    </tr>\n",
              "    <tr>\n",
              "      <th>285</th>\n",
              "      <td>55.3</td>\n",
              "      <td>33.083052</td>\n",
              "    </tr>\n",
              "  </tbody>\n",
              "</table>\n",
              "</div>"
            ],
            "text/plain": [
              "     Actual  Linear Regression\n",
              "71     40.8          31.384539\n",
              "222    48.5          47.453642\n",
              "262    53.0          41.478709\n",
              "34     55.1          44.558552\n",
              "43     34.1          35.440352\n",
              "78     29.8          28.872967\n",
              "139    42.5          40.259296\n",
              "340    42.9          30.594421\n",
              "249    15.0           5.950216\n",
              "271    26.5          44.478724\n",
              "373    52.2          41.649195\n",
              "79     26.5          28.086927\n",
              "290    37.0          26.855650\n",
              "396    31.9          23.451223\n",
              "157    35.6          39.073165\n",
              "187    22.0          19.528548\n",
              "180    15.5           9.246447\n",
              "235    39.3          44.752301\n",
              "9      22.1          33.580893\n",
              "198    39.1          40.263361\n",
              "56     41.9          42.570903\n",
              "409    15.4          16.270115\n",
              "291    54.4          49.339688\n",
              "238    40.6          34.003609\n",
              "285    55.3          33.083052"
            ]
          },
          "metadata": {
            "tags": []
          },
          "execution_count": 42
        }
      ]
    },
    {
      "cell_type": "code",
      "metadata": {
        "id": "y9vrbRGjXk_e",
        "colab_type": "code",
        "outputId": "228d5382-0728-46db-d2d2-8ca992cb688f",
        "colab": {
          "base_uri": "https://localhost:8080/"
        }
      },
      "source": [
        "df1 = df.head(25)\n",
        "df1.plot(kind='bar',figsize=(16,10))\n",
        "plt.grid(which='major', linestyle='-', linewidth='0.5', color='green')\n",
        "plt.grid(which='minor', linestyle=':', linewidth='0.5', color='black')\n",
        "plt.show()"
      ],
      "execution_count": 0,
      "outputs": [
        {
          "output_type": "display_data",
          "data": {
            "image/png": "[encoded data removed]",
            "text/plain": [
              "<Figure size 1152x720 with 1 Axes>"
            ]
          },
          "metadata": {
            "tags": [],
            "needs_background": "light"
          }
        }
      ]
    },
    {
      "cell_type": "markdown",
      "metadata": {
        "id": "MbqbDLoCQctD",
        "colab_type": "text"
      },
      "source": [
        "## Comparing Performance\n",
        "- Let's plot the target labels"
      ]
    },
    {
      "cell_type": "code",
      "metadata": {
        "id": "-t0EPb3qQwq5",
        "colab_type": "code",
        "outputId": "760b4b34-be26-4722-ff5a-0bd349bc9606",
        "colab": {
          "base_uri": "https://localhost:8080/",
          "height": 639
        }
      },
      "source": [
        "plt.figure(figsize = (20,10))\n",
        "plt.title('Non Regularized v/s L1 v/s L2')\n",
        "plt.scatter(y_pred, y_test, color = 'red', label = 'Linear Regression', marker = \"+\")\n",
        "plt.scatter(y_pred_L1, y_test, color = 'green', label = 'L1 Regularization', marker = \"*\")\n",
        "plt.scatter(y_pred_L2, y_test, color = 'blue', label = 'L2 Regularization', marker = \".\")\n",
        "plt.legend(loc = 'lower right')\n",
        "plt.xlabel('Prediction')\n",
        "plt.ylabel('Actual')"
      ],
      "execution_count": 0,
      "outputs": [
        {
          "output_type": "execute_result",
          "data": {
            "text/plain": [
              "Text(0, 0.5, 'Actual')"
            ]
          },
          "metadata": {
            "tags": []
          },
          "execution_count": 44
        },
        {
          "output_type": "display_data",
          "data": {
            "image/png": "[encoded data removed]",
            "text/plain": [
              "<Figure size 1440x720 with 1 Axes>"
            ]
          },
          "metadata": {
            "tags": [],
            "needs_background": "light"
          }
        }
      ]
    }
  ]
}